{
 "cells": [
  {
   "cell_type": "markdown",
   "id": "4d5e3fc2",
   "metadata": {},
   "source": [
    "# Temperature converter \n",
    "\n",
    "Complete the following program that converts temperature from degree F to degree C\n",
    "\n",
    "The output for the example is left on the notebook for your reference\n",
    "\n",
    "The formual for conversion is $ C = (F − 32) × 5/9  $"
   ]
  },
  {
   "cell_type": "code",
   "execution_count": 1,
   "id": "8da5a500",
   "metadata": {},
   "outputs": [
    {
     "name": "stdout",
     "output_type": "stream",
     "text": [
      "Enter temperature in degree F:\n",
      "66\n"
     ]
    }
   ],
   "source": [
    "print(\"Enter temperature in degree F:\")\n",
    "temp_f = input()"
   ]
  },
  {
   "cell_type": "code",
   "execution_count": 2,
   "id": "f6c72c49",
   "metadata": {},
   "outputs": [
    {
     "name": "stdout",
     "output_type": "stream",
     "text": [
      "The temprature in degree C is 18.89\n"
     ]
    }
   ],
   "source": [
    "# your code here"
   ]
  },
  {
   "cell_type": "markdown",
   "id": "51658941",
   "metadata": {},
   "source": [
    "# Temperature converter in English\n",
    "\n",
    "Modify the above program to accept in put in English, for example instead of `66`, the user enters `sixty six`\n",
    "\n",
    "Assume that the valid range of values is zero to ninety nine"
   ]
  },
  {
   "cell_type": "code",
   "execution_count": 3,
   "id": "268d02c0",
   "metadata": {},
   "outputs": [
    {
     "name": "stdout",
     "output_type": "stream",
     "text": [
      "Enter temperature in degree F:\n",
      "sixty six\n"
     ]
    }
   ],
   "source": [
    "print(\"Enter temperature in degree F:\")\n",
    "temp_f = input()"
   ]
  },
  {
   "cell_type": "code",
   "execution_count": 4,
   "id": "135f0161",
   "metadata": {},
   "outputs": [],
   "source": [
    "#hint use this dict\n",
    "letter2number = {'zero':0, 'one':1, 'two':2, 'three':3, 'four':4, 'five':5, 'six':6, 'seven':7, 'eight':8, 'nine':9,\n",
    "                'ten':10, 'twenty':20, 'thirty':30, 'forty':40, 'fifty':50, 'sixty':60, 'seventy':70, 'eighty':80, 'ninety':90}"
   ]
  },
  {
   "cell_type": "code",
   "execution_count": 5,
   "id": "5aaae69f",
   "metadata": {},
   "outputs": [
    {
     "name": "stdout",
     "output_type": "stream",
     "text": [
      "The temprature in degree C is 18.89\n"
     ]
    }
   ],
   "source": [
    "# your code here  "
   ]
  },
  {
   "cell_type": "code",
   "execution_count": null,
   "id": "6e25c020",
   "metadata": {},
   "outputs": [],
   "source": []
  }
 ],
 "metadata": {
  "kernelspec": {
   "display_name": "Python 3 (ipykernel)",
   "language": "python",
   "name": "python3"
  },
  "language_info": {
   "codemirror_mode": {
    "name": "ipython",
    "version": 3
   },
   "file_extension": ".py",
   "mimetype": "text/x-python",
   "name": "python",
   "nbconvert_exporter": "python",
   "pygments_lexer": "ipython3",
   "version": "3.9.7"
  }
 },
 "nbformat": 4,
 "nbformat_minor": 5
}
