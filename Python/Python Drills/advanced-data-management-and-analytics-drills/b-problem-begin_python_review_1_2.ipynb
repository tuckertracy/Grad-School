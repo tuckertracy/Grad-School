{
 "cells": [
  {
   "cell_type": "code",
   "execution_count": 1,
   "id": "f7303269",
   "metadata": {},
   "outputs": [],
   "source": [
    "# us states names\n",
    "states = [\"Alabama\", \"Alaska\", \"Arizona\", \"Arkansas\", \"California\", \"Colorado\", \"Connecticut\", \"Delaware\", \"Florida\", \"Georgia\", \"Hawaii\", \"Idaho\", \"Illinois\", \"Indiana\", \"Iowa\", \"Kansas\", \"Kentucky\", \"Louisiana\", \"Maine\", \"Maryland\", \"Massachusetts\", \"Michigan\", \"Minnesota\", \"Mississippi\", \"Missouri\", \"Montana\", \"Nebraska\", \"Nevada\", \"New Hampshire\", \"New Jersey\", \"New Mexico\", \"New York\", \"North Carolina\", \"North Dakota\", \"Ohio\", \"Oklahoma\", \"Oregon\", \"Pennsylvania\", \"Rhode Island\", \"South Carolina\", \"South Dakota\", \"Tennessee\", \"Texas\", \"Utah\", \"Vermont\", \"Virginia\", \"Washington\", \"West Virginia\", \"Wisconsin\", \"Wyoming\"]\n",
    "\n",
    "# us states abbreviations\n",
    "states_abbrev = [\"AL\", \"AK\", \"AZ\", \"AR\", \"CA\", \"CO\", \"CT\", \"DE\", \"FL\", \"GA\", \"HI\", \"ID\", \"IL\", \"IN\", \"IA\", \"KS\", \"KY\", \"LA\", \"ME\", \"MD\", \"MA\", \"MI\", \"MN\", \"MS\", \"MO\", \"MT\", \"NE\", \"NV\", \"NH\", \"NJ\", \"NM\", \"NY\", \"NC\", \"ND\", \"OH\", \"OK\", \"OR\", \"PA\", \"RI\", \"SC\", \"SD\", \"TN\", \"TX\", \"UT\", \"VT\", \"VA\", \"WA\", \"WV\", \"WI\", \"WY\"]"
   ]
  },
  {
   "cell_type": "markdown",
   "id": "929d0579",
   "metadata": {},
   "source": [
    "Create a dictionary to map each state to its abbreviation"
   ]
  },
  {
   "cell_type": "code",
   "execution_count": null,
   "id": "6bfa57fd",
   "metadata": {},
   "outputs": [],
   "source": []
  },
  {
   "cell_type": "markdown",
   "id": "7c75934b",
   "metadata": {},
   "source": [
    "#  Data processing practice\n",
    "\n",
    "Select records where the value is not `\"GREEN\"`"
   ]
  },
  {
   "cell_type": "code",
   "execution_count": 2,
   "id": "4d0512e1",
   "metadata": {},
   "outputs": [],
   "source": [
    "records = [\"RED\", \"BLUE\", \"BLUE\", \"GREEN\", \"RED\"]"
   ]
  },
  {
   "cell_type": "markdown",
   "id": "024249c1",
   "metadata": {},
   "source": [
    "Select records of products from China"
   ]
  },
  {
   "cell_type": "code",
   "execution_count": 3,
   "id": "caa32cf4",
   "metadata": {},
   "outputs": [],
   "source": [
    "# sample records of products, each product has a name, price, and country of origin\n",
    "records = [{'name': 'office chair', 'price': 150, 'coo':'China'},\n",
    "           {'name': 'bike', 'price': 800, 'coo': 'China'},\n",
    "           {'name': 'car', 'price': 40000, 'coo': 'Germany'},\n",
    "           {'name': 'laptop', 'price': 2000, 'coo': 'USA'},\n",
    "           {'name': 'desk', 'price': 300, 'coo': 'China'},\n",
    "           {'name': 'lamp', 'price': 50, 'coo': 'China'}]"
   ]
  },
  {
   "cell_type": "code",
   "execution_count": null,
   "id": "6e25c020",
   "metadata": {},
   "outputs": [],
   "source": []
  },
  {
   "cell_type": "markdown",
   "id": "a845f965",
   "metadata": {},
   "source": [
    "What is the most expensive product?"
   ]
  },
  {
   "cell_type": "code",
   "execution_count": null,
   "id": "064156c3",
   "metadata": {},
   "outputs": [],
   "source": []
  },
  {
   "cell_type": "markdown",
   "id": "04e12a88",
   "metadata": {},
   "source": [
    "What is the most expensive product from China?"
   ]
  },
  {
   "cell_type": "code",
   "execution_count": null,
   "id": "d5d4d4a5",
   "metadata": {},
   "outputs": [],
   "source": []
  },
  {
   "cell_type": "code",
   "execution_count": 4,
   "id": "b3f906cd",
   "metadata": {},
   "outputs": [],
   "source": [
    "records = [('office chair', 150, 'China'),\n",
    "           ('bike', 800, 'China'),\n",
    "           ('car', 40000, 'Germany'),\n",
    "           ('laptop', 2000, 'USA'),\n",
    "           ('desk', 300, 'China'),\n",
    "           ('lamp', 50, 'China')]"
   ]
  },
  {
   "cell_type": "markdown",
   "id": "403d92c8",
   "metadata": {},
   "source": [
    "- Select records of products from China\n",
    "- What is the most expensive product?\n",
    "- What is the most expensive product from China?\n"
   ]
  },
  {
   "cell_type": "code",
   "execution_count": 5,
   "id": "09ea10b3",
   "metadata": {},
   "outputs": [
    {
     "data": {
      "text/html": [
       "<div>\n",
       "<style scoped>\n",
       "    .dataframe tbody tr th:only-of-type {\n",
       "        vertical-align: middle;\n",
       "    }\n",
       "\n",
       "    .dataframe tbody tr th {\n",
       "        vertical-align: top;\n",
       "    }\n",
       "\n",
       "    .dataframe thead th {\n",
       "        text-align: right;\n",
       "    }\n",
       "</style>\n",
       "<table border=\"1\" class=\"dataframe\">\n",
       "  <thead>\n",
       "    <tr style=\"text-align: right;\">\n",
       "      <th></th>\n",
       "      <th>name</th>\n",
       "      <th>price</th>\n",
       "      <th>coo</th>\n",
       "    </tr>\n",
       "  </thead>\n",
       "  <tbody>\n",
       "    <tr>\n",
       "      <th>0</th>\n",
       "      <td>office chair</td>\n",
       "      <td>150</td>\n",
       "      <td>China</td>\n",
       "    </tr>\n",
       "    <tr>\n",
       "      <th>1</th>\n",
       "      <td>bike</td>\n",
       "      <td>800</td>\n",
       "      <td>China</td>\n",
       "    </tr>\n",
       "    <tr>\n",
       "      <th>2</th>\n",
       "      <td>car</td>\n",
       "      <td>40000</td>\n",
       "      <td>Germany</td>\n",
       "    </tr>\n",
       "    <tr>\n",
       "      <th>3</th>\n",
       "      <td>laptop</td>\n",
       "      <td>2000</td>\n",
       "      <td>USA</td>\n",
       "    </tr>\n",
       "    <tr>\n",
       "      <th>4</th>\n",
       "      <td>desk</td>\n",
       "      <td>300</td>\n",
       "      <td>China</td>\n",
       "    </tr>\n",
       "    <tr>\n",
       "      <th>5</th>\n",
       "      <td>lamp</td>\n",
       "      <td>50</td>\n",
       "      <td>China</td>\n",
       "    </tr>\n",
       "  </tbody>\n",
       "</table>\n",
       "</div>"
      ],
      "text/plain": [
       "           name  price      coo\n",
       "0  office chair    150    China\n",
       "1          bike    800    China\n",
       "2           car  40000  Germany\n",
       "3        laptop   2000      USA\n",
       "4          desk    300    China\n",
       "5          lamp     50    China"
      ]
     },
     "execution_count": 5,
     "metadata": {},
     "output_type": "execute_result"
    }
   ],
   "source": [
    "import pandas as pd\n",
    "df = pd.DataFrame(records, columns=['name', 'price', 'coo'])\n",
    "df"
   ]
  },
  {
   "cell_type": "markdown",
   "id": "045b3093",
   "metadata": {},
   "source": [
    "- Select records of products from China\n",
    "- What is the most expensive product?\n",
    "- What is the most expensive product from China?"
   ]
  },
  {
   "cell_type": "code",
   "execution_count": null,
   "id": "140d0016",
   "metadata": {},
   "outputs": [],
   "source": []
  }
 ],
 "metadata": {
  "kernelspec": {
   "display_name": "Python 3 (ipykernel)",
   "language": "python",
   "name": "python3"
  },
  "language_info": {
   "codemirror_mode": {
    "name": "ipython",
    "version": 3
   },
   "file_extension": ".py",
   "mimetype": "text/x-python",
   "name": "python",
   "nbconvert_exporter": "python",
   "pygments_lexer": "ipython3",
   "version": "3.9.7"
  }
 },
 "nbformat": 4,
 "nbformat_minor": 5
}
