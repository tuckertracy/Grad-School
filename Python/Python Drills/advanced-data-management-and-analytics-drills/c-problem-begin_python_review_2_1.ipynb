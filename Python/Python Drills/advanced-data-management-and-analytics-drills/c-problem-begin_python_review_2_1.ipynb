{
 "cells": [
  {
   "cell_type": "markdown",
   "id": "a7baca4a",
   "metadata": {},
   "source": [
    "# String and regular expression practice"
   ]
  },
  {
   "cell_type": "markdown",
   "id": "5cea21e5",
   "metadata": {},
   "source": [
    "The file `amazon_alexa.tsv` contains reviews of Amazon Alexa products.\n",
    "Each review has a rating, posting date, product variation, review text, and feedback.\n",
    "You can open the file in Excel but because this file is a text file, we will read it into `lines`, a list of `str`."
   ]
  },
  {
   "cell_type": "code",
   "execution_count": 2,
   "id": "5fbc66d5",
   "metadata": {},
   "outputs": [],
   "source": [
    "with open('data/amazon_alexa.tsv', 'r', encoding='utf-8') as f:\n",
    "    lines = f.readlines()"
   ]
  },
  {
   "cell_type": "code",
   "execution_count": 3,
   "id": "9826cbc0",
   "metadata": {},
   "outputs": [
    {
     "name": "stdout",
     "output_type": "stream",
     "text": [
      "﻿rating\tdate\tvariation\tverified_reviews\tfeedback\n",
      "\n"
     ]
    }
   ],
   "source": [
    "header = lines[0]\n",
    "print(header)"
   ]
  },
  {
   "cell_type": "code",
   "execution_count": 4,
   "id": "1eedcd6c",
   "metadata": {},
   "outputs": [
    {
     "name": "stdout",
     "output_type": "stream",
     "text": [
      "5\t31-Jul-18\tCharcoal Fabric \tLove my Echo!\t1\n",
      "\n"
     ]
    }
   ],
   "source": [
    "line1 = lines[1]\n",
    "print(line1)"
   ]
  },
  {
   "cell_type": "markdown",
   "id": "5c3930f4",
   "metadata": {},
   "source": [
    "- How many reviews are there?\n",
    "- Print the last three reviews (i.e., last three lines).\n",
    "- Report the number of reviews in every rating category (i.e., how many in 1, 2, 3, 4, and 5).\n",
    "- Extract the reviews containing the word `trouble`. How many reviews have this word, print the first three ones.\n",
    "- We would like to know if customer mention the price in their reviews. From reviews containing the word `price` and extract price information (any number formatted as a price such as $14.99 etc)"
   ]
  },
  {
   "cell_type": "code",
   "execution_count": null,
   "id": "e6f3da96",
   "metadata": {},
   "outputs": [],
   "source": []
  }
 ],
 "metadata": {
  "kernelspec": {
   "display_name": "Python 3 (ipykernel)",
   "language": "python",
   "name": "python3"
  },
  "language_info": {
   "codemirror_mode": {
    "name": "ipython",
    "version": 3
   },
   "file_extension": ".py",
   "mimetype": "text/x-python",
   "name": "python",
   "nbconvert_exporter": "python",
   "pygments_lexer": "ipython3",
   "version": "3.9.7"
  }
 },
 "nbformat": 4,
 "nbformat_minor": 5
}
