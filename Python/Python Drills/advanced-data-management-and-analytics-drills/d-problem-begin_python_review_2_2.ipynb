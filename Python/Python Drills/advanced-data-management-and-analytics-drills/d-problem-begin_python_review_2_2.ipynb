{
 "cells": [
  {
   "cell_type": "markdown",
   "id": "a18218d2",
   "metadata": {},
   "source": [
    "# Function practice"
   ]
  },
  {
   "cell_type": "code",
   "execution_count": 1,
   "id": "51ba9bf5",
   "metadata": {},
   "outputs": [],
   "source": [
    "import random"
   ]
  },
  {
   "cell_type": "code",
   "execution_count": 2,
   "id": "58454824",
   "metadata": {},
   "outputs": [],
   "source": [
    "def gen_password(charset, length):\n",
    "    # complete the function to return a random string from charset of the specified length\n",
    "    pass"
   ]
  },
  {
   "cell_type": "code",
   "execution_count": null,
   "id": "88abd8dc",
   "metadata": {},
   "outputs": [],
   "source": []
  },
  {
   "cell_type": "code",
   "execution_count": 3,
   "id": "32ce93a7",
   "metadata": {},
   "outputs": [],
   "source": [
    "pass1 = gen_password(\"abcd#$%12345\", 5)\n",
    "pass1"
   ]
  },
  {
   "cell_type": "code",
   "execution_count": null,
   "id": "4f981cb8",
   "metadata": {},
   "outputs": [],
   "source": []
  },
  {
   "cell_type": "markdown",
   "id": "a0a0ba44",
   "metadata": {},
   "source": [
    "write a function that generates alphanumeric password of a chosen length.\n",
    "Use `gen_password` in this new function"
   ]
  },
  {
   "cell_type": "code",
   "execution_count": 4,
   "id": "d8818251",
   "metadata": {},
   "outputs": [],
   "source": [
    "def gen_alphanumeric_password(length):\n",
    "    pass"
   ]
  },
  {
   "cell_type": "code",
   "execution_count": 5,
   "id": "48bd3bfe",
   "metadata": {},
   "outputs": [],
   "source": [
    "pass2 = gen_alphanumeric_password(6)\n",
    "pass2"
   ]
  },
  {
   "cell_type": "markdown",
   "id": "825a4ed6",
   "metadata": {},
   "source": [
    "write a function that returns a function to generate a password from a chosen charset"
   ]
  },
  {
   "cell_type": "code",
   "execution_count": null,
   "id": "d1309718",
   "metadata": {},
   "outputs": [],
   "source": []
  },
  {
   "cell_type": "code",
   "execution_count": 6,
   "id": "5b1e932f",
   "metadata": {},
   "outputs": [],
   "source": [
    "def create_password_generator(charset):\n",
    "    pass"
   ]
  },
  {
   "cell_type": "code",
   "execution_count": null,
   "id": "575fa49a",
   "metadata": {},
   "outputs": [],
   "source": []
  },
  {
   "cell_type": "code",
   "execution_count": null,
   "id": "0b918ba4",
   "metadata": {},
   "outputs": [],
   "source": [
    "gen_alphanumeric_password = create_password_generator(\"abcdefghijklmnopqrstuvwxyz0123456789\")\n",
    "pass3 = gen_alphanumeric_password(5)\n",
    "pass3"
   ]
  },
  {
   "cell_type": "code",
   "execution_count": null,
   "id": "e6891bba",
   "metadata": {},
   "outputs": [],
   "source": [
    "gen_alphanumeric_password"
   ]
  }
 ],
 "metadata": {
  "kernelspec": {
   "display_name": "Python 3 (ipykernel)",
   "language": "python",
   "name": "python3"
  },
  "language_info": {
   "codemirror_mode": {
    "name": "ipython",
    "version": 3
   },
   "file_extension": ".py",
   "mimetype": "text/x-python",
   "name": "python",
   "nbconvert_exporter": "python",
   "pygments_lexer": "ipython3",
   "version": "3.9.7"
  }
 },
 "nbformat": 4,
 "nbformat_minor": 5
}
