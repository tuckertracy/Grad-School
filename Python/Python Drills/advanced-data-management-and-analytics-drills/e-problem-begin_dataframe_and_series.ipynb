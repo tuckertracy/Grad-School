{
 "cells": [
  {
   "cell_type": "code",
   "execution_count": 1,
   "metadata": {},
   "outputs": [],
   "source": [
    "import pandas as pd"
   ]
  },
  {
   "cell_type": "code",
   "execution_count": 2,
   "metadata": {},
   "outputs": [
    {
     "data": {
      "text/plain": [
       "A     10\n",
       "A-     5\n",
       "B+     6\n",
       "B      6\n",
       "B-     4\n",
       "C+     3\n",
       "C      1\n",
       "C-     0\n",
       "D      0\n",
       "F      1\n",
       "dtype: int64"
      ]
     },
     "execution_count": 2,
     "metadata": {},
     "output_type": "execute_result"
    }
   ],
   "source": [
    "numbers = [10, 5, 6, 6, 4, 3, 1, 0, 0, 1]\n",
    "labels = ['A', 'A-', 'B+', 'B', 'B-', 'C+', 'C', 'C-', 'D', 'F']\n",
    "\n",
    "data1 = pd.Series(numbers, index=labels)\n",
    "data1"
   ]
  },
  {
   "cell_type": "markdown",
   "metadata": {},
   "source": [
    "- How many entries are there in `data1`\n",
    "- What are the values?\n",
    "- What is the index of the series `data1`?\n",
    "- What is the value associated with `A`?\n",
    "- Extract the subseries of values associated with grades of C and lower\n",
    "- Convert `data1` to a dictionary"
   ]
  },
  {
   "cell_type": "code",
   "execution_count": 34,
   "metadata": {},
   "outputs": [
    {
     "name": "stdout",
     "output_type": "stream",
     "text": [
      "10\n",
      "[10  5  6  6  4  3  1  0  0  1]\n",
      "Index(['A', 'A-', 'B+', 'B', 'B-', 'C+', 'C', 'C-', 'D', 'F'], dtype='object')\n",
      "10\n",
      "C     1\n",
      "C-    0\n",
      "D     0\n",
      "F     1\n",
      "dtype: int64\n",
      "{'A': 10, 'A-': 5, 'B+': 6, 'B': 6, 'B-': 4, 'C+': 3, 'C': 1, 'C-': 0, 'D': 0, 'F': 1}\n"
     ]
    }
   ],
   "source": [
    "#1)\n",
    "print(len(data1))\n",
    "\n",
    "#2)\n",
    "print(data1.values)\n",
    "\n",
    "#3)\n",
    "print(data1.index)\n",
    "\n",
    "#4)\n",
    "print(data1['A'])\n",
    "\n",
    "#5)\n",
    "print(data1['C':])\n",
    "\n",
    "#6)\n",
    "print(dict(data1))"
   ]
  },
  {
   "cell_type": "markdown",
   "metadata": {},
   "source": [
    "Assuming `data` is about students taking the course `MIST5730`, and the data below is about students taking the course `MIST6380`"
   ]
  },
  {
   "cell_type": "code",
   "execution_count": 35,
   "metadata": {},
   "outputs": [
    {
     "data": {
      "text/plain": [
       "A      8\n",
       "A-     9\n",
       "B+    13\n",
       "B      2\n",
       "B-     4\n",
       "C+     2\n",
       "C      0\n",
       "C-     0\n",
       "D      0\n",
       "F      0\n",
       "dtype: int64"
      ]
     },
     "execution_count": 35,
     "metadata": {},
     "output_type": "execute_result"
    }
   ],
   "source": [
    "grades = {'A': 8, 'A-': 9, 'B+': 13, 'B': 2, 'B-': 4, 'C+': 2, 'C': 0, 'C-': 0, 'D': 0, 'F': 0}\n",
    "data2 = pd.Series(grades)\n",
    "data2"
   ]
  },
  {
   "cell_type": "markdown",
   "metadata": {},
   "source": [
    "\n",
    "- create another series `data2` containing the data in the dictionary `grades`\n",
    "- create a data frame containing the data of the two courses. The first column should be labeled `MIST5730` and the second columns should be `MIST6380`\n",
    "- What is the index of the data frame?\n",
    "- What are the columns of the data frame?\n",
    "- How many entries are there in the data frame?\n",
    "- Extract the data pertaining to `MIST6380` from the data frame. Ensure it is the same data as `data2`"
   ]
  },
  {
   "cell_type": "code",
   "execution_count": 37,
   "metadata": {},
   "outputs": [
    {
     "name": "stdout",
     "output_type": "stream",
     "text": [
      "    MIST5730  MIST6380\n",
      "A         10         8\n",
      "A-         5         9\n",
      "B+         6        13\n",
      "B          6         2\n",
      "B-         4         4\n",
      "C+         3         2\n",
      "C          1         0\n",
      "C-         0         0\n",
      "D          0         0\n",
      "F          1         0\n",
      "Index(['A', 'A-', 'B+', 'B', 'B-', 'C+', 'C', 'C-', 'D', 'F'], dtype='object')\n",
      "Index(['MIST5730', 'MIST6380'], dtype='object')\n",
      "20\n",
      "A      8\n",
      "A-     9\n",
      "B+    13\n",
      "B      2\n",
      "B-     4\n",
      "C+     2\n",
      "C      0\n",
      "C-     0\n",
      "D      0\n",
      "F      0\n",
      "Name: MIST6380, dtype: int64\n"
     ]
    }
   ],
   "source": [
    "#work here\n",
    "\n",
    "#2)\n",
    "df = pd.DataFrame({'MIST5730': data1,'MIST6380':data2})\n",
    "print(df)\n",
    "\n",
    "#3)\n",
    "print(df.index)\n",
    "\n",
    "#4)\n",
    "print(df.columns)\n",
    "\n",
    "#5)\n",
    "print(df.size)\n",
    "\n",
    "#6)\n",
    "print(df['MIST6380'])"
   ]
  },
  {
   "cell_type": "code",
   "execution_count": null,
   "metadata": {},
   "outputs": [],
   "source": []
  }
 ],
 "metadata": {
  "kernelspec": {
   "display_name": "base",
   "language": "python",
   "name": "python3"
  },
  "language_info": {
   "codemirror_mode": {
    "name": "ipython",
    "version": 3
   },
   "file_extension": ".py",
   "mimetype": "text/x-python",
   "name": "python",
   "nbconvert_exporter": "python",
   "pygments_lexer": "ipython3",
   "version": "3.12.4"
  }
 },
 "nbformat": 4,
 "nbformat_minor": 4
}
