{
 "cells": [
  {
   "cell_type": "code",
   "execution_count": 1,
   "metadata": {},
   "outputs": [],
   "source": [
    "import pandas as pd\n",
    "import numpy as np"
   ]
  },
  {
   "cell_type": "markdown",
   "metadata": {},
   "source": [
    "The file `eastmank.xlsx` contains the actual revenue, consumer price index, and real revenue\n",
    "of the Eastman Kodak company from 1975 to 1992"
   ]
  },
  {
   "cell_type": "code",
   "execution_count": 12,
   "metadata": {},
   "outputs": [
    {
     "data": {
      "text/html": [
       "<div>\n",
       "<style scoped>\n",
       "    .dataframe tbody tr th:only-of-type {\n",
       "        vertical-align: middle;\n",
       "    }\n",
       "\n",
       "    .dataframe tbody tr th {\n",
       "        vertical-align: top;\n",
       "    }\n",
       "\n",
       "    .dataframe thead th {\n",
       "        text-align: right;\n",
       "    }\n",
       "</style>\n",
       "<table border=\"1\" class=\"dataframe\">\n",
       "  <thead>\n",
       "    <tr style=\"text-align: right;\">\n",
       "      <th></th>\n",
       "      <th>Year</th>\n",
       "      <th>Coded Year</th>\n",
       "      <th>Act-Revenue</th>\n",
       "      <th>CPI-U</th>\n",
       "      <th>Real-Revenue</th>\n",
       "    </tr>\n",
       "  </thead>\n",
       "  <tbody>\n",
       "    <tr>\n",
       "      <th>0</th>\n",
       "      <td>1975</td>\n",
       "      <td>0</td>\n",
       "      <td>5.0</td>\n",
       "      <td>53.8</td>\n",
       "      <td>9.3</td>\n",
       "    </tr>\n",
       "    <tr>\n",
       "      <th>1</th>\n",
       "      <td>1976</td>\n",
       "      <td>1</td>\n",
       "      <td>5.4</td>\n",
       "      <td>56.9</td>\n",
       "      <td>9.5</td>\n",
       "    </tr>\n",
       "    <tr>\n",
       "      <th>2</th>\n",
       "      <td>1977</td>\n",
       "      <td>2</td>\n",
       "      <td>6.0</td>\n",
       "      <td>60.6</td>\n",
       "      <td>9.9</td>\n",
       "    </tr>\n",
       "    <tr>\n",
       "      <th>3</th>\n",
       "      <td>1978</td>\n",
       "      <td>3</td>\n",
       "      <td>7.0</td>\n",
       "      <td>65.2</td>\n",
       "      <td>10.7</td>\n",
       "    </tr>\n",
       "    <tr>\n",
       "      <th>4</th>\n",
       "      <td>1979</td>\n",
       "      <td>4</td>\n",
       "      <td>8.0</td>\n",
       "      <td>72.6</td>\n",
       "      <td>11.0</td>\n",
       "    </tr>\n",
       "  </tbody>\n",
       "</table>\n",
       "</div>"
      ],
      "text/plain": [
       "   Year  Coded Year  Act-Revenue  CPI-U  Real-Revenue\n",
       "0  1975           0          5.0   53.8           9.3\n",
       "1  1976           1          5.4   56.9           9.5\n",
       "2  1977           2          6.0   60.6           9.9\n",
       "3  1978           3          7.0   65.2          10.7\n",
       "4  1979           4          8.0   72.6          11.0"
      ]
     },
     "execution_count": 12,
     "metadata": {},
     "output_type": "execute_result"
    }
   ],
   "source": [
    "data = pd.read_excel('data/eastmank.xlsx')\n",
    "data.head()"
   ]
  },
  {
   "cell_type": "markdown",
   "metadata": {},
   "source": [
    "- The revenues are in million of dollars, multiply `Act-Revenue` and `Real-Revenue` by one million and assign back to the data frame\n",
    "- Calculate the difference between `Real-Revenue` and `Act-Revenue`, create a new column `Opt-Expenses` in the data frame\n",
    "- Report the average `Act-Revenue` and `Real-Revenue` in a series\n",
    "- Subtract the mean of `Act-Revenue` and `Real-Revenue` from the values of `Act-Revenue` and `Real-Revenue`\n",
    "- In which years did the company have above than average `Act-Revenue`? Return the results in a sorted list\n",
    "- In which years did the company have above than average `Real-Revenue`? Return the results in a sorted list\n",
    "-  In which years did the company have above than average `Real-Revenue` but below average `Real-Revenue`? Return the results in a sorted list"
   ]
  },
  {
   "cell_type": "code",
   "execution_count": 13,
   "metadata": {},
   "outputs": [],
   "source": [
    "data[['Act-Revenue','Real-Revenue']] = data[['Act-Revenue','Real-Revenue']]*1e6"
   ]
  },
  {
   "cell_type": "code",
   "execution_count": 14,
   "metadata": {},
   "outputs": [],
   "source": [
    "data['Opt-Expenses'] = data['Act-Revenue']-data['Real-Revenue']"
   ]
  },
  {
   "cell_type": "code",
   "execution_count": 15,
   "metadata": {},
   "outputs": [
    {
     "data": {
      "text/html": [
       "<div>\n",
       "<style scoped>\n",
       "    .dataframe tbody tr th:only-of-type {\n",
       "        vertical-align: middle;\n",
       "    }\n",
       "\n",
       "    .dataframe tbody tr th {\n",
       "        vertical-align: top;\n",
       "    }\n",
       "\n",
       "    .dataframe thead th {\n",
       "        text-align: right;\n",
       "    }\n",
       "</style>\n",
       "<table border=\"1\" class=\"dataframe\">\n",
       "  <thead>\n",
       "    <tr style=\"text-align: right;\">\n",
       "      <th></th>\n",
       "      <th>Year</th>\n",
       "      <th>Coded Year</th>\n",
       "      <th>Act-Revenue</th>\n",
       "      <th>CPI-U</th>\n",
       "      <th>Real-Revenue</th>\n",
       "      <th>Opt-Expenses</th>\n",
       "    </tr>\n",
       "  </thead>\n",
       "  <tbody>\n",
       "    <tr>\n",
       "      <th>0</th>\n",
       "      <td>1975</td>\n",
       "      <td>0</td>\n",
       "      <td>5000000.0</td>\n",
       "      <td>53.8</td>\n",
       "      <td>9300000.0</td>\n",
       "      <td>-4300000.0</td>\n",
       "    </tr>\n",
       "    <tr>\n",
       "      <th>1</th>\n",
       "      <td>1976</td>\n",
       "      <td>1</td>\n",
       "      <td>5400000.0</td>\n",
       "      <td>56.9</td>\n",
       "      <td>9500000.0</td>\n",
       "      <td>-4100000.0</td>\n",
       "    </tr>\n",
       "    <tr>\n",
       "      <th>2</th>\n",
       "      <td>1977</td>\n",
       "      <td>2</td>\n",
       "      <td>6000000.0</td>\n",
       "      <td>60.6</td>\n",
       "      <td>9900000.0</td>\n",
       "      <td>-3900000.0</td>\n",
       "    </tr>\n",
       "    <tr>\n",
       "      <th>3</th>\n",
       "      <td>1978</td>\n",
       "      <td>3</td>\n",
       "      <td>7000000.0</td>\n",
       "      <td>65.2</td>\n",
       "      <td>10700000.0</td>\n",
       "      <td>-3700000.0</td>\n",
       "    </tr>\n",
       "    <tr>\n",
       "      <th>4</th>\n",
       "      <td>1979</td>\n",
       "      <td>4</td>\n",
       "      <td>8000000.0</td>\n",
       "      <td>72.6</td>\n",
       "      <td>11000000.0</td>\n",
       "      <td>-3000000.0</td>\n",
       "    </tr>\n",
       "    <tr>\n",
       "      <th>5</th>\n",
       "      <td>1980</td>\n",
       "      <td>5</td>\n",
       "      <td>9700000.0</td>\n",
       "      <td>82.4</td>\n",
       "      <td>11800000.0</td>\n",
       "      <td>-2100000.0</td>\n",
       "    </tr>\n",
       "    <tr>\n",
       "      <th>6</th>\n",
       "      <td>1981</td>\n",
       "      <td>6</td>\n",
       "      <td>10300000.0</td>\n",
       "      <td>90.9</td>\n",
       "      <td>11300000.0</td>\n",
       "      <td>-1000000.0</td>\n",
       "    </tr>\n",
       "    <tr>\n",
       "      <th>7</th>\n",
       "      <td>1982</td>\n",
       "      <td>7</td>\n",
       "      <td>10800000.0</td>\n",
       "      <td>96.5</td>\n",
       "      <td>11200000.0</td>\n",
       "      <td>-400000.0</td>\n",
       "    </tr>\n",
       "    <tr>\n",
       "      <th>8</th>\n",
       "      <td>1983</td>\n",
       "      <td>8</td>\n",
       "      <td>10200000.0</td>\n",
       "      <td>99.6</td>\n",
       "      <td>10200000.0</td>\n",
       "      <td>0.0</td>\n",
       "    </tr>\n",
       "    <tr>\n",
       "      <th>9</th>\n",
       "      <td>1984</td>\n",
       "      <td>9</td>\n",
       "      <td>10600000.0</td>\n",
       "      <td>103.9</td>\n",
       "      <td>10200000.0</td>\n",
       "      <td>400000.0</td>\n",
       "    </tr>\n",
       "    <tr>\n",
       "      <th>10</th>\n",
       "      <td>1985</td>\n",
       "      <td>10</td>\n",
       "      <td>10600000.0</td>\n",
       "      <td>107.6</td>\n",
       "      <td>9900000.0</td>\n",
       "      <td>700000.0</td>\n",
       "    </tr>\n",
       "    <tr>\n",
       "      <th>11</th>\n",
       "      <td>1986</td>\n",
       "      <td>11</td>\n",
       "      <td>11500000.0</td>\n",
       "      <td>109.6</td>\n",
       "      <td>10500000.0</td>\n",
       "      <td>1000000.0</td>\n",
       "    </tr>\n",
       "    <tr>\n",
       "      <th>12</th>\n",
       "      <td>1987</td>\n",
       "      <td>12</td>\n",
       "      <td>13300000.0</td>\n",
       "      <td>113.6</td>\n",
       "      <td>11700000.0</td>\n",
       "      <td>1600000.0</td>\n",
       "    </tr>\n",
       "    <tr>\n",
       "      <th>13</th>\n",
       "      <td>1988</td>\n",
       "      <td>13</td>\n",
       "      <td>17000000.0</td>\n",
       "      <td>118.3</td>\n",
       "      <td>14400000.0</td>\n",
       "      <td>2600000.0</td>\n",
       "    </tr>\n",
       "    <tr>\n",
       "      <th>14</th>\n",
       "      <td>1989</td>\n",
       "      <td>14</td>\n",
       "      <td>18400000.0</td>\n",
       "      <td>124.0</td>\n",
       "      <td>14800000.0</td>\n",
       "      <td>3600000.0</td>\n",
       "    </tr>\n",
       "    <tr>\n",
       "      <th>15</th>\n",
       "      <td>1990</td>\n",
       "      <td>15</td>\n",
       "      <td>18900000.0</td>\n",
       "      <td>130.7</td>\n",
       "      <td>14500000.0</td>\n",
       "      <td>4400000.0</td>\n",
       "    </tr>\n",
       "    <tr>\n",
       "      <th>16</th>\n",
       "      <td>1991</td>\n",
       "      <td>16</td>\n",
       "      <td>19400000.0</td>\n",
       "      <td>136.2</td>\n",
       "      <td>14200000.0</td>\n",
       "      <td>5200000.0</td>\n",
       "    </tr>\n",
       "    <tr>\n",
       "      <th>17</th>\n",
       "      <td>1992</td>\n",
       "      <td>17</td>\n",
       "      <td>20200000.0</td>\n",
       "      <td>140.3</td>\n",
       "      <td>14400000.0</td>\n",
       "      <td>5800000.0</td>\n",
       "    </tr>\n",
       "    <tr>\n",
       "      <th>18</th>\n",
       "      <td>1993</td>\n",
       "      <td>18</td>\n",
       "      <td>16300000.0</td>\n",
       "      <td>144.5</td>\n",
       "      <td>11300000.0</td>\n",
       "      <td>5000000.0</td>\n",
       "    </tr>\n",
       "    <tr>\n",
       "      <th>19</th>\n",
       "      <td>1994</td>\n",
       "      <td>19</td>\n",
       "      <td>13700000.0</td>\n",
       "      <td>148.2</td>\n",
       "      <td>9200000.0</td>\n",
       "      <td>4500000.0</td>\n",
       "    </tr>\n",
       "    <tr>\n",
       "      <th>20</th>\n",
       "      <td>1995</td>\n",
       "      <td>20</td>\n",
       "      <td>15300000.0</td>\n",
       "      <td>152.4</td>\n",
       "      <td>10000000.0</td>\n",
       "      <td>5300000.0</td>\n",
       "    </tr>\n",
       "    <tr>\n",
       "      <th>21</th>\n",
       "      <td>1996</td>\n",
       "      <td>21</td>\n",
       "      <td>16200000.0</td>\n",
       "      <td>156.9</td>\n",
       "      <td>10300000.0</td>\n",
       "      <td>5900000.0</td>\n",
       "    </tr>\n",
       "  </tbody>\n",
       "</table>\n",
       "</div>"
      ],
      "text/plain": [
       "    Year  Coded Year  Act-Revenue  CPI-U  Real-Revenue  Opt-Expenses\n",
       "0   1975           0    5000000.0   53.8     9300000.0    -4300000.0\n",
       "1   1976           1    5400000.0   56.9     9500000.0    -4100000.0\n",
       "2   1977           2    6000000.0   60.6     9900000.0    -3900000.0\n",
       "3   1978           3    7000000.0   65.2    10700000.0    -3700000.0\n",
       "4   1979           4    8000000.0   72.6    11000000.0    -3000000.0\n",
       "5   1980           5    9700000.0   82.4    11800000.0    -2100000.0\n",
       "6   1981           6   10300000.0   90.9    11300000.0    -1000000.0\n",
       "7   1982           7   10800000.0   96.5    11200000.0     -400000.0\n",
       "8   1983           8   10200000.0   99.6    10200000.0           0.0\n",
       "9   1984           9   10600000.0  103.9    10200000.0      400000.0\n",
       "10  1985          10   10600000.0  107.6     9900000.0      700000.0\n",
       "11  1986          11   11500000.0  109.6    10500000.0     1000000.0\n",
       "12  1987          12   13300000.0  113.6    11700000.0     1600000.0\n",
       "13  1988          13   17000000.0  118.3    14400000.0     2600000.0\n",
       "14  1989          14   18400000.0  124.0    14800000.0     3600000.0\n",
       "15  1990          15   18900000.0  130.7    14500000.0     4400000.0\n",
       "16  1991          16   19400000.0  136.2    14200000.0     5200000.0\n",
       "17  1992          17   20200000.0  140.3    14400000.0     5800000.0\n",
       "18  1993          18   16300000.0  144.5    11300000.0     5000000.0\n",
       "19  1994          19   13700000.0  148.2     9200000.0     4500000.0\n",
       "20  1995          20   15300000.0  152.4    10000000.0     5300000.0\n",
       "21  1996          21   16200000.0  156.9    10300000.0     5900000.0"
      ]
     },
     "execution_count": 15,
     "metadata": {},
     "output_type": "execute_result"
    }
   ],
   "source": [
    "data"
   ]
  },
  {
   "cell_type": "code",
   "execution_count": 21,
   "metadata": {},
   "outputs": [
    {
     "data": {
      "text/plain": [
       "Act-Revenue     1.244545e+07\n",
       "Real-Revenue    1.137727e+07\n",
       "dtype: float64"
      ]
     },
     "execution_count": 21,
     "metadata": {},
     "output_type": "execute_result"
    }
   ],
   "source": [
    "means = data[['Act-Revenue','Real-Revenue']].mean()\n",
    "means"
   ]
  },
  {
   "cell_type": "code",
   "execution_count": 33,
   "metadata": {},
   "outputs": [],
   "source": [
    "data[['Act-Revenue','Real-Revenue']] = data[['Act-Revenue','Real-Revenue']] - means"
   ]
  },
  {
   "cell_type": "code",
   "execution_count": null,
   "metadata": {},
   "outputs": [],
   "source": []
  },
  {
   "cell_type": "code",
   "execution_count": 70,
   "metadata": {},
   "outputs": [],
   "source": [
    "def lists(columns:list):\n",
    "    if not isinstance(columns, list):\n",
    "        raise TypeError(\"Argument must be a list\")\n",
    "    for column in columns:\n",
    "        print(column)\n",
    "        print(sorted(list(data[data[column]>0]['Coded Year'])))\n"
   ]
  },
  {
   "cell_type": "code",
   "execution_count": 71,
   "metadata": {},
   "outputs": [
    {
     "name": "stdout",
     "output_type": "stream",
     "text": [
      "Act-Revenue\n",
      "[12, 13, 14, 15, 16, 17, 18, 19, 20, 21]\n",
      "Real-Revenue\n",
      "[5, 12, 13, 14, 15, 16, 17]\n"
     ]
    }
   ],
   "source": [
    "lists(['Act-Revenue','Real-Revenue'])"
   ]
  },
  {
   "cell_type": "code",
   "execution_count": 72,
   "metadata": {},
   "outputs": [
    {
     "ename": "TypeError",
     "evalue": "Argument must be a list",
     "output_type": "error",
     "traceback": [
      "\u001b[0;31m---------------------------------------------------------------------------\u001b[0m",
      "\u001b[0;31mTypeError\u001b[0m                                 Traceback (most recent call last)",
      "Cell \u001b[0;32mIn[72], line 1\u001b[0m\n\u001b[0;32m----> 1\u001b[0m lists(\u001b[38;5;124m'\u001b[39m\u001b[38;5;124mReal-Revenue\u001b[39m\u001b[38;5;124m'\u001b[39m)\n",
      "Cell \u001b[0;32mIn[70], line 3\u001b[0m, in \u001b[0;36mlists\u001b[0;34m(columns)\u001b[0m\n\u001b[1;32m      1\u001b[0m \u001b[38;5;28;01mdef\u001b[39;00m \u001b[38;5;21mlists\u001b[39m(columns:\u001b[38;5;28mlist\u001b[39m):\n\u001b[1;32m      2\u001b[0m     \u001b[38;5;28;01mif\u001b[39;00m \u001b[38;5;129;01mnot\u001b[39;00m \u001b[38;5;28misinstance\u001b[39m(columns, \u001b[38;5;28mlist\u001b[39m):\n\u001b[0;32m----> 3\u001b[0m         \u001b[38;5;28;01mraise\u001b[39;00m \u001b[38;5;167;01mTypeError\u001b[39;00m(\u001b[38;5;124m\"\u001b[39m\u001b[38;5;124mArgument must be a list\u001b[39m\u001b[38;5;124m\"\u001b[39m)\n\u001b[1;32m      4\u001b[0m     \u001b[38;5;28;01mfor\u001b[39;00m column \u001b[38;5;129;01min\u001b[39;00m columns:\n\u001b[1;32m      5\u001b[0m         \u001b[38;5;28mprint\u001b[39m(column)\n",
      "\u001b[0;31mTypeError\u001b[0m: Argument must be a list"
     ]
    }
   ],
   "source": [
    "lists('Real-Revenue')"
   ]
  },
  {
   "cell_type": "code",
   "execution_count": 74,
   "metadata": {},
   "outputs": [
    {
     "data": {
      "text/plain": [
       "[18, 19, 20, 21]"
      ]
     },
     "execution_count": 74,
     "metadata": {},
     "output_type": "execute_result"
    }
   ],
   "source": [
    "sorted(list(data[(data['Act-Revenue']>0) & (data['Real-Revenue']<0)]['Coded Year']))"
   ]
  }
 ],
 "metadata": {
  "kernelspec": {
   "display_name": "base",
   "language": "python",
   "name": "python3"
  },
  "language_info": {
   "codemirror_mode": {
    "name": "ipython",
    "version": 3
   },
   "file_extension": ".py",
   "mimetype": "text/x-python",
   "name": "python",
   "nbconvert_exporter": "python",
   "pygments_lexer": "ipython3",
   "version": "3.12.4"
  }
 },
 "nbformat": 4,
 "nbformat_minor": 4
}
