{
 "cells": [
  {
   "cell_type": "code",
   "execution_count": 1,
   "id": "6959d844",
   "metadata": {},
   "outputs": [],
   "source": [
    "from langchain.chat_models import ChatOpenAI\n",
    "from langchain_core.output_parsers import StrOutputParser\n",
    "from langchain.callbacks.tracers import ConsoleCallbackHandler\n",
    "from langchain.prompts import ChatPromptTemplate"
   ]
  },
  {
   "cell_type": "code",
   "execution_count": 2,
   "id": "80684768",
   "metadata": {},
   "outputs": [],
   "source": [
    "#https://www.theserverside.com/blog/Coffee-Talk-Java-News-Stories-and-Opinions/Top-10-programmer-jokes\n",
    "text = \"\"\"Why did the two Java methods get a divorce?\\tBecause they had constant arguments.\n",
    "Why did the edge server go bankrupt?\\tBecause it ran out of cache.\n",
    "How many developers does it take to screw in a lightbulb?\\tNone. It’s a hardware problem.\n",
    "Why did the private classes break up?\\tBecause they never saw each other.\n",
    "Why did the Java developer teach his young kids about single quotes?\\tBecause they build character.\n",
    "Why do programmers confuse Christmas with Halloween?\\tBecause OCT 31 is the same as DEC 25.\n",
    "Why do most Java programmers wear glasses?\\tBecause they don’t see sharp.\n",
    "What’s the first step in understanding recursion?\\tTo understand recursion, you must first understand recursion.\n",
    "Why did the Java developer quit his job?\\tBecause he didn’t get arrays.\n",
    "Why do submarines all run Linux?\\tBecause you can’t open Windows under water.\n",
    "What happens when developers ask a silly question?\\tThey get a silly ANSI.\"\"\""
   ]
  },
  {
   "cell_type": "markdown",
   "id": "d514b029",
   "metadata": {},
   "source": [
    "Develop a nerd joker, that will provide humorous answers to questions following the jokes above. Use your joker to answer the following questions:\n",
    "\n",
    "- Why do programmers prefer dark mode?\n",
    "- Why does Dr. Safadi enjoy teaching Python?\n",
    "- Why do MSBA students like the month of May?"
   ]
  },
  {
   "cell_type": "code",
   "execution_count": null,
   "id": "c94e2024",
   "metadata": {},
   "outputs": [],
   "source": []
  },
  {
   "cell_type": "code",
   "execution_count": null,
   "id": "191daf64",
   "metadata": {},
   "outputs": [],
   "source": []
  },
  {
   "cell_type": "code",
   "execution_count": null,
   "id": "7ba478f2",
   "metadata": {},
   "outputs": [],
   "source": []
  }
 ],
 "metadata": {
  "kernelspec": {
   "display_name": "Python 3 (ipykernel)",
   "language": "python",
   "name": "python3"
  },
  "language_info": {
   "codemirror_mode": {
    "name": "ipython",
    "version": 3
   },
   "file_extension": ".py",
   "mimetype": "text/x-python",
   "name": "python",
   "nbconvert_exporter": "python",
   "pygments_lexer": "ipython3",
   "version": "3.11.4"
  }
 },
 "nbformat": 4,
 "nbformat_minor": 5
}
