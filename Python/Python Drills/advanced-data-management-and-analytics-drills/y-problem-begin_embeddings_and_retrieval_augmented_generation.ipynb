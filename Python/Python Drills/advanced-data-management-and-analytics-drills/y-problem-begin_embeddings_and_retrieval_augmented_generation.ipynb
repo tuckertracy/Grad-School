{
 "cells": [
  {
   "cell_type": "code",
   "execution_count": 1,
   "id": "ad21fefb",
   "metadata": {},
   "outputs": [],
   "source": [
    "import pandas as pd\n",
    "import langchain\n",
    "from langchain.embeddings.spacy_embeddings import SpacyEmbeddings\n",
    "import numpy as np\n",
    "from langchain.chat_models import ChatOpenAI\n",
    "from langchain.embeddings import OpenAIEmbeddings\n",
    "from langchain.prompts import ChatPromptTemplate\n",
    "from langchain.vectorstores import DocArrayInMemorySearch\n",
    "from langchain_core.output_parsers import StrOutputParser\n",
    "from langchain_core.runnables import RunnableParallel, RunnablePassthrough\n",
    "from langchain.callbacks.tracers import ConsoleCallbackHandler\n",
    "from langchain.text_splitter import RecursiveCharacterTextSplitter\n",
    "from langchain.docstore.document import Document"
   ]
  },
  {
   "cell_type": "code",
   "execution_count": 2,
   "id": "4ab3194b",
   "metadata": {},
   "outputs": [],
   "source": [
    "text = open(\"data/DCPD-202100347 - Address Before a Joint Session of the Congress on the State of the Union.txt\",\"r\").readlines()"
   ]
  },
  {
   "cell_type": "code",
   "execution_count": 3,
   "id": "2023989f",
   "metadata": {},
   "outputs": [
    {
     "name": "stdout",
     "output_type": "stream",
     "text": [
      "Administration of Joseph R. Biden, Jr., 2021\n",
      "\n",
      "Address Before a Joint Session of the Congress\n",
      "April 28, 2021\n",
      "\n",
      "The President. Thank you. Thank you. Thank you. Good to be back. As Mitch and Chuck will understand, it's good to be almost home, down the hall. [Laughter] Anyway, thank you all.\n",
      "Madam Speaker, Madam Vice President—no President has ever said those words from this podium. No President has ever said those words, and it's about time.\n",
      "First Lady—I'm her husband; Second Gentleman; Chief Justic\n"
     ]
    }
   ],
   "source": [
    "text = \"\".join(text)\n",
    "print(text[:500])"
   ]
  },
  {
   "cell_type": "markdown",
   "id": "338dda78",
   "metadata": {},
   "source": [
    "Using RAG, create a chatbot to answer questions about the 2021 state of the union address\n",
    "\n",
    "Try the following questions\n",
    "- what are the most pression challenges?\n",
    "- will the government pay student debt?\n",
    "- how many people lost their jobs during the pandemic?\n"
   ]
  },
  {
   "cell_type": "code",
   "execution_count": null,
   "id": "7495dc9c",
   "metadata": {},
   "outputs": [],
   "source": []
  }
 ],
 "metadata": {
  "kernelspec": {
   "display_name": "Python 3 (ipykernel)",
   "language": "python",
   "name": "python3"
  },
  "language_info": {
   "codemirror_mode": {
    "name": "ipython",
    "version": 3
   },
   "file_extension": ".py",
   "mimetype": "text/x-python",
   "name": "python",
   "nbconvert_exporter": "python",
   "pygments_lexer": "ipython3",
   "version": "3.11.4"
  }
 },
 "nbformat": 4,
 "nbformat_minor": 5
}
