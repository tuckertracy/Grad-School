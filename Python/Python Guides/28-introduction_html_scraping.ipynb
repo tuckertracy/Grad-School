{
 "cells": [
  {
   "cell_type": "code",
   "execution_count": 1,
   "metadata": {
    "slideshow": {
     "slide_type": "slide"
    }
   },
   "outputs": [],
   "source": [
    "# install beautifulsoup for the first time if not there\n",
    "#!conda install BeautifulSoup4\n",
    "#!pip install BeautifulSoup4\n",
    "#!pip install html5lib"
   ]
  },
  {
   "cell_type": "code",
   "execution_count": 2,
   "metadata": {
    "slideshow": {
     "slide_type": "slide"
    }
   },
   "outputs": [
    {
     "name": "stderr",
     "output_type": "stream",
     "text": [
      "/var/folders/h4/gc9911bs2sq4x08kxr_589rw0000gp/T/ipykernel_80100/3244935490.py:5: DeprecationWarning: Importing display from IPython.core.display is deprecated since IPython 7.14, please import from IPython display\n",
      "  from IPython.core.display import display, HTML\n"
     ]
    }
   ],
   "source": [
    "import requests\n",
    "import pandas as pd\n",
    "import xml.etree.ElementTree as ET\n",
    "from bs4 import BeautifulSoup\n",
    "from IPython.core.display import display, HTML"
   ]
  },
  {
   "cell_type": "code",
   "execution_count": 3,
   "metadata": {
    "slideshow": {
     "slide_type": "slide"
    }
   },
   "outputs": [],
   "source": [
    "html=\"\"\"<html>\n",
    "    <head>\n",
    "        <title>\n",
    "            This is an example page\n",
    "        </title>\n",
    "    </head>\n",
    "    <body>\n",
    "        Here is the content of the page\n",
    "        <p>\n",
    "            One paragraph\n",
    "        </p>\n",
    "        <li> one </li>\n",
    "        <li> two </li>\n",
    "        <table>\n",
    "            <tr>\n",
    "                <td>col 1</td>\n",
    "                <td>col 2</td>\n",
    "            </tr>\n",
    "            <tr>\n",
    "                <td>val 1</td>\n",
    "                <td>val 2</td>\n",
    "            </tr>\n",
    "        </table>\n",
    "        End of body\n",
    "    </body>\n",
    "</html>\"\"\""
   ]
  },
  {
   "cell_type": "code",
   "execution_count": 4,
   "metadata": {},
   "outputs": [
    {
     "data": {
      "text/html": [
       "<html>\n",
       "    <head>\n",
       "        <title>\n",
       "            This is an example page\n",
       "        </title>\n",
       "    </head>\n",
       "    <body>\n",
       "        Here is the content of the page\n",
       "        <p>\n",
       "            One paragraph\n",
       "        </p>\n",
       "        <li> one </li>\n",
       "        <li> two </li>\n",
       "        <table>\n",
       "            <tr>\n",
       "                <td>col 1</td>\n",
       "                <td>col 2</td>\n",
       "            </tr>\n",
       "            <tr>\n",
       "                <td>val 1</td>\n",
       "                <td>val 2</td>\n",
       "            </tr>\n",
       "        </table>\n",
       "        End of body\n",
       "    </body>\n",
       "</html>"
      ],
      "text/plain": [
       "<IPython.core.display.HTML object>"
      ]
     },
     "execution_count": 4,
     "metadata": {},
     "output_type": "execute_result"
    }
   ],
   "source": [
    "HTML(html)"
   ]
  },
  {
   "cell_type": "code",
   "execution_count": 5,
   "metadata": {
    "slideshow": {
     "slide_type": "slide"
    }
   },
   "outputs": [],
   "source": [
    "root = ET.fromstring(html)"
   ]
  },
  {
   "cell_type": "code",
   "execution_count": 6,
   "metadata": {
    "slideshow": {
     "slide_type": "slide"
    }
   },
   "outputs": [
    {
     "name": "stdout",
     "output_type": "stream",
     "text": [
      "col 1\n",
      "col 2\n",
      "val 1\n",
      "val 2\n"
     ]
    }
   ],
   "source": [
    "for element in root.iter('td'):\n",
    "    print(element.text)"
   ]
  },
  {
   "cell_type": "code",
   "execution_count": 7,
   "metadata": {},
   "outputs": [
    {
     "ename": "ParseError",
     "evalue": "junk after document element: line 26, column 7 (<string>)",
     "output_type": "error",
     "traceback": [
      "Traceback \u001b[0;36m(most recent call last)\u001b[0m:\n",
      "\u001b[0m  File \u001b[1;32m~/anaconda3/lib/python3.11/site-packages/IPython/core/interactiveshell.py:3505\u001b[0m in \u001b[1;35mrun_code\u001b[0m\n    exec(code_obj, self.user_global_ns, self.user_ns)\u001b[0m\n",
      "\u001b[0m  Cell \u001b[1;32mIn[7], line 2\u001b[0m\n    root = ET.fromstring(messed_html)\u001b[0m\n",
      "\u001b[0;36m  File \u001b[0;32m~/anaconda3/lib/python3.11/xml/etree/ElementTree.py:1338\u001b[0;36m in \u001b[0;35mXML\u001b[0;36m\n\u001b[0;31m    parser.feed(text)\u001b[0;36m\n",
      "\u001b[0;36m  File \u001b[0;32m<string>\u001b[0;36m\u001b[0m\n\u001b[0;31mParseError\u001b[0m\u001b[0;31m:\u001b[0m junk after document element: line 26, column 7\n"
     ]
    }
   ],
   "source": [
    "messed_html = html + \"blablabla\"\n",
    "root = ET.fromstring(messed_html)"
   ]
  },
  {
   "cell_type": "code",
   "execution_count": 9,
   "metadata": {
    "slideshow": {
     "slide_type": "slide"
    }
   },
   "outputs": [],
   "source": [
    "soup = BeautifulSoup(messed_html, 'html')"
   ]
  },
  {
   "cell_type": "code",
   "execution_count": 10,
   "metadata": {
    "slideshow": {
     "slide_type": "slide"
    }
   },
   "outputs": [
    {
     "name": "stdout",
     "output_type": "stream",
     "text": [
      "col 1\n",
      "col 2\n",
      "val 1\n",
      "val 2\n"
     ]
    }
   ],
   "source": [
    "for element in soup.find_all('td'):\n",
    "    print(element.text)"
   ]
  },
  {
   "cell_type": "code",
   "execution_count": 11,
   "metadata": {
    "slideshow": {
     "slide_type": "slide"
    }
   },
   "outputs": [],
   "source": [
    "def print_html_tree(tag,level = 0):\n",
    "    print('\\t'*level + tag.name)\n",
    "    for child in tag.findChildren():\n",
    "        print_html_tree(child, level+1)"
   ]
  },
  {
   "cell_type": "code",
   "execution_count": 12,
   "metadata": {
    "slideshow": {
     "slide_type": "slide"
    }
   },
   "outputs": [
    {
     "name": "stdout",
     "output_type": "stream",
     "text": [
      "[document]\n",
      "\thtml\n",
      "\t\thead\n",
      "\t\t\ttitle\n",
      "\t\ttitle\n",
      "\t\tbody\n",
      "\t\t\tp\n",
      "\t\t\tli\n",
      "\t\t\tli\n",
      "\t\t\ttable\n",
      "\t\t\t\ttr\n",
      "\t\t\t\t\ttd\n",
      "\t\t\t\t\ttd\n",
      "\t\t\t\ttd\n",
      "\t\t\t\ttd\n",
      "\t\t\t\ttr\n",
      "\t\t\t\t\ttd\n",
      "\t\t\t\t\ttd\n",
      "\t\t\t\ttd\n",
      "\t\t\t\ttd\n",
      "\t\t\ttr\n",
      "\t\t\t\ttd\n",
      "\t\t\t\ttd\n",
      "\t\t\ttd\n",
      "\t\t\ttd\n",
      "\t\t\ttr\n",
      "\t\t\t\ttd\n",
      "\t\t\t\ttd\n",
      "\t\t\ttd\n",
      "\t\t\ttd\n",
      "\t\tp\n",
      "\t\tli\n",
      "\t\tli\n",
      "\t\ttable\n",
      "\t\t\ttr\n",
      "\t\t\t\ttd\n",
      "\t\t\t\ttd\n",
      "\t\t\ttd\n",
      "\t\t\ttd\n",
      "\t\t\ttr\n",
      "\t\t\t\ttd\n",
      "\t\t\t\ttd\n",
      "\t\t\ttd\n",
      "\t\t\ttd\n",
      "\t\ttr\n",
      "\t\t\ttd\n",
      "\t\t\ttd\n",
      "\t\ttd\n",
      "\t\ttd\n",
      "\t\ttr\n",
      "\t\t\ttd\n",
      "\t\t\ttd\n",
      "\t\ttd\n",
      "\t\ttd\n",
      "\thead\n",
      "\t\ttitle\n",
      "\ttitle\n",
      "\tbody\n",
      "\t\tp\n",
      "\t\tli\n",
      "\t\tli\n",
      "\t\ttable\n",
      "\t\t\ttr\n",
      "\t\t\t\ttd\n",
      "\t\t\t\ttd\n",
      "\t\t\ttd\n",
      "\t\t\ttd\n",
      "\t\t\ttr\n",
      "\t\t\t\ttd\n",
      "\t\t\t\ttd\n",
      "\t\t\ttd\n",
      "\t\t\ttd\n",
      "\t\ttr\n",
      "\t\t\ttd\n",
      "\t\t\ttd\n",
      "\t\ttd\n",
      "\t\ttd\n",
      "\t\ttr\n",
      "\t\t\ttd\n",
      "\t\t\ttd\n",
      "\t\ttd\n",
      "\t\ttd\n",
      "\tp\n",
      "\tli\n",
      "\tli\n",
      "\ttable\n",
      "\t\ttr\n",
      "\t\t\ttd\n",
      "\t\t\ttd\n",
      "\t\ttd\n",
      "\t\ttd\n",
      "\t\ttr\n",
      "\t\t\ttd\n",
      "\t\t\ttd\n",
      "\t\ttd\n",
      "\t\ttd\n",
      "\ttr\n",
      "\t\ttd\n",
      "\t\ttd\n",
      "\ttd\n",
      "\ttd\n",
      "\ttr\n",
      "\t\ttd\n",
      "\t\ttd\n",
      "\ttd\n",
      "\ttd\n"
     ]
    }
   ],
   "source": [
    "print_html_tree(soup.currentTag)"
   ]
  },
  {
   "cell_type": "markdown",
   "metadata": {
    "slideshow": {
     "slide_type": "slide"
    }
   },
   "source": [
    "Extract names and titles of [MIS Faulty at UGA](https://www.terry.uga.edu/directory/?group=management-information-systems)\n",
    "\n",
    "How many assistant professors are there?"
   ]
  },
  {
   "cell_type": "code",
   "execution_count": 20,
   "metadata": {
    "slideshow": {
     "slide_type": "slide"
    }
   },
   "outputs": [],
   "source": [
    "r = requests.get(\"https://www.terry.uga.edu/directory/?group=management-information-systems\")"
   ]
  },
  {
   "cell_type": "code",
   "execution_count": 21,
   "metadata": {
    "slideshow": {
     "slide_type": "slide"
    }
   },
   "outputs": [
    {
     "data": {
      "text/plain": [
       "200"
      ]
     },
     "execution_count": 21,
     "metadata": {},
     "output_type": "execute_result"
    }
   ],
   "source": [
    "r.status_code"
   ]
  },
  {
   "cell_type": "code",
   "execution_count": 22,
   "metadata": {
    "slideshow": {
     "slide_type": "slide"
    }
   },
   "outputs": [],
   "source": [
    "html = r.text"
   ]
  },
  {
   "cell_type": "code",
   "execution_count": 23,
   "metadata": {
    "scrolled": true,
    "slideshow": {
     "slide_type": "slide"
    }
   },
   "outputs": [
    {
     "name": "stdout",
     "output_type": "stream",
     "text": [
      "<!doctype html>\n",
      "<html lang=\"en-US\">\n",
      "<head>\n",
      "\t<meta charset=\"UTF-8\">\n",
      "\t<meta name=\"viewport\" content=\"width=device-width, initial-scale=1\">\n",
      "\t<link rel=\"profile\" href=\"https://gmpg.org/xfn/11\">\n",
      "\n",
      "\t<meta name='robots' content='index, follow, max-image-preview:large, max-snippet:-1, max-video-preview:-1' />\n",
      "\n",
      "<!-- Google Tag Manager for WordPress by gtm4wp.com -->\n",
      "<script data-cfasync=\"false\" data-pagespeed-no-defer>\n",
      "\tvar gtm4wp_datalayer_name = \"dataLayer\";\n",
      "\tvar dataLayer = dataLayer || [];\n",
      "</script>\n",
      "<!-- End Google Tag Manager for WordPress by gtm4wp.com -->\n",
      "\t<!-- This site is optimized with the Yoast SEO plugin v21.8 - https://yoast.com/wordpress/plugins/seo/ -->\n",
      "\t<title>Directory &#8211; Terry College of Business</title>\n",
      "\t<link rel=\"canonical\" href=\"https://www.terry.uga.edu/group/management-information-systems/\" />\n",
      "\t<meta property=\"og:locale\" content=\"en_US\" />\n",
      "\t<meta property=\"og:type\" content=\"website\" />\n",
      "\t<meta property=\"og:url\" content=\"https://www.terry.uga.edu/group/management-information-systems/\" />\n",
      "\t<meta property=\"og:site_name\" content=\"Terry College of Business\" />\n",
      "\t<meta name=\"twitter:card\" content=\"summary_large_image\" />\n",
      "\t<meta name=\"twitter:site\" content=\"@TerryCollege\" />\n",
      "\t<script type=\"application/ld+json\" class=\"yoast-schema-graph\">{\"@context\":\"https://schema.org\",\"@graph\":[{\"@type\":\"CollectionPage\",\"@id\":\"https://www.terry.uga.edu/group/management-information-systems/\",\"url\":\"https://www.terry.uga.edu/group/management-information-systems/\",\"name\":\"\",\"isPartOf\":{\"@id\":\"https://www.terry.uga.edu/#website\"},\"primaryImageOfPage\":{\"@id\":\"https://www.terry.uga.edu/group/management-information-systems/#primaryimage\"},\"image\":{\"@id\":\"https://www.terry.uga.edu/group/management-information-systems/#primaryimage\"},\"thumbnailUrl\":\"https://www.terry.uga.edu/wp-content/uploads/aguar_karen_2018.jpg\",\"breadcrumb\":{\"@id\":\"https://www.terry.uga.edu/group/management-information-systems/#breadcrumb\"},\"inLanguage\":\"en-US\"},{\"@type\":\"ImageObject\",\"inLanguage\":\"en-US\",\"@id\":\"https://www.terry.uga.edu/group/management-information-systems/#primaryimage\",\"url\":\"https://www.terry.uga.edu/wp-content/uploads/aguar_karen_2018.jpg\",\"contentUrl\":\"https://www.terry.uga.edu/wp-content/uploads/aguar_karen_2018.jpg\",\"width\":1440,\"height\":961,\"caption\":\"Karen headshot\"},{\"@type\":\"BreadcrumbList\",\"@id\":\"https://www.terry.uga.edu/group/management-information-systems/#breadcrumb\",\"itemListElement\":[{\"@type\":\"ListItem\",\"position\":1,\"name\":\"Home\",\"item\":\"https://www.terry.uga.edu/\"},{\"@type\":\"ListItem\",\"position\":2,\"name\":\"Faculty & Staff Directory\",\"item\":\"https://www.terry.uga.edu/directory/\"},{\"@type\":\"ListItem\",\"position\":3,\"name\":\"Management Information Systems\"}]},{\"@type\":\"WebSite\",\"@id\":\"https://www.terry.uga.edu/#website\",\"url\":\"https://www.terry.uga.edu/\",\"name\":\"Terry College of Business\",\"description\":\"\",\"publisher\":{\"@id\":\"https://www.terry.uga.edu/#organization\"},\"potentialAction\":[{\"@type\":\"SearchAction\",\"target\":{\"@type\":\"EntryPoint\",\"urlTemplate\":\"https://www.terry.uga.edu/?s={search_term_string}\"},\"query-input\":\"required name=search_term_string\"}],\"inLanguage\":\"en-US\"},{\"@type\":\"Organization\",\"@id\":\"https://www.terry.uga.edu/#organization\",\"name\":\"Terry College of Business\",\"url\":\"https://www.terry.uga.edu/\",\"logo\":{\"@type\":\"ImageObject\",\"inLanguage\":\"en-US\",\"@id\":\"https://www.terry.uga.edu/#/schema/logo/image/\",\"url\":\"https://www.terry.uga.edu/wp-content/uploads/Terry_logo_Horizontal_FC.png\",\"contentUrl\":\"https://www.terry.uga.edu/wp-content/uploads/Terry_logo_Horizontal_FC.png\",\"width\":6729,\"height\":1655,\"caption\":\"Terry College of Business\"},\"image\":{\"@id\":\"https://www.terry.uga.edu/#/schema/logo/image/\"},\"sameAs\":[\"https://www.facebook.com/terrycollege\",\"https://twitter.com/TerryCollege\",\"https://www.linkedin.com/school/university-of-georgia---terry-college-of-business/\"]}]}</script>\n",
      "\t<!-- / Yoast SEO plugin. -->\n",
      "\n",
      "\n",
      "<link rel='stylesheet' id='wp-block-library-css' href='https://www.terry.uga.edu/wp-includes/css/dist/block-library/style.min.css?ver=6.4.3' media='all' />\n",
      "<style id='global-styles-inline-css'>\n",
      "body{--wp--preset--color--black: #000000;--wp--preset--color--cyan-bluish-gray: #abb8c3;--wp--preset--color--white: #ffffff;--wp--preset--color--pale-pink: #f78da7;--wp--preset--color--vivid-red: #cf2e2e;--wp--preset--color--luminous-vivid-orange: #ff6900;--wp--preset--color--luminous-vivid-amber: #fcb900;--wp--preset--color--light-green-cyan: #7bdcb5;--wp--preset--color--vivid-green-cyan: #00d084;--wp--preset--color--pale-cyan-blue: #8ed1fc;--wp--preset--color--vivid-cyan-blue: #0693e3;--wp--preset--color--vivid-purple: #9b51e0;--wp--preset--color--base: #ffffff;--wp--preset--color--contrast: #222222;--wp--preset--color--primary: #ba0c2f;--wp--preset--color--secondary: #000000;--wp--preset--color--red: #BA0C2F;--wp--preset--color--red-bright: E4002B;--wp--preset--color--cyan: #00A3AD;--wp--preset--color--green: #B4BD00;--wp--preset--color--blue: #004E60;--wp--preset--color--gray: #554F47;--wp--preset--color--brown: #594A25;--wp--preset--color--purple: #66435A;--wp--preset--color--gray-light: #C8D8EB;--wp--preset--color--beige: #D6D2C4;--wp--preset--color--blue-light: #C8D8EB;--wp--preset--gradient--vivid-cyan-blue-to-vivid-purple: linear-gradient(135deg,rgba(6,147,227,1) 0%,rgb(155,81,224) 100%);--wp--preset--gradient--light-green-cyan-to-vivid-green-cyan: linear-gradient(135deg,rgb(122,220,180) 0%,rgb(0,208,130) 100%);--wp--preset--gradient--luminous-vivid-amber-to-luminous-vivid-orange: linear-gradient(135deg,rgba(252,185,0,1) 0%,rgba(255,105,0,1) 100%);--wp--preset--gradient--luminous-vivid-orange-to-vivid-red: linear-gradient(135deg,rgba(255,105,0,1) 0%,rgb(207,46,46) 100%);--wp--preset--gradient--very-light-gray-to-cyan-bluish-gray: linear-gradient(135deg,rgb(238,238,238) 0%,rgb(169,184,195) 100%);--wp--preset--gradient--cool-to-warm-spectrum: linear-gradient(135deg,rgb(74,234,220) 0%,rgb(151,120,209) 20%,rgb(207,42,186) 40%,rgb(238,44,130) 60%,rgb(251,105,98) 80%,rgb(254,248,76) 100%);--wp--preset--gradient--blush-light-purple: linear-gradient(135deg,rgb(255,206,236) 0%,rgb(152,150,240) 100%);--wp--preset--gradient--blush-bordeaux: linear-gradient(135deg,rgb(254,205,165) 0%,rgb(254,45,45) 50%,rgb(107,0,62) 100%);--wp--preset--gradient--luminous-dusk: linear-gradient(135deg,rgb(255,203,112) 0%,rgb(199,81,192) 50%,rgb(65,88,208) 100%);--wp--preset--gradient--pale-ocean: linear-gradient(135deg,rgb(255,245,203) 0%,rgb(182,227,212) 50%,rgb(51,167,181) 100%);--wp--preset--gradient--electric-grass: linear-gradient(135deg,rgb(202,248,128) 0%,rgb(113,206,126) 100%);--wp--preset--gradient--midnight: linear-gradient(135deg,rgb(2,3,129) 0%,rgb(40,116,252) 100%);--wp--preset--font-size--small: 13px;--wp--preset--font-size--medium: 20px;--wp--preset--font-size--large: 36px;--wp--preset--font-size--x-large: 42px;--wp--preset--spacing--20: 0.44rem;--wp--preset--spacing--30: 0.67rem;--wp--preset--spacing--40: 1rem;--wp--preset--spacing--50: 1.5rem;--wp--preset--spacing--60: 2.25rem;--wp--preset--spacing--70: 3.38rem;--wp--preset--spacing--80: 5.06rem;--wp--preset--shadow--natural: 6px 6px 9px rgba(0, 0, 0, 0.2);--wp--preset--shadow--deep: 12px 12px 50px rgba(0, 0, 0, 0.4);--wp--preset--shadow--sharp: 6px 6px 0px rgba(0, 0, 0, 0.2);--wp--preset--shadow--outlined: 6px 6px 0px -3px rgba(255, 255, 255, 1), 6px 6px rgba(0, 0, 0, 1);--wp--preset--shadow--crisp: 6px 6px 0px rgba(0, 0, 0, 1);}body { margin: 0; }.wp-site-blocks > .alignleft { float: left; margin-right: 2em; }.wp-site-blocks > .alignright { float: right; margin-left: 2em; }.wp-site-blocks > .aligncenter { justify-content: center; margin-left: auto; margin-right: auto; }:where(.is-layout-flex){gap: 0.5em;}:where(.is-layout-grid){gap: 0.5em;}body .is-layout-flow > .alignleft{float: left;margin-inline-start: 0;margin-inline-end: 2em;}body .is-layout-flow > .alignright{float: right;margin-inline-start: 2em;margin-inline-end: 0;}body .is-layout-flow > .aligncenter{margin-left: auto !important;margin-right: auto !important;}body .is-layout-constrained > .alignleft{float: left;margin-inline-start: 0;margin-inline-end: 2em;}body .is-layout-constrained > .alignright{float: right;margin-inline-start: 2em;margin-inline-end: 0;}body .is-layout-constrained > .aligncenter{margin-left: auto !important;margin-right: auto !important;}body .is-layout-constrained > :where(:not(.alignleft):not(.alignright):not(.alignfull)){max-width: var(--wp--style--global--content-size);margin-left: auto !important;margin-right: auto !important;}body .is-layout-constrained > .alignwide{max-width: var(--wp--style--global--wide-size);}body .is-layout-flex{display: flex;}body .is-layout-flex{flex-wrap: wrap;align-items: center;}body .is-layout-flex > *{margin: 0;}body .is-layout-grid{display: grid;}body .is-layout-grid > *{margin: 0;}body{padding-top: 0px;padding-right: 0px;padding-bottom: 0px;padding-left: 0px;}a:where(:not(.wp-element-button)){text-decoration: underline;}.wp-element-button, .wp-block-button__link{background-color: #32373c;border-width: 0;color: #fff;font-family: inherit;font-size: inherit;line-height: inherit;padding: calc(0.667em + 2px) calc(1.333em + 2px);text-decoration: none;}.has-black-color{color: var(--wp--preset--color--black) !important;}.has-cyan-bluish-gray-color{color: var(--wp--preset--color--cyan-bluish-gray) !important;}.has-white-color{color: var(--wp--preset--color--white) !important;}.has-pale-pink-color{color: var(--wp--preset--color--pale-pink) !important;}.has-vivid-red-color{color: var(--wp--preset--color--vivid-red) !important;}.has-luminous-vivid-orange-color{color: var(--wp--preset--color--luminous-vivid-orange) !important;}.has-luminous-vivid-amber-color{color: var(--wp--preset--color--luminous-vivid-amber) !important;}.has-light-green-cyan-color{color: var(--wp--preset--color--light-green-cyan) !important;}.has-vivid-green-cyan-color{color: var(--wp--preset--color--vivid-green-cyan) !important;}.has-pale-cyan-blue-color{color: var(--wp--preset--color--pale-cyan-blue) !important;}.has-vivid-cyan-blue-color{color: var(--wp--preset--color--vivid-cyan-blue) !important;}.has-vivid-purple-color{color: var(--wp--preset--color--vivid-purple) !important;}.has-base-color{color: var(--wp--preset--color--base) !important;}.has-contrast-color{color: var(--wp--preset--color--contrast) !important;}.has-primary-color{color: var(--wp--preset--color--primary) !important;}.has-secondary-color{color: var(--wp--preset--color--secondary) !important;}.has-red-color{color: var(--wp--preset--color--red) !important;}.has-red-bright-color{color: var(--wp--preset--color--red-bright) !important;}.has-cyan-color{color: var(--wp--preset--color--cyan) !important;}.has-green-color{color: var(--wp--preset--color--green) !important;}.has-blue-color{color: var(--wp--preset--color--blue) !important;}.has-gray-color{color: var(--wp--preset--color--gray) !important;}.has-brown-color{color: var(--wp--preset--color--brown) !important;}.has-purple-color{color: var(--wp--preset--color--purple) !important;}.has-gray-light-color{color: var(--wp--preset--color--gray-light) !important;}.has-beige-color{color: var(--wp--preset--color--beige) !important;}.has-blue-light-color{color: var(--wp--preset--color--blue-light) !important;}.has-black-background-color{background-color: var(--wp--preset--color--black) !important;}.has-cyan-bluish-gray-background-color{background-color: var(--wp--preset--color--cyan-bluish-gray) !important;}.has-white-background-color{background-color: var(--wp--preset--color--white) !important;}.has-pale-pink-background-color{background-color: var(--wp--preset--color--pale-pink) !important;}.has-vivid-red-background-color{background-color: var(--wp--preset--color--vivid-red) !important;}.has-luminous-vivid-orange-background-color{background-color: var(--wp--preset--color--luminous-vivid-orange) !important;}.has-luminous-vivid-amber-background-color{background-color: var(--wp--preset--color--luminous-vivid-amber) !important;}.has-light-green-cyan-background-color{background-color: var(--wp--preset--color--light-green-cyan) !important;}.has-vivid-green-cyan-background-color{background-color: var(--wp--preset--color--vivid-green-cyan) !important;}.has-pale-cyan-blue-background-color{background-color: var(--wp--preset--color--pale-cyan-blue) !important;}.has-vivid-cyan-blue-background-color{background-color: var(--wp--preset--color--vivid-cyan-blue) !important;}.has-vivid-purple-background-color{background-color: var(--wp--preset--color--vivid-purple) !important;}.has-base-background-color{background-color: var(--wp--preset--color--base) !important;}.has-contrast-background-color{background-color: var(--wp--preset--color--contrast) !important;}.has-primary-background-color{background-color: var(--wp--preset--color--primary) !important;}.has-secondary-background-color{background-color: var(--wp--preset--color--secondary) !important;}.has-red-background-color{background-color: var(--wp--preset--color--red) !important;}.has-red-bright-background-color{background-color: var(--wp--preset--color--red-bright) !important;}.has-cyan-background-color{background-color: var(--wp--preset--color--cyan) !important;}.has-green-background-color{background-color: var(--wp--preset--color--green) !important;}.has-blue-background-color{background-color: var(--wp--preset--color--blue) !important;}.has-gray-background-color{background-color: var(--wp--preset--color--gray) !important;}.has-brown-background-color{background-color: var(--wp--preset--color--brown) !important;}.has-purple-background-color{background-color: var(--wp--preset--color--purple) !important;}.has-gray-light-background-color{background-color: var(--wp--preset--color--gray-light) !important;}.has-beige-background-color{background-color: var(--wp--preset--color--beige) !important;}.has-blue-light-background-color{background-color: var(--wp--preset--color--blue-light) !important;}.has-black-border-color{border-color: var(--wp--preset--color--black) !important;}.has-cyan-bluish-gray-border-color{border-color: var(--wp--preset--color--cyan-bluish-gray) !important;}.has-white-border-color{border-color: var(--wp--preset--color--white) !important;}.has-pale-pink-border-color{border-color: var(--wp--preset--color--pale-pink) !important;}.has-vivid-red-border-color{border-color: var(--wp--preset--color--vivid-red) !important;}.has-luminous-vivid-orange-border-color{border-color: var(--wp--preset--color--luminous-vivid-orange) !important;}.has-luminous-vivid-amber-border-color{border-color: var(--wp--preset--color--luminous-vivid-amber) !important;}.has-light-green-cyan-border-color{border-color: var(--wp--preset--color--light-green-cyan) !important;}.has-vivid-green-cyan-border-color{border-color: var(--wp--preset--color--vivid-green-cyan) !important;}.has-pale-cyan-blue-border-color{border-color: var(--wp--preset--color--pale-cyan-blue) !important;}.has-vivid-cyan-blue-border-color{border-color: var(--wp--preset--color--vivid-cyan-blue) !important;}.has-vivid-purple-border-color{border-color: var(--wp--preset--color--vivid-purple) !important;}.has-base-border-color{border-color: var(--wp--preset--color--base) !important;}.has-contrast-border-color{border-color: var(--wp--preset--color--contrast) !important;}.has-primary-border-color{border-color: var(--wp--preset--color--primary) !important;}.has-secondary-border-color{border-color: var(--wp--preset--color--secondary) !important;}.has-red-border-color{border-color: var(--wp--preset--color--red) !important;}.has-red-bright-border-color{border-color: var(--wp--preset--color--red-bright) !important;}.has-cyan-border-color{border-color: var(--wp--preset--color--cyan) !important;}.has-green-border-color{border-color: var(--wp--preset--color--green) !important;}.has-blue-border-color{border-color: var(--wp--preset--color--blue) !important;}.has-gray-border-color{border-color: var(--wp--preset--color--gray) !important;}.has-brown-border-color{border-color: var(--wp--preset--color--brown) !important;}.has-purple-border-color{border-color: var(--wp--preset--color--purple) !important;}.has-gray-light-border-color{border-color: var(--wp--preset--color--gray-light) !important;}.has-beige-border-color{border-color: var(--wp--preset--color--beige) !important;}.has-blue-light-border-color{border-color: var(--wp--preset--color--blue-light) !important;}.has-vivid-cyan-blue-to-vivid-purple-gradient-background{background: var(--wp--preset--gradient--vivid-cyan-blue-to-vivid-purple) !important;}.has-light-green-cyan-to-vivid-green-cyan-gradient-background{background: var(--wp--preset--gradient--light-green-cyan-to-vivid-green-cyan) !important;}.has-luminous-vivid-amber-to-luminous-vivid-orange-gradient-background{background: var(--wp--preset--gradient--luminous-vivid-amber-to-luminous-vivid-orange) !important;}.has-luminous-vivid-orange-to-vivid-red-gradient-background{background: var(--wp--preset--gradient--luminous-vivid-orange-to-vivid-red) !important;}.has-very-light-gray-to-cyan-bluish-gray-gradient-background{background: var(--wp--preset--gradient--very-light-gray-to-cyan-bluish-gray) !important;}.has-cool-to-warm-spectrum-gradient-background{background: var(--wp--preset--gradient--cool-to-warm-spectrum) !important;}.has-blush-light-purple-gradient-background{background: var(--wp--preset--gradient--blush-light-purple) !important;}.has-blush-bordeaux-gradient-background{background: var(--wp--preset--gradient--blush-bordeaux) !important;}.has-luminous-dusk-gradient-background{background: var(--wp--preset--gradient--luminous-dusk) !important;}.has-pale-ocean-gradient-background{background: var(--wp--preset--gradient--pale-ocean) !important;}.has-electric-grass-gradient-background{background: var(--wp--preset--gradient--electric-grass) !important;}.has-midnight-gradient-background{background: var(--wp--preset--gradient--midnight) !important;}.has-small-font-size{font-size: var(--wp--preset--font-size--small) !important;}.has-medium-font-size{font-size: var(--wp--preset--font-size--medium) !important;}.has-large-font-size{font-size: var(--wp--preset--font-size--large) !important;}.has-x-large-font-size{font-size: var(--wp--preset--font-size--x-large) !important;}\n",
      ".wp-block-navigation a:where(:not(.wp-element-button)){color: inherit;}\n",
      ":where(.wp-block-post-template.is-layout-flex){gap: 1.25em;}:where(.wp-block-post-template.is-layout-grid){gap: 1.25em;}\n",
      ":where(.wp-block-columns.is-layout-flex){gap: 2em;}:where(.wp-block-columns.is-layout-grid){gap: 2em;}\n",
      ".wp-block-pullquote{font-size: 1.5em;line-height: 1.6;}\n",
      "</style>\n",
      "<link rel='stylesheet' id='terry-style-css' href='https://www.terry.uga.edu/wp-content/themes/terry/dist/style.css?ver=1.0.6' media='all' />\n",
      "<link rel='stylesheet' id='uga-footer-css' href='https://www.terry.uga.edu/wp-content/themes/terry/uga/_assets/css/uga-footer.css?ver=6.4.3' media='all' />\n",
      "<script src=\"https://www.terry.uga.edu/wp-includes/js/jquery/jquery.min.js?ver=3.7.1\" id=\"jquery-core-js\"></script>\n",
      "<script src=\"https://www.terry.uga.edu/wp-includes/js/jquery/jquery-migrate.min.js?ver=3.4.1\" id=\"jquery-migrate-js\"></script>\n",
      "<link rel=\"EditURI\" type=\"application/rsd+xml\" title=\"RSD\" href=\"https://www.terry.uga.edu/xmlrpc.php?rsd\" />\n",
      "<!-- Stream WordPress user activity plugin v4.0.0 -->\n",
      "\n",
      "<!-- Google Tag Manager for WordPress by gtm4wp.com -->\n",
      "<!-- GTM Container placement set to manual -->\n",
      "<script data-cfasync=\"false\" data-pagespeed-no-defer type=\"text/javascript\">\n",
      "\tvar dataLayer_content = {\"pagePostType\":\"directory\",\"pagePostType2\":\"tax-directory\",\"pageCategory\":[]};\n",
      "\tdataLayer.push( dataLayer_content );\n",
      "</script>\n",
      "<script data-cfasync=\"false\">\n",
      "(function(w,d,s,l,i){w[l]=w[l]||[];w[l].push({'gtm.start':\n",
      "new Date().getTime(),event:'gtm.js'});var f=d.getElementsByTagName(s)[0],\n",
      "j=d.createElement(s),dl=l!='dataLayer'?'&l='+l:'';j.async=true;j.src=\n",
      "'//www.googletagmanager.com/gtm.js?id='+i+dl;f.parentNode.insertBefore(j,f);\n",
      "})(window,document,'script','dataLayer','GTM-NW7Z62');\n",
      "</script>\n",
      "<!-- End Google Tag Manager -->\n",
      "<!-- End Google Tag Manager for WordPress by gtm4wp.com --><link rel=\"icon\" href=\"https://www.terry.uga.edu/wp-content/uploads/cropped-uga-favicon-32x32.png\" sizes=\"32x32\" />\n",
      "<link rel=\"icon\" href=\"https://www.terry.uga.edu/wp-content/uploads/cropped-uga-favicon-192x192.png\" sizes=\"192x192\" />\n",
      "<link rel=\"apple-touch-icon\" href=\"https://www.terry.uga.edu/wp-content/uploads/cropped-uga-favicon-180x180.png\" />\n",
      "<meta name=\"msapplication-TileImage\" content=\"https://www.terry.uga.edu/wp-content/uploads/cropped-uga-favicon-270x270.png\" />\n",
      "</head>\n",
      "\n",
      "<body class=\"archive post-type-archive post-type-archive-directory wp-custom-logo hfeed\">\n",
      "\n",
      "<!-- GTM Container placement set to manual -->\n",
      "<!-- Google Tag Manager (noscript) -->\n",
      "\t\t\t\t<noscript><iframe src=\"https://www.googletagmanager.com/ns.html?id=GTM-NW7Z62\" height=\"0\" width=\"0\" style=\"display:none;visibility:hidden\" aria-hidden=\"true\"></iframe></noscript>\n",
      "<!-- End Google Tag Manager (noscript) -->\n",
      "<!-- GTM Container placement set to manual -->\n",
      "<!-- Google Tag Manager (noscript) --><div id=\"page\" class=\"site\">\n",
      "\t<a class=\"skip-link screen-reader-text\" href=\"#primary\">Skip to content</a>\t\t\n",
      "\n",
      "\t<header id=\"masthead\" class=\"\">\n",
      "\t\t<div class=\"site-header container-fluid\">\n",
      "\t\t\t<div class=\"site-branding\">\n",
      "\t\t\t\t<a href=\"https://www.terry.uga.edu/\" class=\"custom-logo-link\" rel=\"home\"><img width=\"6729\" height=\"1655\" src=\"https://www.terry.uga.edu/wp-content/uploads/Terry_logo_Horizontal_FC.png\" class=\"custom-logo\" alt=\"Terry College of Business, University of Georgia\" decoding=\"async\" fetchpriority=\"high\" srcset=\"https://www.terry.uga.edu/wp-content/uploads/Terry_logo_Horizontal_FC.png 6729w, https://www.terry.uga.edu/wp-content/uploads/Terry_logo_Horizontal_FC-300x74.png 300w, https://www.terry.uga.edu/wp-content/uploads/Terry_logo_Horizontal_FC-1024x252.png 1024w, https://www.terry.uga.edu/wp-content/uploads/Terry_logo_Horizontal_FC-768x189.png 768w, https://www.terry.uga.edu/wp-content/uploads/Terry_logo_Horizontal_FC-1536x378.png 1536w, https://www.terry.uga.edu/wp-content/uploads/Terry_logo_Horizontal_FC-2048x504.png 2048w\" sizes=\"(max-width: 6729px) 100vw, 6729px\" /></a>\t\t\t</div><!-- .site-branding -->\n",
      "\t\t\t\n",
      "\t\t\t<nav id=\"site-navigation\" class=\"main-navigation\">\n",
      "\t\t\t\t<button type=\"button\" id=\"toggle-menu\" class=\"btn btn-lg\" aria-controls=\"primary-menu\" aria-expanded=\"false\"><span class=\"visually-hidden\">Primary Menu</span><i class=\"fa-solid fa-bars fa-fw\"></i></button><div class=\"secondary-nav-wrapper\"><div class=\"menu-secondary-container\"><ul id=\"secondary-menu\" class=\"d-none d-xl-flex\"><li id=\"menu-item-26109\" class=\"menu-item menu-item-type-post_type menu-item-object-page menu-item-26109\"><a href=\"https://www.terry.uga.edu/current-students/\">Current Students</a></li>\n",
      "<li id=\"menu-item-17929\" class=\"menu-item menu-item-type-post_type_archive menu-item-object-directory current-menu-item menu-item-17929\"><a href=\"https://www.terry.uga.edu/directory/\" aria-current=\"page\">Directory</a></li>\n",
      "<li id=\"menu-item-17930\" class=\"menu-item menu-item-type-post_type menu-item-object-page menu-item-17930\"><a href=\"https://www.terry.uga.edu/news/\">News</a></li>\n",
      "<li id=\"menu-item-17931\" class=\"menu-item menu-item-type-post_type menu-item-object-page menu-item-17931\"><a href=\"https://www.terry.uga.edu/events/\">Events</a></li>\n",
      "<li id=\"menu-item-17933\" class=\"menu-item menu-item-type-post_type menu-item-object-page menu-item-17933\"><a href=\"https://www.terry.uga.edu/alumni/support-terry/\">Give</a></li>\n",
      "</ul></div><form class=\"site-search--desktop\" action=\"https://www.terry.uga.edu\"><input id=\"search-input\" title=\"Site Search\" name=\"s\" type=\"text\" class=\"site-search-input--desktop form-control \" value=\"\" aria-hidden=\"true\"><button type=\"submit\" class=\"site-search-button--desktop btn\"><span class=\"fa-stack fa-lg\"><i class=\"fa fa-circle fa-stack-2x\"></i><i class=\"fa fa-search fa-stack-1x fa-inverse\"></i></span></button></form></div><div class=\"menu-primary-menu-container\"><ul id=\"primary-menu\" class=\"menu\"><li id=\"menu-item-12287\" class=\"menu-item menu-item-type-post_type menu-item-object-page menu-item-has-children menu-item-12287\"><a href=\"https://www.terry.uga.edu/about/\">About</a>\n",
      "<ul class=\"sub-menu\">\n",
      "\t<li id=\"menu-item-21693\" class=\"menu-item menu-item-type-post_type menu-item-object-page menu-item-21693\"><a href=\"https://www.terry.uga.edu/about/why-choose-terry/\">Why Choose Terry?</a></li>\n",
      "\t<li id=\"menu-item-21695\" class=\"menu-item menu-item-type-post_type menu-item-object-page menu-item-21695\"><a href=\"https://www.terry.uga.edu/about/strategic-initiatives/\">Strategic Initiatives</a></li>\n",
      "\t<li id=\"menu-item-21697\" class=\"menu-item menu-item-type-post_type menu-item-object-page menu-item-21697\"><a href=\"https://www.terry.uga.edu/about/rankings/\">Rankings and Recognition</a></li>\n",
      "\t<li id=\"menu-item-21698\" class=\"menu-item menu-item-type-post_type menu-item-object-page menu-item-21698\"><a href=\"https://www.terry.uga.edu/about/college-leadership/\">College Leadership</a></li>\n",
      "\t<li id=\"menu-item-21700\" class=\"menu-item menu-item-type-post_type menu-item-object-page menu-item-21700\"><a href=\"https://www.terry.uga.edu/about/diversity/\">Diversity &#038; Inclusion</a></li>\n",
      "\t<li id=\"menu-item-21701\" class=\"menu-item menu-item-type-post_type menu-item-object-page menu-item-21701\"><a href=\"https://www.terry.uga.edu/about/visit-terry/\">Visit Terry</a></li>\n",
      "</ul>\n",
      "</li>\n",
      "<li id=\"menu-item-7168\" class=\"menu-item menu-item-type-post_type menu-item-object-page menu-item-has-children menu-item-7168\"><a href=\"https://www.terry.uga.edu/degrees-and-programs/\">Degrees &#038; Programs</a>\n",
      "<ul class=\"sub-menu\">\n",
      "\t<li id=\"menu-item-7147\" class=\"menu-item menu-item-type-post_type menu-item-object-page menu-item-7147\"><a href=\"https://www.terry.uga.edu/undergraduate/\">Undergraduate Programs</a></li>\n",
      "\t<li id=\"menu-item-21663\" class=\"menu-item menu-item-type-post_type menu-item-object-page menu-item-has-children menu-item-21663\"><a href=\"https://www.terry.uga.edu/mba/\">MBA Programs</a>\n",
      "\t<ul class=\"sub-menu\">\n",
      "\t\t<li id=\"menu-item-21665\" class=\"menu-item menu-item-type-post_type menu-item-object-page menu-item-21665\"><a href=\"https://www.terry.uga.edu/mba/fulltime/\">Full-Time MBA Program</a></li>\n",
      "\t\t<li id=\"menu-item-21666\" class=\"menu-item menu-item-type-post_type menu-item-object-page menu-item-21666\"><a href=\"https://www.terry.uga.edu/mba/professional/\">Professional MBA Program</a></li>\n",
      "\t\t<li id=\"menu-item-21669\" class=\"menu-item menu-item-type-post_type menu-item-object-page menu-item-21669\"><a href=\"https://www.terry.uga.edu/mba/executive/\">Executive MBA Program</a></li>\n",
      "\t\t<li id=\"menu-item-21670\" class=\"menu-item menu-item-type-post_type menu-item-object-page menu-item-21670\"><a href=\"https://www.terry.uga.edu/mba/online/\">Online MBA Program</a></li>\n",
      "\t</ul>\n",
      "</li>\n",
      "\t<li id=\"menu-item-21664\" class=\"menu-item menu-item-type-post_type menu-item-object-page menu-item-has-children menu-item-21664\"><a href=\"https://www.terry.uga.edu/specialized-masters-programs/\">Specialized Master’s Programs</a>\n",
      "\t<ul class=\"sub-menu\">\n",
      "\t\t<li id=\"menu-item-21673\" class=\"menu-item menu-item-type-post_type menu-item-object-page menu-item-21673\"><a href=\"https://www.terry.uga.edu/macc/\">Master of Accountancy Program</a></li>\n",
      "\t\t<li id=\"menu-item-21672\" class=\"menu-item menu-item-type-post_type menu-item-object-page menu-item-21672\"><a href=\"https://www.terry.uga.edu/mmr/\">Master of Marketing Research</a></li>\n",
      "\t\t<li id=\"menu-item-21671\" class=\"menu-item menu-item-type-post_type menu-item-object-page menu-item-21671\"><a href=\"https://www.terry.uga.edu/msba/\">Master of Science in Business Analytics</a></li>\n",
      "\t\t<li id=\"menu-item-21675\" class=\"menu-item menu-item-type-post_type menu-item-object-page menu-item-21675\"><a href=\"https://www.terry.uga.edu/mbt/\">Master of Business &#038; Technology (Online)</a></li>\n",
      "\t</ul>\n",
      "</li>\n",
      "\t<li id=\"menu-item-21683\" class=\"menu-item menu-item-type-post_type menu-item-object-page menu-item-21683\"><a href=\"https://www.terry.uga.edu/phd/\">PhD Programs</a></li>\n",
      "\t<li id=\"menu-item-21681\" class=\"menu-item menu-item-type-post_type menu-item-object-page menu-item-21681\"><a href=\"https://www.terry.uga.edu/certificates/\">Certificates</a></li>\n",
      "\t<li id=\"menu-item-21684\" class=\"menu-item menu-item-type-post_type menu-item-object-page menu-item-21684\"><a href=\"https://www.terry.uga.edu/international-programs/\">International Programs</a></li>\n",
      "</ul>\n",
      "</li>\n",
      "<li id=\"menu-item-7170\" class=\"menu-item menu-item-type-post_type menu-item-object-page menu-item-has-children menu-item-7170\"><a href=\"https://www.terry.uga.edu/faculty-and-research/\">Faculty &#038; Research</a>\n",
      "<ul class=\"sub-menu\">\n",
      "\t<li id=\"menu-item-21689\" class=\"menu-item menu-item-type-post_type_archive menu-item-object-departments menu-item-21689\"><a href=\"https://www.terry.uga.edu/departments/\">Academic Departments</a></li>\n",
      "\t<li id=\"menu-item-21704\" class=\"menu-item menu-item-type-post_type menu-item-object-page menu-item-21704\"><a href=\"https://www.terry.uga.edu/faculty-and-research/expertise/\">Research Expertise</a></li>\n",
      "\t<li id=\"menu-item-21707\" class=\"menu-item menu-item-type-post_type menu-item-object-page menu-item-21707\"><a href=\"https://www.terry.uga.edu/faculty-and-research/resources/\">Research Resources</a></li>\n",
      "\t<li id=\"menu-item-21705\" class=\"menu-item menu-item-type-post_type menu-item-object-page menu-item-21705\"><a href=\"https://www.terry.uga.edu/faculty-and-research/research-centers/\">Research Centers</a></li>\n",
      "</ul>\n",
      "</li>\n",
      "<li id=\"menu-item-7169\" class=\"menu-item menu-item-type-post_type menu-item-object-page menu-item-has-children menu-item-7169\"><a href=\"https://www.terry.uga.edu/executive/\">Executive Education</a>\n",
      "<ul class=\"sub-menu\">\n",
      "\t<li id=\"menu-item-21767\" class=\"menu-item menu-item-type-post_type menu-item-object-page menu-item-21767\"><a href=\"https://www.terry.uga.edu/executive/programs/\">Program Offerings</a></li>\n",
      "\t<li id=\"menu-item-21771\" class=\"menu-item menu-item-type-post_type menu-item-object-page menu-item-21771\"><a href=\"https://www.terry.uga.edu/executive/custom-programs/\">Custom Programs</a></li>\n",
      "\t<li id=\"menu-item-21777\" class=\"menu-item menu-item-type-post_type menu-item-object-page menu-item-21777\"><a target=\"_blank\" rel=\"noopener\" href=\"https://www.terry.uga.edu/executive/calendar/\">Calendar</a></li>\n",
      "</ul>\n",
      "</li>\n",
      "<li id=\"menu-item-7166\" class=\"menu-item menu-item-type-post_type menu-item-object-page menu-item-has-children menu-item-7166\"><a href=\"https://www.terry.uga.edu/alumni/\">Alumni</a>\n",
      "<ul class=\"sub-menu\">\n",
      "\t<li id=\"menu-item-21762\" class=\"menu-item menu-item-type-post_type menu-item-object-page menu-item-21762\"><a href=\"https://www.terry.uga.edu/alumni/stay-involved/\">Stay Involved</a></li>\n",
      "\t<li id=\"menu-item-21763\" class=\"menu-item menu-item-type-post_type menu-item-object-page menu-item-21763\"><a href=\"https://www.terry.uga.edu/alumni/events/\">Alumni Events</a></li>\n",
      "\t<li id=\"menu-item-21765\" class=\"menu-item menu-item-type-post_type menu-item-object-page menu-item-21765\"><a href=\"https://www.terry.uga.edu/alumni/support-terry/\">Support Terry</a></li>\n",
      "\t<li id=\"menu-item-21766\" class=\"menu-item menu-item-type-post_type menu-item-object-page menu-item-21766\"><a href=\"https://www.terry.uga.edu/alumni/alumni-student-engagement-opportunities/\">Alumni-Student Engagement Opportunities</a></li>\n",
      "</ul>\n",
      "</li>\n",
      "<li id=\"menu-item-12286\" class=\"menu-item menu-item-type-post_type menu-item-object-page menu-item-has-children menu-item-12286\"><a href=\"https://www.terry.uga.edu/companies-and-recruiters/\">Companies &#038; Recruiters</a>\n",
      "<ul class=\"sub-menu\">\n",
      "\t<li id=\"menu-item-21709\" class=\"menu-item menu-item-type-post_type menu-item-object-page menu-item-21709\"><a href=\"https://www.terry.uga.edu/companies-and-recruiters/undergraduates/\">Hire Undergraduates</a></li>\n",
      "\t<li id=\"menu-item-21710\" class=\"menu-item menu-item-type-post_type menu-item-object-page menu-item-21710\"><a href=\"https://www.terry.uga.edu/companies-and-recruiters/masters-grads/\">Hire Master’s Graduates</a></li>\n",
      "\t<li id=\"menu-item-21712\" class=\"menu-item menu-item-type-post_type menu-item-object-page menu-item-21712\"><a href=\"https://www.terry.uga.edu/companies-and-recruiters/partner-with-terry/\">Partner With Us</a></li>\n",
      "</ul>\n",
      "</li>\n",
      "</ul></div>\t\t\t</nav><!-- #site-navigation -->\n",
      "\t\t</div>\n",
      "\t</header><!-- #masthead -->\n",
      "\n",
      "\t\t\t<nav id=\"sub-navigation--desktop\" class=\"sub-navigation d-none d-md-block\">\n",
      "\t\t\t<div class=\"container-fluid\">\n",
      "\t\t\t\t<div class=\"menu-nested-pages-container\"><ul id=\"site-nav\" class=\"menu\"><li id=\"menu-item-27228\" class=\"menu-item menu-item-type-post_type_archive menu-item-object-directory current-menu-item menu-item-27228\"><a href=\"https://www.terry.uga.edu/directory/\" aria-current=\"page\">Faculty &#038; Staff Directory</a></li>\n",
      "</ul></div>\t\t\t</div>\n",
      "\t\t</nav><!-- #sub-navigation -->\n",
      "\t\t<div id=\"breadcrumbs\"><div class=\"container-fluid breadcrumbs-container\"><span><span><a href=\"https://www.terry.uga.edu/\"><i class=\"fa fa-home\" title=\"Home\"></i><span class=\"visually-hidden\">Home</span></a></span>  <span><a href=\"https://www.terry.uga.edu/directory/\">Faculty & Staff Directory</a></span>  <span class=\"breadcrumb_last\" aria-current=\"page\">Management Information Systems</span></span></div></div>\n",
      "\t<main id=\"primary\" class=\"site-main\">\n",
      "\t\t<nav id=\"sub-navigation--mobile\" class=\"d-block d-md-none\"><div class=\"container-xl\"><div class=\"menu-nested-pages-container\"><ul id=\"subnav--mobile\" class=\"menu\"><li class=\"menu-item menu-item-type-post_type_archive menu-item-object-directory current-menu-item menu-item-27228\"><a href=\"https://www.terry.uga.edu/directory/\" aria-current=\"page\">Faculty &#038; Staff Directory</a></li>\n",
      "</ul></div></div></nav><div class=\"container-xl\">\n",
      "<header class=\"page-header\">\n",
      "\t<h1 class=\"page-title\">Faculty &amp; Staff Directory</h1></header><!-- .page-header -->\n",
      "<form action=\"/directory/\" method=\"get\" class=\"mb-5 p-3 border rounded shadow bg-white\"><div class=\"row mb-3\"><div class=\"col-12 col-md-4\"><label for=\"directory-search\" class=\"form-label \">Search by Keyword</label><div class=\"input-group\"><span class=\"input-group-text bg-transparent\"><i class=\"fas fa-search\"></i></span><input type=\"text\" class=\"form-control form-control-lg border-start-0\" id=\"directory-search\" name=\"s\" placeholder=\"\" value=\"\" /></div></div><div class=\"col-12 col-md-4\"><label for=\"group\" class=\"form-label\">Unit</label><select id=\"group\" name=\"group\" class=\"form-select form-select-lg\"><option value=\"\">Any</option><optgroup label=\"Department\"><option value=\"accounting\">Accounting</option><option value=\"economics\">Economics</option><option value=\"finance\">Finance</option><option value=\"ilsre\">Insurance, Legal Studies and Real Estate</option><option value=\"legal-studies\">Legal Studies</option><option value=\"management\">Management</option><option value=\"management-information-systems\" selected>Management Information Systems</option><option value=\"marketing\">Marketing</option><option value=\"real-estate\">Real Estate</option><option value=\"risk-management-and-insurance\">Risk Management and Insurance</option></optgroup><optgroup label=\"Program\"><option value=\"actuarial-science\">Actuarial Science</option><option value=\"entrepreneurship\">Entrepreneurship</option><option value=\"executive-education\">Executive Education</option><option value=\"executive-mba\">Executive MBA</option><option value=\"fulltime-mba\">Full-Time MBA</option><option value=\"ila\">Institute for Leadership Advancement</option><option value=\"international-business\">International Business</option><option value=\"macc\">Master of Accountancy</option><option value=\"mbt\">Master of Business and Technology</option><option value=\"mmr\">Master of Marketing Research</option><option value=\"msba\">Master of Science in Business Analytics</option><option value=\"music-business\">Music Business</option><option value=\"online-mba\">Online MBA</option><option value=\"phd-program\">PhD Program</option><option value=\"professional-mba\">Professional MBA</option><option value=\"undergraduate\">Undergraduate Business Program</option></optgroup><optgroup label=\"Administrative Unit\"><option value=\"business-office\">Business Office</option><option value=\"deans-office\">Dean’s Office</option><option value=\"tdar\">Development and Alumni Relations</option><option value=\"diversity-relations\">Diversity Relations</option><option value=\"teec\">Executive Education Center</option><option value=\"facilities-and-logistics\">Facilities and Logistics Office</option><option value=\"finance-and-administration\">Finance and Administration</option><option value=\"cmc\">MBA Career Management Center</option><option value=\"information-technology\">Office of Information Technology</option><option value=\"marketing-and-communications\">Office of Marketing and Communications</option><option value=\"selig-center\">Selig Center</option><option value=\"special-events\">Special Events</option><option value=\"undergraduate-student-services\">Undergraduate Student Services</option></optgroup></select></div><div class=\"col-12 col-md-4\"><label for=\"type\" class=\"form-label\">Employee Type</label><select id=\"type\" name=\"type\" class=\"form-select form-select-lg\"><option value=\"\">Any</option><option value=\"faculty\">Faculty</option><option value=\"emeritus\">–Emeritus</option><option value=\"research\">–Research</option><option value=\"phd\">PhD Student</option><option value=\"staff\">Staff</option></select></div></div><button class=\"btn btn-primary\" type=\"submit\">Apply Filters</button> <a class=\"btn btn-light\" href=\"/directory/\" type=\"submit\">Reset</a></form><h2>Faculty</h2><div class=\"row gx-4 gy-4 mb-5 align-items-stretch\"><div class=\"col-12 col-md-6 col-lg-4\">\t<div class=\"entry-content row mx-0 rounded bg-white p-4 shadow-lg h-100\">\n",
      "\t\t<div class=\"col-6 col-sm-4 mb-3 mb-sm-0\"><a class=\"entry-title\" href=\"https://www.terry.uga.edu/directory/karen-aguar/\"><img width=\"500\" height=\"500\" src=\"https://www.terry.uga.edu/wp-content/uploads/aguar_karen_2018-500x500.jpg\" class=\"profile-image rounded-circle img-fluid wp-post-image\" alt=\"Karen headshot\" srcset=\"https://www.terry.uga.edu/wp-content/uploads/aguar_karen_2018-500x500.jpg 480w, https://www.terry.uga.edu/wp-content/uploads/aguar_karen_2018-500x500.jpg 640w, https://www.terry.uga.edu/wp-content/uploads/aguar_karen_2018-500x500.jpg 960w\" decoding=\"async\" /></a></div><div class=\"col-12 col-sm-8\"><a class=\"entry-title\" href=\"https://www.terry.uga.edu/directory/karen-aguar/\">Karen Aguar</a><div class=\"entry-body\"><ul class=\"positions\"><li class=\"position\"><span class=\"position__title\">Lecturer</span>, <span class=\"position__group\">Management Information Systems, Master of Business and Technology</span></li></ul></div></div>\t</div><!-- .entry-content -->\n",
      "\t</div><div class=\"col-12 col-md-6 col-lg-4\">\t<div class=\"entry-content row mx-0 rounded bg-white p-4 shadow-lg h-100\">\n",
      "\t\t<div class=\"col-6 col-sm-4 mb-3 mb-sm-0\"><a class=\"entry-title\" href=\"https://www.terry.uga.edu/directory/mariana-andrade/\"><img width=\"500\" height=\"500\" src=\"https://www.terry.uga.edu/wp-content/uploads/andrade-mariana-2024-500x500.jpg\" class=\"profile-image rounded-circle img-fluid wp-post-image\" alt=\"Mariana Andrade\" srcset=\"https://www.terry.uga.edu/wp-content/uploads/andrade-mariana-2024-500x500.jpg 480w, https://www.terry.uga.edu/wp-content/uploads/andrade-mariana-2024-500x500.jpg 640w, https://www.terry.uga.edu/wp-content/uploads/andrade-mariana-2024-500x500.jpg 960w\" decoding=\"async\" /></a></div><div class=\"col-12 col-sm-8\"><a class=\"entry-title\" href=\"https://www.terry.uga.edu/directory/mariana-andrade/\">Mariana Andrade</a><div class=\"entry-body\"><ul class=\"positions\"><li class=\"position\"><span class=\"position__title\">Assistant Professor</span>, <span class=\"position__group\">Management Information Systems</span></li></ul></div></div>\t</div><!-- .entry-content -->\n",
      "\t</div><div class=\"col-12 col-md-6 col-lg-4\">\t<div class=\"entry-content row mx-0 rounded bg-white p-4 shadow-lg h-100\">\n",
      "\t\t<div class=\"col-6 col-sm-4 mb-3 mb-sm-0\"><a class=\"entry-title\" href=\"https://www.terry.uga.edu/directory/marie-claude-maric-boudreau/\"><img width=\"500\" height=\"500\" src=\"https://www.terry.uga.edu/wp-content/uploads/boudreau_marie-claude_2017-500x500.jpg\" class=\"profile-image rounded-circle img-fluid wp-post-image\" alt=\"Marie-Claude headshot\" srcset=\"https://www.terry.uga.edu/wp-content/uploads/boudreau_marie-claude_2017-500x500.jpg 480w, https://www.terry.uga.edu/wp-content/uploads/boudreau_marie-claude_2017-500x500.jpg 640w, https://www.terry.uga.edu/wp-content/uploads/boudreau_marie-claude_2017-500x500.jpg 960w\" decoding=\"async\" /></a></div><div class=\"col-12 col-sm-8\"><a class=\"entry-title\" href=\"https://www.terry.uga.edu/directory/marie-claude-maric-boudreau/\">Marie-Claude (Maric) Boudreau</a><div class=\"entry-body\"><ul class=\"positions\"><li class=\"position\"><span class=\"position__title\">Associate Professor</span>, <span class=\"position__group\">Management Information Systems</span></li></ul></div></div>\t</div><!-- .entry-content -->\n",
      "\t</div><div class=\"col-12 col-md-6 col-lg-4\">\t<div class=\"entry-content row mx-0 rounded bg-white p-4 shadow-lg h-100\">\n",
      "\t\t<div class=\"col-6 col-sm-4 mb-3 mb-sm-0\"><a class=\"entry-title\" href=\"https://www.terry.uga.edu/directory/stacy-boyles/\"><img width=\"500\" height=\"500\" src=\"https://www.terry.uga.edu/wp-content/uploads/Boyles-Stacy-500x500.jpg\" class=\"profile-image rounded-circle img-fluid wp-post-image\" alt=\"Headshot of Stacy Boyles\" srcset=\"https://www.terry.uga.edu/wp-content/uploads/Boyles-Stacy-500x500.jpg 480w, https://www.terry.uga.edu/wp-content/uploads/Boyles-Stacy-500x500.jpg 640w, https://www.terry.uga.edu/wp-content/uploads/Boyles-Stacy-500x500.jpg 960w\" decoding=\"async\" /></a></div><div class=\"col-12 col-sm-8\"><a class=\"entry-title\" href=\"https://www.terry.uga.edu/directory/stacy-boyles/\">Stacy Boyles</a><div class=\"entry-body\"><ul class=\"positions\"><li class=\"position\"><span class=\"position__title\">Adjunct Lecturer</span>, <span class=\"position__group\">Management Information Systems</span></li></ul></div></div>\t</div><!-- .entry-content -->\n",
      "\t</div><div class=\"col-12 col-md-6 col-lg-4\">\t<div class=\"entry-content row mx-0 rounded bg-white p-4 shadow-lg h-100\">\n",
      "\t\t<div class=\"col-6 col-sm-4 mb-3 mb-sm-0\"><a class=\"entry-title\" href=\"https://www.terry.uga.edu/directory/dave-chatterjee/\"><img width=\"500\" height=\"500\" src=\"https://www.terry.uga.edu/wp-content/uploads/Dave-Chatterjee-500x500.jpeg\" class=\"profile-image rounded-circle img-fluid wp-post-image\" alt=\"Headshot of DAVE CHATTERJEE\" srcset=\"https://www.terry.uga.edu/wp-content/uploads/Dave-Chatterjee-500x500.jpeg 480w, https://www.terry.uga.edu/wp-content/uploads/Dave-Chatterjee-500x500.jpeg 640w, https://www.terry.uga.edu/wp-content/uploads/Dave-Chatterjee-500x500.jpeg 960w\" decoding=\"async\" /></a></div><div class=\"col-12 col-sm-8\"><a class=\"entry-title\" href=\"https://www.terry.uga.edu/directory/dave-chatterjee/\">Dave Chatterjee</a><div class=\"entry-body\"><ul class=\"positions\"><li class=\"position\"><span class=\"position__title\">Associate Professor</span>, <span class=\"position__group\">Management Information Systems</span></li></ul></div></div>\t</div><!-- .entry-content -->\n",
      "\t</div><div class=\"col-12 col-md-6 col-lg-4\">\t<div class=\"entry-content row mx-0 rounded bg-white p-4 shadow-lg h-100\">\n",
      "\t\t<div class=\"col-6 col-sm-4 mb-3 mb-sm-0\"><a class=\"entry-title\" href=\"https://www.terry.uga.edu/directory/timothy-tim-chester/\"><img width=\"500\" height=\"500\" src=\"https://www.terry.uga.edu/wp-content/uploads/chester_timothy_2021-500x500.jpg\" class=\"profile-image rounded-circle img-fluid wp-post-image\" alt=\"Timothy headshot\" srcset=\"https://www.terry.uga.edu/wp-content/uploads/chester_timothy_2021-500x500.jpg 480w, https://www.terry.uga.edu/wp-content/uploads/chester_timothy_2021-500x500.jpg 640w, https://www.terry.uga.edu/wp-content/uploads/chester_timothy_2021-500x500.jpg 960w\" decoding=\"async\" /></a></div><div class=\"col-12 col-sm-8\"><a class=\"entry-title\" href=\"https://www.terry.uga.edu/directory/timothy-tim-chester/\">Timothy (Tim) Chester</a><div class=\"entry-body\"><ul class=\"positions\"><li class=\"position\"><span class=\"position__title\">Adjunct Instructor</span>, <span class=\"position__group\">Management Information Systems</span></li></ul></div></div>\t</div><!-- .entry-content -->\n",
      "\t</div><div class=\"col-12 col-md-6 col-lg-4\">\t<div class=\"entry-content row mx-0 rounded bg-white p-4 shadow-lg h-100\">\n",
      "\t\t<div class=\"col-6 col-sm-4 mb-3 mb-sm-0\"><a class=\"entry-title\" href=\"https://www.terry.uga.edu/directory/dave-crouch/\"><img width=\"500\" height=\"500\" src=\"https://www.terry.uga.edu/wp-content/uploads/Dave-Crouch-2023-05.jpg\" class=\"profile-image rounded-circle img-fluid wp-post-image\" alt=\"Dave Crouch\" srcset=\"https://www.terry.uga.edu/wp-content/uploads/Dave-Crouch-2023-05.jpg 480w, https://www.terry.uga.edu/wp-content/uploads/Dave-Crouch-2023-05.jpg 640w, https://www.terry.uga.edu/wp-content/uploads/Dave-Crouch-2023-05.jpg 960w\" decoding=\"async\" /></a></div><div class=\"col-12 col-sm-8\"><a class=\"entry-title\" href=\"https://www.terry.uga.edu/directory/dave-crouch/\">Dave Crouch</a><div class=\"entry-body\"><ul class=\"positions\"><li class=\"position\"><span class=\"position__title\">Adjunct Lecturer</span>, <span class=\"position__group\">Management Information Systems</span></li></ul></div></div>\t</div><!-- .entry-content -->\n",
      "\t</div><div class=\"col-12 col-md-6 col-lg-4\">\t<div class=\"entry-content row mx-0 rounded bg-white p-4 shadow-lg h-100\">\n",
      "\t\t<div class=\"col-6 col-sm-4 mb-3 mb-sm-0\"><a class=\"entry-title\" href=\"https://www.terry.uga.edu/directory/jeffrey-howells/\"><img width=\"500\" height=\"500\" src=\"https://www.terry.uga.edu/wp-content/uploads/howells_jeffrey_2020-500x500.jpg\" class=\"profile-image rounded-circle img-fluid wp-post-image\" alt=\"Headshot of JEFFREY HOWELLS\" srcset=\"https://www.terry.uga.edu/wp-content/uploads/howells_jeffrey_2020-500x500.jpg 480w, https://www.terry.uga.edu/wp-content/uploads/howells_jeffrey_2020-500x500.jpg 640w, https://www.terry.uga.edu/wp-content/uploads/howells_jeffrey_2020-500x500.jpg 960w\" decoding=\"async\" /></a></div><div class=\"col-12 col-sm-8\"><a class=\"entry-title\" href=\"https://www.terry.uga.edu/directory/jeffrey-howells/\">Jeffrey Howells</a><div class=\"entry-body\"><ul class=\"positions\"><li class=\"position\"><span class=\"position__title\">Part-Time Lecturer</span>, <span class=\"position__group\">Management Information Systems, Master of Business and Technology</span></li></ul></div></div>\t</div><!-- .entry-content -->\n",
      "\t</div><div class=\"col-12 col-md-6 col-lg-4\">\t<div class=\"entry-content row mx-0 rounded bg-white p-4 shadow-lg h-100\">\n",
      "\t\t<div class=\"col-6 col-sm-4 mb-3 mb-sm-0\"><a class=\"entry-title\" href=\"https://www.terry.uga.edu/directory/mark-w-huber/\"><img width=\"500\" height=\"500\" src=\"https://www.terry.uga.edu/wp-content/uploads/20211015_MIST_019-500x500.jpg\" class=\"profile-image rounded-circle img-fluid wp-post-image\" alt=\"MIST Faculty and PhD student photos in the Foley Courtyard on Friday\" srcset=\"https://www.terry.uga.edu/wp-content/uploads/20211015_MIST_019-500x500.jpg 480w, https://www.terry.uga.edu/wp-content/uploads/20211015_MIST_019-500x500.jpg 640w, https://www.terry.uga.edu/wp-content/uploads/20211015_MIST_019-500x500.jpg 960w\" decoding=\"async\" /></a></div><div class=\"col-12 col-sm-8\"><a class=\"entry-title\" href=\"https://www.terry.uga.edu/directory/mark-w-huber/\">Mark W. Huber</a><div class=\"entry-body\"><ul class=\"positions\"><li class=\"position\"><span class=\"position__title\">Principal Lecturer</span>, <span class=\"position__group\">Management Information Systems, Master of Business and Technology</span></li></ul></div></div>\t</div><!-- .entry-content -->\n",
      "\t</div><div class=\"col-12 col-md-6 col-lg-4\">\t<div class=\"entry-content row mx-0 rounded bg-white p-4 shadow-lg h-100\">\n",
      "\t\t<div class=\"col-6 col-sm-4 mb-3 mb-sm-0\"><a class=\"entry-title\" href=\"https://www.terry.uga.edu/directory/karim-jetha/\"><img width=\"500\" height=\"500\" src=\"https://www.terry.uga.edu/wp-content/uploads/jetha_karim_2016-500x500.jpg\" class=\"profile-image rounded-circle img-fluid wp-post-image\" alt=\"Karim headshot\" srcset=\"https://www.terry.uga.edu/wp-content/uploads/jetha_karim_2016-500x500.jpg 480w, https://www.terry.uga.edu/wp-content/uploads/jetha_karim_2016-500x500.jpg 640w, https://www.terry.uga.edu/wp-content/uploads/jetha_karim_2016-500x500.jpg 960w\" decoding=\"async\" /></a></div><div class=\"col-12 col-sm-8\"><a class=\"entry-title\" href=\"https://www.terry.uga.edu/directory/karim-jetha/\">Karim Jetha</a><div class=\"entry-body\"><ul class=\"positions\"><li class=\"position\"><span class=\"position__title\">Lecturer</span>, <span class=\"position__group\">Management Information Systems</span></li></ul></div></div>\t</div><!-- .entry-content -->\n",
      "\t</div><div class=\"col-12 col-md-6 col-lg-4\">\t<div class=\"entry-content row mx-0 rounded bg-white p-4 shadow-lg h-100\">\n",
      "\t\t<div class=\"col-6 col-sm-4 mb-3 mb-sm-0\"><a class=\"entry-title\" href=\"https://www.terry.uga.edu/directory/gerald-c-kane/\"><img width=\"500\" height=\"500\" src=\"https://www.terry.uga.edu/wp-content/uploads/KaneLibrary_0-500x500.jpg\" class=\"profile-image rounded-circle img-fluid wp-post-image\" alt=\"Gerald C. Kane\" srcset=\"https://www.terry.uga.edu/wp-content/uploads/KaneLibrary_0-500x500.jpg 480w, https://www.terry.uga.edu/wp-content/uploads/KaneLibrary_0-500x500.jpg 640w, https://www.terry.uga.edu/wp-content/uploads/KaneLibrary_0-500x500.jpg 960w\" decoding=\"async\" /></a></div><div class=\"col-12 col-sm-8\"><a class=\"entry-title\" href=\"https://www.terry.uga.edu/directory/gerald-c-kane/\">Gerald C. Kane</a><div class=\"entry-body\"><ul class=\"positions\"><li class=\"position\"><span class=\"position__title\">Department Head, C. Herman and Mary Virginia Terry Chair of Business Administration and Professor</span>, <span class=\"position__group\">Management Information Systems</span></li></ul></div></div>\t</div><!-- .entry-content -->\n",
      "\t</div><div class=\"col-12 col-md-6 col-lg-4\">\t<div class=\"entry-content row mx-0 rounded bg-white p-4 shadow-lg h-100\">\n",
      "\t\t<div class=\"col-6 col-sm-4 mb-3 mb-sm-0\"><a class=\"entry-title\" href=\"https://www.terry.uga.edu/directory/elena-karahanna/\"><img width=\"500\" height=\"500\" src=\"https://www.terry.uga.edu/wp-content/uploads/karahanna_elena_2016-500x500.jpg\" class=\"profile-image rounded-circle img-fluid wp-post-image\" alt=\"Elena headshot\" srcset=\"https://www.terry.uga.edu/wp-content/uploads/karahanna_elena_2016-500x500.jpg 480w, https://www.terry.uga.edu/wp-content/uploads/karahanna_elena_2016-500x500.jpg 640w, https://www.terry.uga.edu/wp-content/uploads/karahanna_elena_2016-500x500.jpg 960w\" decoding=\"async\" /></a></div><div class=\"col-12 col-sm-8\"><a class=\"entry-title\" href=\"https://www.terry.uga.edu/directory/elena-karahanna/\">Elena Karahanna</a><div class=\"entry-body\"><ul class=\"positions\"><li class=\"position\"><span class=\"position__title\">C.Herman and Mary Virginia Terry Distinguished Chair of Business Administration, UGA Distinguished Research Professor and Professor</span>, <span class=\"position__group\">Management Information Systems</span></li></ul></div></div>\t</div><!-- .entry-content -->\n",
      "\t</div><div class=\"col-12 col-md-6 col-lg-4\">\t<div class=\"entry-content row mx-0 rounded bg-white p-4 shadow-lg h-100\">\n",
      "\t\t<div class=\"col-6 col-sm-4 mb-3 mb-sm-0\"><a class=\"entry-title\" href=\"https://www.terry.uga.edu/directory/akshat-lakhiwal/\"><img width=\"500\" height=\"500\" src=\"https://www.terry.uga.edu/wp-content/uploads/lakhiwal-akshat-2024-500x500.jpg\" class=\"profile-image rounded-circle img-fluid wp-post-image\" alt=\"Akshat Lakhiwal\" srcset=\"https://www.terry.uga.edu/wp-content/uploads/lakhiwal-akshat-2024-500x500.jpg 480w, https://www.terry.uga.edu/wp-content/uploads/lakhiwal-akshat-2024-500x500.jpg 640w, https://www.terry.uga.edu/wp-content/uploads/lakhiwal-akshat-2024-500x500.jpg 960w\" decoding=\"async\" /></a></div><div class=\"col-12 col-sm-8\"><a class=\"entry-title\" href=\"https://www.terry.uga.edu/directory/akshat-lakhiwal/\">Akshat Lakhiwal</a><div class=\"entry-body\"><ul class=\"positions\"><li class=\"position\"><span class=\"position__title\">Assistant Professor</span>, <span class=\"position__group\">Management Information Systems</span></li></ul></div></div>\t</div><!-- .entry-content -->\n",
      "\t</div><div class=\"col-12 col-md-6 col-lg-4\">\t<div class=\"entry-content row mx-0 rounded bg-white p-4 shadow-lg h-100\">\n",
      "\t\t<div class=\"col-6 col-sm-4 mb-3 mb-sm-0\"><a class=\"entry-title\" href=\"https://www.terry.uga.edu/directory/weifeng-li/\"><img width=\"500\" height=\"500\" src=\"https://www.terry.uga.edu/wp-content/uploads/li_weifeng_2017-500x500.jpg\" class=\"profile-image rounded-circle img-fluid wp-post-image\" alt=\"Weifeng headshot\" srcset=\"https://www.terry.uga.edu/wp-content/uploads/li_weifeng_2017-500x500.jpg 480w, https://www.terry.uga.edu/wp-content/uploads/li_weifeng_2017-500x500.jpg 640w, https://www.terry.uga.edu/wp-content/uploads/li_weifeng_2017-500x500.jpg 960w\" decoding=\"async\" /></a></div><div class=\"col-12 col-sm-8\"><a class=\"entry-title\" href=\"https://www.terry.uga.edu/directory/weifeng-li/\">Weifeng Li</a><div class=\"entry-body\"><ul class=\"positions\"><li class=\"position\"><span class=\"position__title\">Assistant Professor</span>, <span class=\"position__group\">Management Information Systems</span></li></ul></div></div>\t</div><!-- .entry-content -->\n",
      "\t</div><div class=\"col-12 col-md-6 col-lg-4\">\t<div class=\"entry-content row mx-0 rounded bg-white p-4 shadow-lg h-100\">\n",
      "\t\t<div class=\"col-6 col-sm-4 mb-3 mb-sm-0\"><a class=\"entry-title\" href=\"https://www.terry.uga.edu/directory/john-martin/\"><img src=\"https://www.terry.uga.edu/wp-content/themes/terry/src/img/user-icon.png\" class=\"profile-image rounded-circle img-fluid\" alt=\"user icon\" /></a></div><div class=\"col-12 col-sm-8\"><a class=\"entry-title\" href=\"https://www.terry.uga.edu/directory/john-martin/\">John Martin</a><div class=\"entry-body\"><ul class=\"positions\"><li class=\"position\"><span class=\"position__title\">Adjunct Lecturer</span>, <span class=\"position__group\">Management Information Systems</span></li></ul></div></div>\t</div><!-- .entry-content -->\n",
      "\t</div><div class=\"col-12 col-md-6 col-lg-4\">\t<div class=\"entry-content row mx-0 rounded bg-white p-4 shadow-lg h-100\">\n",
      "\t\t<div class=\"col-6 col-sm-4 mb-3 mb-sm-0\"><a class=\"entry-title\" href=\"https://www.terry.uga.edu/directory/andrew-s-miller/\"><img width=\"500\" height=\"500\" src=\"https://www.terry.uga.edu/wp-content/uploads/Andrew-Miller-UGA-Headshot-2022-500x500.jpg\" class=\"profile-image rounded-circle img-fluid wp-post-image\" alt=\"Headshot of Andrew S. Miller\" srcset=\"https://www.terry.uga.edu/wp-content/uploads/Andrew-Miller-UGA-Headshot-2022-500x500.jpg 480w, https://www.terry.uga.edu/wp-content/uploads/Andrew-Miller-UGA-Headshot-2022-500x500.jpg 640w, https://www.terry.uga.edu/wp-content/uploads/Andrew-Miller-UGA-Headshot-2022-500x500.jpg 960w\" decoding=\"async\" /></a></div><div class=\"col-12 col-sm-8\"><a class=\"entry-title\" href=\"https://www.terry.uga.edu/directory/andrew-s-miller/\">Andrew S. Miller</a><div class=\"entry-body\"><ul class=\"positions\"><li class=\"position\"><span class=\"position__title\">Lecturer</span>, <span class=\"position__group\">Management Information Systems</span></li></ul></div></div>\t</div><!-- .entry-content -->\n",
      "\t</div><div class=\"col-12 col-md-6 col-lg-4\">\t<div class=\"entry-content row mx-0 rounded bg-white p-4 shadow-lg h-100\">\n",
      "\t\t<div class=\"col-6 col-sm-4 mb-3 mb-sm-0\"><a class=\"entry-title\" href=\"https://www.terry.uga.edu/directory/jiyong-park/\"><img width=\"500\" height=\"500\" src=\"https://www.terry.uga.edu/wp-content/uploads/Park-Jiyong-500x500.jpg\" class=\"profile-image rounded-circle img-fluid wp-post-image\" alt=\"Jiyong Park is an assistant professor at UGA&#039;s Terry College of Business\" srcset=\"https://www.terry.uga.edu/wp-content/uploads/Park-Jiyong-500x500.jpg 480w, https://www.terry.uga.edu/wp-content/uploads/Park-Jiyong-500x500.jpg 640w, https://www.terry.uga.edu/wp-content/uploads/Park-Jiyong-500x500.jpg 960w\" decoding=\"async\" /></a></div><div class=\"col-12 col-sm-8\"><a class=\"entry-title\" href=\"https://www.terry.uga.edu/directory/jiyong-park/\">Jiyong Park</a><div class=\"entry-body\"><ul class=\"positions\"><li class=\"position\"><span class=\"position__title\">Assistant Professor</span>, <span class=\"position__group\">Management Information Systems</span></li></ul></div></div>\t</div><!-- .entry-content -->\n",
      "\t</div><div class=\"col-12 col-md-6 col-lg-4\">\t<div class=\"entry-content row mx-0 rounded bg-white p-4 shadow-lg h-100\">\n",
      "\t\t<div class=\"col-6 col-sm-4 mb-3 mb-sm-0\"><a class=\"entry-title\" href=\"https://www.terry.uga.edu/directory/craig-allan-piercy/\"><img width=\"500\" height=\"500\" src=\"https://www.terry.uga.edu/wp-content/uploads/piercy_craig_2018-500x500.jpg\" class=\"profile-image rounded-circle img-fluid wp-post-image\" alt=\"Craig headshot\" srcset=\"https://www.terry.uga.edu/wp-content/uploads/piercy_craig_2018-500x500.jpg 480w, https://www.terry.uga.edu/wp-content/uploads/piercy_craig_2018-500x500.jpg 640w, https://www.terry.uga.edu/wp-content/uploads/piercy_craig_2018-500x500.jpg 960w\" decoding=\"async\" /></a></div><div class=\"col-12 col-sm-8\"><a class=\"entry-title\" href=\"https://www.terry.uga.edu/directory/craig-allan-piercy/\">Craig Allan Piercy</a><div class=\"entry-body\"><ul class=\"positions\"><li class=\"position\"><span class=\"position__title\">Director</span>, <span class=\"position__group\">Master of Business and Technology</span></li><li class=\"position\"><span class=\"position__title\">Principal Lecturer</span>, <span class=\"position__group\">Master of Business and Technology, Management Information Systems</span></li></ul></div></div>\t</div><!-- .entry-content -->\n",
      "\t</div><div class=\"col-12 col-md-6 col-lg-4\">\t<div class=\"entry-content row mx-0 rounded bg-white p-4 shadow-lg h-100\">\n",
      "\t\t<div class=\"col-6 col-sm-4 mb-3 mb-sm-0\"><a class=\"entry-title\" href=\"https://www.terry.uga.edu/directory/john-rios/\"><img width=\"500\" height=\"500\" src=\"https://www.terry.uga.edu/wp-content/uploads/rios_john_2021-500x500.jpg\" class=\"profile-image rounded-circle img-fluid wp-post-image\" alt=\"John headshot\" srcset=\"https://www.terry.uga.edu/wp-content/uploads/rios_john_2021-500x500.jpg 480w, https://www.terry.uga.edu/wp-content/uploads/rios_john_2021-500x500.jpg 640w, https://www.terry.uga.edu/wp-content/uploads/rios_john_2021-500x500.jpg 960w\" decoding=\"async\" /></a></div><div class=\"col-12 col-sm-8\"><a class=\"entry-title\" href=\"https://www.terry.uga.edu/directory/john-rios/\">John Rios</a><div class=\"entry-body\"><ul class=\"positions\"><li class=\"position\"><span class=\"position__title\">Lecturer</span>, <span class=\"position__group\">Management Information Systems</span></li></ul></div></div>\t</div><!-- .entry-content -->\n",
      "\t</div><div class=\"col-12 col-md-6 col-lg-4\">\t<div class=\"entry-content row mx-0 rounded bg-white p-4 shadow-lg h-100\">\n",
      "\t\t<div class=\"col-6 col-sm-4 mb-3 mb-sm-0\"><a class=\"entry-title\" href=\"https://www.terry.uga.edu/directory/john-david-rusk/\"><img width=\"500\" height=\"500\" src=\"https://www.terry.uga.edu/wp-content/uploads/rusk-john-david-2024-500x500.jpg\" class=\"profile-image rounded-circle img-fluid wp-post-image\" alt=\"John David Rusk\" srcset=\"https://www.terry.uga.edu/wp-content/uploads/rusk-john-david-2024-500x500.jpg 480w, https://www.terry.uga.edu/wp-content/uploads/rusk-john-david-2024-500x500.jpg 640w, https://www.terry.uga.edu/wp-content/uploads/rusk-john-david-2024-500x500.jpg 960w\" decoding=\"async\" /></a></div><div class=\"col-12 col-sm-8\"><a class=\"entry-title\" href=\"https://www.terry.uga.edu/directory/john-david-rusk/\">John David Rusk</a><div class=\"entry-body\"><ul class=\"positions\"><li class=\"position\"><span class=\"position__title\">Lecturer</span>, <span class=\"position__group\">Management Information Systems</span></li></ul></div></div>\t</div><!-- .entry-content -->\n",
      "\t</div><div class=\"col-12 col-md-6 col-lg-4\">\t<div class=\"entry-content row mx-0 rounded bg-white p-4 shadow-lg h-100\">\n",
      "\t\t<div class=\"col-6 col-sm-4 mb-3 mb-sm-0\"><a class=\"entry-title\" href=\"https://www.terry.uga.edu/directory/hani-safadi/\"><img width=\"500\" height=\"500\" src=\"https://www.terry.uga.edu/wp-content/uploads/Safadi-Hani-1.jpg\" class=\"profile-image rounded-circle img-fluid wp-post-image\" alt=\"Head shot of Hani Safadi\" srcset=\"https://www.terry.uga.edu/wp-content/uploads/Safadi-Hani-1.jpg 480w, https://www.terry.uga.edu/wp-content/uploads/Safadi-Hani-1.jpg 640w, https://www.terry.uga.edu/wp-content/uploads/Safadi-Hani-1.jpg 960w\" decoding=\"async\" /></a></div><div class=\"col-12 col-sm-8\"><a class=\"entry-title\" href=\"https://www.terry.uga.edu/directory/hani-safadi/\">Hani Safadi</a><div class=\"entry-body\"><ul class=\"positions\"><li class=\"position\"><span class=\"position__title\">Associate Professor</span>, <span class=\"position__group\">Management Information Systems</span></li></ul></div></div>\t</div><!-- .entry-content -->\n",
      "\t</div><div class=\"col-12 col-md-6 col-lg-4\">\t<div class=\"entry-content row mx-0 rounded bg-white p-4 shadow-lg h-100\">\n",
      "\t\t<div class=\"col-6 col-sm-4 mb-3 mb-sm-0\"><a class=\"entry-title\" href=\"https://www.terry.uga.edu/directory/terence-saldanha/\"><img width=\"500\" height=\"500\" src=\"https://www.terry.uga.edu/wp-content/uploads/saldanha_terrence_2019-500x500.jpg\" class=\"profile-image rounded-circle img-fluid wp-post-image\" alt=\"Terence headshot\" srcset=\"https://www.terry.uga.edu/wp-content/uploads/saldanha_terrence_2019-500x500.jpg 480w, https://www.terry.uga.edu/wp-content/uploads/saldanha_terrence_2019-500x500.jpg 640w, https://www.terry.uga.edu/wp-content/uploads/saldanha_terrence_2019-500x500.jpg 960w\" decoding=\"async\" /></a></div><div class=\"col-12 col-sm-8\"><a class=\"entry-title\" href=\"https://www.terry.uga.edu/directory/terence-saldanha/\">Terence Saldanha</a><div class=\"entry-body\"><ul class=\"positions\"><li class=\"position\"><span class=\"position__title\">Becky and Howard Young Distinguished Professor and Associate Professor</span>, <span class=\"position__group\">Management Information Systems</span></li></ul></div></div>\t</div><!-- .entry-content -->\n",
      "\t</div><div class=\"col-12 col-md-6 col-lg-4\">\t<div class=\"entry-content row mx-0 rounded bg-white p-4 shadow-lg h-100\">\n",
      "\t\t<div class=\"col-6 col-sm-4 mb-3 mb-sm-0\"><a class=\"entry-title\" href=\"https://www.terry.uga.edu/directory/carolina-alves-de-lima-salge/\"><img width=\"500\" height=\"500\" src=\"https://www.terry.uga.edu/wp-content/uploads/salge2-3_2-500x500.jpg\" class=\"profile-image rounded-circle img-fluid wp-post-image\" alt=\"photo\" srcset=\"https://www.terry.uga.edu/wp-content/uploads/salge2-3_2-500x500.jpg 480w, https://www.terry.uga.edu/wp-content/uploads/salge2-3_2-500x500.jpg 640w, https://www.terry.uga.edu/wp-content/uploads/salge2-3_2-500x500.jpg 960w\" decoding=\"async\" /></a></div><div class=\"col-12 col-sm-8\"><a class=\"entry-title\" href=\"https://www.terry.uga.edu/directory/carolina-alves-de-lima-salge/\">Carolina Alves de Lima Salge</a><div class=\"entry-body\"><ul class=\"positions\"><li class=\"position\"><span class=\"position__title\">Assistant Professor</span>, <span class=\"position__group\">Management Information Systems</span></li></ul></div></div>\t</div><!-- .entry-content -->\n",
      "\t</div><div class=\"col-12 col-md-6 col-lg-4\">\t<div class=\"entry-content row mx-0 rounded bg-white p-4 shadow-lg h-100\">\n",
      "\t\t<div class=\"col-6 col-sm-4 mb-3 mb-sm-0\"><a class=\"entry-title\" href=\"https://www.terry.uga.edu/directory/aaron-schecter/\"><img width=\"500\" height=\"500\" src=\"https://www.terry.uga.edu/wp-content/uploads/Schecter-Aaron.jpg\" class=\"profile-image rounded-circle img-fluid wp-post-image\" alt=\"Headshot of Aaron Schecter\" srcset=\"https://www.terry.uga.edu/wp-content/uploads/Schecter-Aaron.jpg 480w, https://www.terry.uga.edu/wp-content/uploads/Schecter-Aaron.jpg 640w, https://www.terry.uga.edu/wp-content/uploads/Schecter-Aaron.jpg 960w\" decoding=\"async\" /></a></div><div class=\"col-12 col-sm-8\"><a class=\"entry-title\" href=\"https://www.terry.uga.edu/directory/aaron-schecter/\">Aaron Schecter</a><div class=\"entry-body\"><ul class=\"positions\"><li class=\"position\"><span class=\"position__title\">Assistant Professor</span>, <span class=\"position__group\">Management Information Systems</span></li></ul></div></div>\t</div><!-- .entry-content -->\n",
      "\t</div><div class=\"col-12 col-md-6 col-lg-4\">\t<div class=\"entry-content row mx-0 rounded bg-white p-4 shadow-lg h-100\">\n",
      "\t\t<div class=\"col-6 col-sm-4 mb-3 mb-sm-0\"><a class=\"entry-title\" href=\"https://www.terry.uga.edu/directory/abdul-sesay/\"><img width=\"500\" height=\"500\" src=\"https://www.terry.uga.edu/wp-content/uploads/20211015_MIST_012.jpg\" class=\"profile-image rounded-circle img-fluid wp-post-image\" alt=\"MIST Faculty and PhD student photos in the Foley Courtyard on Friday\" srcset=\"https://www.terry.uga.edu/wp-content/uploads/20211015_MIST_012.jpg 480w, https://www.terry.uga.edu/wp-content/uploads/20211015_MIST_012.jpg 640w, https://www.terry.uga.edu/wp-content/uploads/20211015_MIST_012.jpg 960w\" decoding=\"async\" /></a></div><div class=\"col-12 col-sm-8\"><a class=\"entry-title\" href=\"https://www.terry.uga.edu/directory/abdul-sesay/\">Abdul Sesay</a><div class=\"entry-body\"><ul class=\"positions\"><li class=\"position\"><span class=\"position__title\">Assistant Professor</span>, <span class=\"position__group\">Management Information Systems</span></li></ul></div></div>\t</div><!-- .entry-content -->\n",
      "\t</div><div class=\"col-12 col-md-6 col-lg-4\">\t<div class=\"entry-content row mx-0 rounded bg-white p-4 shadow-lg h-100\">\n",
      "\t\t<div class=\"col-6 col-sm-4 mb-3 mb-sm-0\"><a class=\"entry-title\" href=\"https://www.terry.uga.edu/directory/nikhil-srinivasan/\"><img width=\"500\" height=\"500\" src=\"https://www.terry.uga.edu/wp-content/uploads/Srinivasan-Nikhil-500x500.jpg\" class=\"profile-image rounded-circle img-fluid wp-post-image\" alt=\"Nikhil Srinivasan picture\" srcset=\"https://www.terry.uga.edu/wp-content/uploads/Srinivasan-Nikhil-500x500.jpg 480w, https://www.terry.uga.edu/wp-content/uploads/Srinivasan-Nikhil-500x500.jpg 640w, https://www.terry.uga.edu/wp-content/uploads/Srinivasan-Nikhil-500x500.jpg 960w\" decoding=\"async\" /></a></div><div class=\"col-12 col-sm-8\"><a class=\"entry-title\" href=\"https://www.terry.uga.edu/directory/nikhil-srinivasan/\">Nikhil Srinivasan</a><div class=\"entry-body\"><ul class=\"positions\"><li class=\"position\"><span class=\"position__title\">Senior Lecturer</span>, <span class=\"position__group\">Management Information Systems</span></li></ul></div></div>\t</div><!-- .entry-content -->\n",
      "\t</div><div class=\"col-12 col-md-6 col-lg-4\">\t<div class=\"entry-content row mx-0 rounded bg-white p-4 shadow-lg h-100\">\n",
      "\t\t<div class=\"col-6 col-sm-4 mb-3 mb-sm-0\"><a class=\"entry-title\" href=\"https://www.terry.uga.edu/directory/amrit-tiwana/\"><img width=\"500\" height=\"500\" src=\"https://www.terry.uga.edu/wp-content/uploads/Tiwana-Amrit-500x500.jpg\" class=\"profile-image rounded-circle img-fluid wp-post-image\" alt=\"Headshot of AMRIT TIWANA\" srcset=\"https://www.terry.uga.edu/wp-content/uploads/Tiwana-Amrit-500x500.jpg 480w, https://www.terry.uga.edu/wp-content/uploads/Tiwana-Amrit-500x500.jpg 640w, https://www.terry.uga.edu/wp-content/uploads/Tiwana-Amrit-500x500.jpg 960w\" decoding=\"async\" /></a></div><div class=\"col-12 col-sm-8\"><a class=\"entry-title\" href=\"https://www.terry.uga.edu/directory/amrit-tiwana/\">Amrit Tiwana</a><div class=\"entry-body\"><ul class=\"positions\"><li class=\"position\"><span class=\"position__title\">J. Rex Fuqua Distinguished Chair for Internet Strategy and Professor</span>, <span class=\"position__group\">Management Information Systems</span></li></ul></div></div>\t</div><!-- .entry-content -->\n",
      "\t</div><div class=\"col-12 col-md-6 col-lg-4\">\t<div class=\"entry-content row mx-0 rounded bg-white p-4 shadow-lg h-100\">\n",
      "\t\t<div class=\"col-6 col-sm-4 mb-3 mb-sm-0\"><a class=\"entry-title\" href=\"https://www.terry.uga.edu/directory/robert-trotter/\"><img width=\"500\" height=\"500\" src=\"https://www.terry.uga.edu/wp-content/uploads/Trotter-Bob_01_1.jpg\" class=\"profile-image rounded-circle img-fluid wp-post-image\" alt=\"Headshot of Robert Trotter\" srcset=\"https://www.terry.uga.edu/wp-content/uploads/Trotter-Bob_01_1.jpg 480w, https://www.terry.uga.edu/wp-content/uploads/Trotter-Bob_01_1.jpg 640w, https://www.terry.uga.edu/wp-content/uploads/Trotter-Bob_01_1.jpg 960w\" decoding=\"async\" /></a></div><div class=\"col-12 col-sm-8\"><a class=\"entry-title\" href=\"https://www.terry.uga.edu/directory/robert-trotter/\">Robert Trotter</a><div class=\"entry-body\"><ul class=\"positions\"><li class=\"position\"><span class=\"position__title\">Part-Time Lecturer, FinTech Certificate Program</span>, <span class=\"position__group\">Management Information Systems</span></li></ul></div></div>\t</div><!-- .entry-content -->\n",
      "\t</div><div class=\"col-12 col-md-6 col-lg-4\">\t<div class=\"entry-content row mx-0 rounded bg-white p-4 shadow-lg h-100\">\n",
      "\t\t<div class=\"col-6 col-sm-4 mb-3 mb-sm-0\"><a class=\"entry-title\" href=\"https://www.terry.uga.edu/directory/hugh-james-watson/\"><img width=\"400\" height=\"400\" src=\"https://www.terry.uga.edu/wp-content/uploads/watson-hugh.jpg\" class=\"profile-image rounded-circle img-fluid wp-post-image\" alt=\"Headshot of Hugh Watson\" srcset=\"https://www.terry.uga.edu/wp-content/uploads/watson-hugh.jpg 480w, https://www.terry.uga.edu/wp-content/uploads/watson-hugh.jpg 640w, https://www.terry.uga.edu/wp-content/uploads/watson-hugh.jpg 960w\" decoding=\"async\" /></a></div><div class=\"col-12 col-sm-8\"><a class=\"entry-title\" href=\"https://www.terry.uga.edu/directory/hugh-james-watson/\">Hugh James Watson</a><div class=\"entry-body\"><ul class=\"positions\"><li class=\"position\"><span class=\"position__title\">Professor</span>, <span class=\"position__group\">Management Information Systems</span></li></ul></div></div>\t</div><!-- .entry-content -->\n",
      "\t</div><div class=\"col-12 col-md-6 col-lg-4\">\t<div class=\"entry-content row mx-0 rounded bg-white p-4 shadow-lg h-100\">\n",
      "\t\t<div class=\"col-6 col-sm-4 mb-3 mb-sm-0\"><a class=\"entry-title\" href=\"https://www.terry.uga.edu/directory/ling-xue/\"><img width=\"500\" height=\"500\" src=\"https://www.terry.uga.edu/wp-content/uploads/Xue-Ling-500x500.jpg\" class=\"profile-image rounded-circle img-fluid wp-post-image\" alt=\"Ling Xue\" srcset=\"https://www.terry.uga.edu/wp-content/uploads/Xue-Ling-500x500.jpg 480w, https://www.terry.uga.edu/wp-content/uploads/Xue-Ling-500x500.jpg 640w, https://www.terry.uga.edu/wp-content/uploads/Xue-Ling-500x500.jpg 960w\" decoding=\"async\" /></a></div><div class=\"col-12 col-sm-8\"><a class=\"entry-title\" href=\"https://www.terry.uga.edu/directory/ling-xue/\">Ling Xue</a><div class=\"entry-body\"><ul class=\"positions\"><li class=\"position\"><span class=\"position__title\">Associate Professor</span>, <span class=\"position__group\">Management Information Systems</span></li><li class=\"position\"><span class=\"position__title\">Terry Alumni Board Distinguished Associate Professor</span>, <span class=\"position__group\">Management Information Systems</span></li></ul></div></div>\t</div><!-- .entry-content -->\n",
      "\t</div><div class=\"col-12 col-md-6 col-lg-4\">\t<div class=\"entry-content row mx-0 rounded bg-white p-4 shadow-lg h-100\">\n",
      "\t\t<div class=\"col-6 col-sm-4 mb-3 mb-sm-0\"><a class=\"entry-title\" href=\"https://www.terry.uga.edu/directory/hannah-zenas/\"><img src=\"https://www.terry.uga.edu/wp-content/themes/terry/src/img/user-icon.png\" class=\"profile-image rounded-circle img-fluid\" alt=\"user icon\" /></a></div><div class=\"col-12 col-sm-8\"><a class=\"entry-title\" href=\"https://www.terry.uga.edu/directory/hannah-zenas/\">Hannah Zenas</a><div class=\"entry-body\"><ul class=\"positions\"><li class=\"position\"><span class=\"position__title\">Part-Time Lecturer</span>, <span class=\"position__group\">Management Information Systems</span></li></ul></div></div>\t</div><!-- .entry-content -->\n",
      "\t</div><div class=\"col-12 col-md-6 col-lg-4\">\t<div class=\"entry-content row mx-0 rounded bg-white p-4 shadow-lg h-100\">\n",
      "\t\t<div class=\"col-6 col-sm-4 mb-3 mb-sm-0\"><a class=\"entry-title\" href=\"https://www.terry.uga.edu/directory/xia-zhao/\"><img width=\"500\" height=\"500\" src=\"https://www.terry.uga.edu/wp-content/uploads/Zhao-Xia-500x500.jpg\" class=\"profile-image rounded-circle img-fluid wp-post-image\" alt=\"Xia Zhao is an associate professor at UGA&#039;s Terry College of Business\" srcset=\"https://www.terry.uga.edu/wp-content/uploads/Zhao-Xia-500x500.jpg 480w, https://www.terry.uga.edu/wp-content/uploads/Zhao-Xia-500x500.jpg 640w, https://www.terry.uga.edu/wp-content/uploads/Zhao-Xia-500x500.jpg 960w\" decoding=\"async\" /></a></div><div class=\"col-12 col-sm-8\"><a class=\"entry-title\" href=\"https://www.terry.uga.edu/directory/xia-zhao/\">Xia Zhao</a><div class=\"entry-body\"><ul class=\"positions\"><li class=\"position\"><span class=\"position__title\">Associate Professor</span>, <span class=\"position__group\">Management Information Systems</span></li></ul></div></div>\t</div><!-- .entry-content -->\n",
      "\t</div></div><h2>Emeritus Faculty</h2><div class=\"row gx-4 gy-4 mb-5 align-items-stretch\"><div class=\"col-12 col-md-6 col-lg-4\">\t<div class=\"entry-content row mx-0 rounded bg-white p-4 shadow-lg h-100\">\n",
      "\t\t<div class=\"col-6 col-sm-4 mb-3 mb-sm-0\"><a class=\"entry-title\" href=\"https://www.terry.uga.edu/directory/robert-bob-bostrom/\"><img width=\"500\" height=\"500\" src=\"https://www.terry.uga.edu/wp-content/uploads/Bob_Bostrom-500x500.jpg\" class=\"profile-image rounded-circle img-fluid wp-post-image\" alt=\"Headshot of ROBERT (BOB) BOSTROM\" srcset=\"https://www.terry.uga.edu/wp-content/uploads/Bob_Bostrom-500x500.jpg 480w, https://www.terry.uga.edu/wp-content/uploads/Bob_Bostrom-500x500.jpg 640w, https://www.terry.uga.edu/wp-content/uploads/Bob_Bostrom-500x500.jpg 960w\" decoding=\"async\" /></a></div><div class=\"col-12 col-sm-8\"><a class=\"entry-title\" href=\"https://www.terry.uga.edu/directory/robert-bob-bostrom/\">Robert (Bob) Bostrom</a><div class=\"entry-body\"><ul class=\"positions\"><li class=\"position\"><span class=\"position__title\">Professor Emeritus</span>, <span class=\"position__group\">Management Information Systems</span></li></ul></div></div>\t</div><!-- .entry-content -->\n",
      "\t</div><div class=\"col-12 col-md-6 col-lg-4\">\t<div class=\"entry-content row mx-0 rounded bg-white p-4 shadow-lg h-100\">\n",
      "\t\t<div class=\"col-6 col-sm-4 mb-3 mb-sm-0\"><a class=\"entry-title\" href=\"https://www.terry.uga.edu/directory/dale-louis-goodhue/\"><img width=\"500\" height=\"500\" src=\"https://www.terry.uga.edu/wp-content/uploads/Dale_Goodhue-500x500.jpg\" class=\"profile-image rounded-circle img-fluid wp-post-image\" alt=\"Headshot of DALE LOUIS GOODHUE\" srcset=\"https://www.terry.uga.edu/wp-content/uploads/Dale_Goodhue-500x500.jpg 480w, https://www.terry.uga.edu/wp-content/uploads/Dale_Goodhue-500x500.jpg 640w, https://www.terry.uga.edu/wp-content/uploads/Dale_Goodhue-500x500.jpg 960w\" decoding=\"async\" /></a></div><div class=\"col-12 col-sm-8\"><a class=\"entry-title\" href=\"https://www.terry.uga.edu/directory/dale-louis-goodhue/\">Dale Louis Goodhue</a><div class=\"entry-body\"><ul class=\"positions\"><li class=\"position\"><span class=\"position__title\">Professor Emeritus</span>, <span class=\"position__group\">Management Information Systems</span></li></ul></div></div>\t</div><!-- .entry-content -->\n",
      "\t</div><div class=\"col-12 col-md-6 col-lg-4\">\t<div class=\"entry-content row mx-0 rounded bg-white p-4 shadow-lg h-100\">\n",
      "\t\t<div class=\"col-6 col-sm-4 mb-3 mb-sm-0\"><a class=\"entry-title\" href=\"https://www.terry.uga.edu/directory/patrick-mckeown/\"><img width=\"500\" height=\"500\" src=\"https://www.terry.uga.edu/wp-content/uploads/McKeown-P-500x500.jpg\" class=\"profile-image rounded-circle img-fluid wp-post-image\" alt=\"Headshot of PATRICK MCKEOWN\" srcset=\"https://www.terry.uga.edu/wp-content/uploads/McKeown-P-500x500.jpg 480w, https://www.terry.uga.edu/wp-content/uploads/McKeown-P-500x500.jpg 640w, https://www.terry.uga.edu/wp-content/uploads/McKeown-P-500x500.jpg 960w\" decoding=\"async\" /></a></div><div class=\"col-12 col-sm-8\"><a class=\"entry-title\" href=\"https://www.terry.uga.edu/directory/patrick-mckeown/\">Patrick McKeown</a><div class=\"entry-body\"><ul class=\"positions\"><li class=\"position\"><span class=\"position__title\">Professor Emeritus</span>, <span class=\"position__group\">Management Information Systems</span></li></ul></div></div>\t</div><!-- .entry-content -->\n",
      "\t</div></div><h2>PhD Students</h2><div class=\"row gx-4 gy-4 mb-5 align-items-stretch\"><div class=\"col-12 col-md-6 col-lg-4\">\t<div class=\"entry-content row mx-0 rounded bg-white p-4 shadow-lg h-100\">\n",
      "\t\t<div class=\"col-6 col-sm-4 mb-3 mb-sm-0\"><a class=\"entry-title\" href=\"https://www.terry.uga.edu/directory/hossein-arjmandi/\"><img width=\"500\" height=\"500\" src=\"https://www.terry.uga.edu/wp-content/uploads/Untitled1-500x500.jpg\" class=\"profile-image rounded-circle img-fluid wp-post-image\" alt=\"Hossein&#039;s Headshot\" srcset=\"https://www.terry.uga.edu/wp-content/uploads/Untitled1-500x500.jpg 480w, https://www.terry.uga.edu/wp-content/uploads/Untitled1-500x500.jpg 640w, https://www.terry.uga.edu/wp-content/uploads/Untitled1-500x500.jpg 960w\" decoding=\"async\" /></a></div><div class=\"col-12 col-sm-8\"><a class=\"entry-title\" href=\"https://www.terry.uga.edu/directory/hossein-arjmandi/\">Hossein Arjmandi</a><div class=\"entry-body\"><ul class=\"positions\"><li class=\"position\"><span class=\"position__title\">Doctoral Student</span>, <span class=\"position__group\">Management Information Systems</span></li></ul></div></div>\t</div><!-- .entry-content -->\n",
      "\t</div><div class=\"col-12 col-md-6 col-lg-4\">\t<div class=\"entry-content row mx-0 rounded bg-white p-4 shadow-lg h-100\">\n",
      "\t\t<div class=\"col-6 col-sm-4 mb-3 mb-sm-0\"><a class=\"entry-title\" href=\"https://www.terry.uga.edu/directory/tianwen-du/\"><img width=\"500\" height=\"500\" src=\"https://www.terry.uga.edu/wp-content/uploads/Du-Tianwen-500x500.jpg\" class=\"profile-image rounded-circle img-fluid wp-post-image\" alt=\"Tianwen Du\" srcset=\"https://www.terry.uga.edu/wp-content/uploads/Du-Tianwen-500x500.jpg 480w, https://www.terry.uga.edu/wp-content/uploads/Du-Tianwen-500x500.jpg 640w, https://www.terry.uga.edu/wp-content/uploads/Du-Tianwen-500x500.jpg 960w\" decoding=\"async\" /></a></div><div class=\"col-12 col-sm-8\"><a class=\"entry-title\" href=\"https://www.terry.uga.edu/directory/tianwen-du/\">Tianwen Du</a><div class=\"entry-body\"><ul class=\"positions\"><li class=\"position\"><span class=\"position__title\">Doctoral Student</span>, <span class=\"position__group\">Management Information Systems</span></li></ul></div></div>\t</div><!-- .entry-content -->\n",
      "\t</div><div class=\"col-12 col-md-6 col-lg-4\">\t<div class=\"entry-content row mx-0 rounded bg-white p-4 shadow-lg h-100\">\n",
      "\t\t<div class=\"col-6 col-sm-4 mb-3 mb-sm-0\"><a class=\"entry-title\" href=\"https://www.terry.uga.edu/directory/rachel-kim/\"><img width=\"500\" height=\"500\" src=\"https://www.terry.uga.edu/wp-content/uploads/KakaoTalk_Photo_2023-01-17-14-51-51-500x500.jpeg\" class=\"profile-image rounded-circle img-fluid wp-post-image\" alt=\"Rachel Kim (MIS)\" srcset=\"https://www.terry.uga.edu/wp-content/uploads/KakaoTalk_Photo_2023-01-17-14-51-51-500x500.jpeg 480w, https://www.terry.uga.edu/wp-content/uploads/KakaoTalk_Photo_2023-01-17-14-51-51-500x500.jpeg 640w, https://www.terry.uga.edu/wp-content/uploads/KakaoTalk_Photo_2023-01-17-14-51-51-500x500.jpeg 960w\" decoding=\"async\" /></a></div><div class=\"col-12 col-sm-8\"><a class=\"entry-title\" href=\"https://www.terry.uga.edu/directory/rachel-kim/\">Rachel Kim</a><div class=\"entry-body\"><ul class=\"positions\"><li class=\"position\"><span class=\"position__title\">Doctoral Student</span>, <span class=\"position__group\">Management Information Systems</span></li></ul></div></div>\t</div><!-- .entry-content -->\n",
      "\t</div><div class=\"col-12 col-md-6 col-lg-4\">\t<div class=\"entry-content row mx-0 rounded bg-white p-4 shadow-lg h-100\">\n",
      "\t\t<div class=\"col-6 col-sm-4 mb-3 mb-sm-0\"><a class=\"entry-title\" href=\"https://www.terry.uga.edu/directory/dadian-qu/\"><img width=\"500\" height=\"500\" src=\"https://www.terry.uga.edu/wp-content/uploads/Qu-Dadian-500x500.jpg\" class=\"profile-image rounded-circle img-fluid wp-post-image\" alt=\"Dadian Qu\" srcset=\"https://www.terry.uga.edu/wp-content/uploads/Qu-Dadian-500x500.jpg 480w, https://www.terry.uga.edu/wp-content/uploads/Qu-Dadian-500x500.jpg 640w, https://www.terry.uga.edu/wp-content/uploads/Qu-Dadian-500x500.jpg 960w\" decoding=\"async\" /></a></div><div class=\"col-12 col-sm-8\"><a class=\"entry-title\" href=\"https://www.terry.uga.edu/directory/dadian-qu/\">Dadian Qu</a><div class=\"entry-body\"><ul class=\"positions\"><li class=\"position\"><span class=\"position__title\">Doctoral Student</span>, <span class=\"position__group\">Management Information Systems</span></li></ul></div></div>\t</div><!-- .entry-content -->\n",
      "\t</div><div class=\"col-12 col-md-6 col-lg-4\">\t<div class=\"entry-content row mx-0 rounded bg-white p-4 shadow-lg h-100\">\n",
      "\t\t<div class=\"col-6 col-sm-4 mb-3 mb-sm-0\"><a class=\"entry-title\" href=\"https://www.terry.uga.edu/directory/michael-quigg/\"><img width=\"500\" height=\"500\" src=\"https://www.terry.uga.edu/wp-content/uploads/Quigg-Michael-500x500.jpg\" class=\"profile-image rounded-circle img-fluid wp-post-image\" alt=\"Head Shot Quigg\" srcset=\"https://www.terry.uga.edu/wp-content/uploads/Quigg-Michael-500x500.jpg 480w, https://www.terry.uga.edu/wp-content/uploads/Quigg-Michael-500x500.jpg 640w, https://www.terry.uga.edu/wp-content/uploads/Quigg-Michael-500x500.jpg 960w\" decoding=\"async\" /></a></div><div class=\"col-12 col-sm-8\"><a class=\"entry-title\" href=\"https://www.terry.uga.edu/directory/michael-quigg/\">Michael Quigg</a><div class=\"entry-body\"><ul class=\"positions\"><li class=\"position\"><span class=\"position__title\">Doctoral Student</span>, <span class=\"position__group\">Management Information Systems</span></li></ul></div></div>\t</div><!-- .entry-content -->\n",
      "\t</div><div class=\"col-12 col-md-6 col-lg-4\">\t<div class=\"entry-content row mx-0 rounded bg-white p-4 shadow-lg h-100\">\n",
      "\t\t<div class=\"col-6 col-sm-4 mb-3 mb-sm-0\"><a class=\"entry-title\" href=\"https://www.terry.uga.edu/directory/benjamin-richardson/\"><img width=\"500\" height=\"500\" src=\"https://www.terry.uga.edu/wp-content/uploads/Richardson-Benjamin-500x500.jpg\" class=\"profile-image rounded-circle img-fluid wp-post-image\" alt=\"Benjamin Richardson\" srcset=\"https://www.terry.uga.edu/wp-content/uploads/Richardson-Benjamin-500x500.jpg 480w, https://www.terry.uga.edu/wp-content/uploads/Richardson-Benjamin-500x500.jpg 640w, https://www.terry.uga.edu/wp-content/uploads/Richardson-Benjamin-500x500.jpg 960w\" decoding=\"async\" /></a></div><div class=\"col-12 col-sm-8\"><a class=\"entry-title\" href=\"https://www.terry.uga.edu/directory/benjamin-richardson/\">Benjamin Richardson</a><div class=\"entry-body\"><ul class=\"positions\"><li class=\"position\"><span class=\"position__title\">Doctoral Student</span>, <span class=\"position__group\">Management Information Systems</span></li></ul></div></div>\t</div><!-- .entry-content -->\n",
      "\t</div><div class=\"col-12 col-md-6 col-lg-4\">\t<div class=\"entry-content row mx-0 rounded bg-white p-4 shadow-lg h-100\">\n",
      "\t\t<div class=\"col-6 col-sm-4 mb-3 mb-sm-0\"><a class=\"entry-title\" href=\"https://www.terry.uga.edu/directory/yuanyuan-song/\"><img width=\"500\" height=\"500\" src=\"https://www.terry.uga.edu/wp-content/uploads/20211015_MIST_008_0-500x500.jpg\" class=\"profile-image rounded-circle img-fluid wp-post-image\" alt=\"Headshot of YUANYUAN SONG\" srcset=\"https://www.terry.uga.edu/wp-content/uploads/20211015_MIST_008_0-500x500.jpg 480w, https://www.terry.uga.edu/wp-content/uploads/20211015_MIST_008_0-500x500.jpg 640w, https://www.terry.uga.edu/wp-content/uploads/20211015_MIST_008_0-500x500.jpg 960w\" decoding=\"async\" /></a></div><div class=\"col-12 col-sm-8\"><a class=\"entry-title\" href=\"https://www.terry.uga.edu/directory/yuanyuan-song/\">Yuanyuan Song</a><div class=\"entry-body\"><ul class=\"positions\"><li class=\"position\"><span class=\"position__title\">Doctoral Student</span>, <span class=\"position__group\">Management Information Systems</span></li></ul></div></div>\t</div><!-- .entry-content -->\n",
      "\t</div></div><h2>Staff</h2><div class=\"row gx-4 gy-4 mb-5 align-items-stretch\"><div class=\"col-12 col-md-6 col-lg-4\">\t<div class=\"entry-content row mx-0 rounded bg-white p-4 shadow-lg h-100\">\n",
      "\t\t<div class=\"col-6 col-sm-4 mb-3 mb-sm-0\"><a class=\"entry-title\" href=\"https://www.terry.uga.edu/directory/becky-curry/\"><img width=\"500\" height=\"500\" src=\"https://www.terry.uga.edu/wp-content/uploads/curry_becky_2019-500x500.jpg\" class=\"profile-image rounded-circle img-fluid wp-post-image\" alt=\"Becky headshot\" srcset=\"https://www.terry.uga.edu/wp-content/uploads/curry_becky_2019-500x500.jpg 480w, https://www.terry.uga.edu/wp-content/uploads/curry_becky_2019-500x500.jpg 640w, https://www.terry.uga.edu/wp-content/uploads/curry_becky_2019-500x500.jpg 960w\" decoding=\"async\" /></a></div><div class=\"col-12 col-sm-8\"><a class=\"entry-title\" href=\"https://www.terry.uga.edu/directory/becky-curry/\">Becky Curry</a><div class=\"entry-body\"><ul class=\"positions\"><li class=\"position\"><span class=\"position__title\">Administrative Associate II</span>, <span class=\"position__group\">Management Information Systems</span></li></ul></div></div>\t</div><!-- .entry-content -->\n",
      "\t</div><div class=\"col-12 col-md-6 col-lg-4\">\t<div class=\"entry-content row mx-0 rounded bg-white p-4 shadow-lg h-100\">\n",
      "\t\t<div class=\"col-6 col-sm-4 mb-3 mb-sm-0\"><a class=\"entry-title\" href=\"https://www.terry.uga.edu/directory/katherine-evans/\"><img width=\"500\" height=\"500\" src=\"https://www.terry.uga.edu/wp-content/uploads/Evans-Katherine_crop.jpg\" class=\"profile-image rounded-circle img-fluid wp-post-image\" alt=\"Headshot of Katherine Evans\" srcset=\"https://www.terry.uga.edu/wp-content/uploads/Evans-Katherine_crop.jpg 480w, https://www.terry.uga.edu/wp-content/uploads/Evans-Katherine_crop.jpg 640w, https://www.terry.uga.edu/wp-content/uploads/Evans-Katherine_crop.jpg 960w\" decoding=\"async\" /></a></div><div class=\"col-12 col-sm-8\"><a class=\"entry-title\" href=\"https://www.terry.uga.edu/directory/katherine-evans/\">Katherine Evans</a><div class=\"entry-body\"><ul class=\"positions\"><li class=\"position\"><span class=\"position__title\">Department Advisor</span>, <span class=\"position__group\">Management Information Systems</span></li></ul></div></div>\t</div><!-- .entry-content -->\n",
      "\t</div><div class=\"col-12 col-md-6 col-lg-4\">\t<div class=\"entry-content row mx-0 rounded bg-white p-4 shadow-lg h-100\">\n",
      "\t\t<div class=\"col-6 col-sm-4 mb-3 mb-sm-0\"><a class=\"entry-title\" href=\"https://www.terry.uga.edu/directory/natassja-hatcher/\"><img width=\"500\" height=\"500\" src=\"https://www.terry.uga.edu/wp-content/uploads/20220104_hatcher_001-500x500.jpg\" class=\"profile-image rounded-circle img-fluid wp-post-image\" alt=\"Natassja Hatcher\" srcset=\"https://www.terry.uga.edu/wp-content/uploads/20220104_hatcher_001-500x500.jpg 480w, https://www.terry.uga.edu/wp-content/uploads/20220104_hatcher_001-500x500.jpg 640w, https://www.terry.uga.edu/wp-content/uploads/20220104_hatcher_001-500x500.jpg 960w\" decoding=\"async\" /></a></div><div class=\"col-12 col-sm-8\"><a class=\"entry-title\" href=\"https://www.terry.uga.edu/directory/natassja-hatcher/\">Natassja Hatcher</a><div class=\"entry-body\"><ul class=\"positions\"><li class=\"position\"><span class=\"position__title\">College Advisor</span>, <span class=\"position__group\">Undergraduate Program in Athens</span></li></ul></div></div>\t</div><!-- .entry-content -->\n",
      "\t</div><div class=\"col-12 col-md-6 col-lg-4\">\t<div class=\"entry-content row mx-0 rounded bg-white p-4 shadow-lg h-100\">\n",
      "\t\t<div class=\"col-6 col-sm-4 mb-3 mb-sm-0\"><a class=\"entry-title\" href=\"https://www.terry.uga.edu/directory/heather-posey-ware/\"><img width=\"500\" height=\"500\" src=\"https://www.terry.uga.edu/wp-content/uploads/Posey-Ware-Heather-500x500.jpg\" class=\"profile-image rounded-circle img-fluid wp-post-image\" alt=\"picture of heather posey-ware\" srcset=\"https://www.terry.uga.edu/wp-content/uploads/Posey-Ware-Heather-500x500.jpg 480w, https://www.terry.uga.edu/wp-content/uploads/Posey-Ware-Heather-500x500.jpg 640w, https://www.terry.uga.edu/wp-content/uploads/Posey-Ware-Heather-500x500.jpg 960w\" decoding=\"async\" /></a></div><div class=\"col-12 col-sm-8\"><a class=\"entry-title\" href=\"https://www.terry.uga.edu/directory/heather-posey-ware/\">Heather Posey-Ware</a><div class=\"entry-body\"><ul class=\"positions\"><li class=\"position\"><span class=\"position__title\">Student Affairs Professional</span>, <span class=\"position__group\">Management Information Systems, Master of Business and Technology</span></li></ul></div></div>\t</div><!-- .entry-content -->\n",
      "\t</div><div class=\"col-12 col-md-6 col-lg-4\">\t<div class=\"entry-content row mx-0 rounded bg-white p-4 shadow-lg h-100\">\n",
      "\t\t<div class=\"col-6 col-sm-4 mb-3 mb-sm-0\"><a class=\"entry-title\" href=\"https://www.terry.uga.edu/directory/heather-roberts/\"><img width=\"500\" height=\"500\" src=\"https://www.terry.uga.edu/wp-content/uploads/Roberts-Heather_crop-500x500.jpg\" class=\"profile-image rounded-circle img-fluid wp-post-image\" alt=\"Headshot of Heather Roberts\" srcset=\"https://www.terry.uga.edu/wp-content/uploads/Roberts-Heather_crop-500x500.jpg 480w, https://www.terry.uga.edu/wp-content/uploads/Roberts-Heather_crop-500x500.jpg 640w, https://www.terry.uga.edu/wp-content/uploads/Roberts-Heather_crop-500x500.jpg 960w\" decoding=\"async\" /></a></div><div class=\"col-12 col-sm-8\"><a class=\"entry-title\" href=\"https://www.terry.uga.edu/directory/heather-roberts/\">Heather Roberts</a><div class=\"entry-body\"><ul class=\"positions\"><li class=\"position\"><span class=\"position__title\">College Advisor</span>, <span class=\"position__group\">Undergraduate Program in Athens</span></li></ul></div></div>\t</div><!-- .entry-content -->\n",
      "\t</div></div></div>\n",
      "\t</main><!-- #main -->\n",
      "\n",
      "\n",
      "\t<footer id=\"colophon\" class=\"site-footer py-4 bg-primary text-light\">\n",
      "\t\t<div class=\"site-info container\">\n",
      "\t\t\t<div class=\"row\">\n",
      "\t\t\t\t<div class=\"col-12 col-md-4 text-center text-md-start\">\n",
      "\t\t\t\t\t<div>&copy; Terry College of Business</div>\t\t\t\t</div>\n",
      "\t\t\t\t<div class=\"col-12 col-md-4 text-center fs-2\">\n",
      "\t\t\t\t\t<a class=\"text-white\" aria-label=\"Terry College on LinkedIn\" href=\"https://www.linkedin.com/school/university-of-georgia---terry-college-of-business/\"><i class=\"fab fa-fw fa-linkedin\" title=\"LinkedIn\" aria-hidden></i></a><a class=\"text-white\" aria-label=\"Terry College on Instagram\" href=\"https://www.instagram.com/terrycollege/\"><i class=\"fab fa-fw fa-instagram\" title=\"Instagram\" aria-hidden></i></a><a class=\"text-white\" aria-label=\"Terry College on YouTube\" href=\"https://www.youtube.com/terrycollege\"><i class=\"fab fa-fw fa-youtube\" title=\"YouTube\" aria-hidden></i></a><a class=\"text-white\" aria-label=\"Terry College on Facebook\" href=\"https://www.facebook.com/terrycollege\"><i class=\"fab fa-fw fa-facebook\" title=\"Facebook\" aria-hidden></i></a><a class=\"text-white\" aria-label=\"Terry College on Twitter\" href=\"https://twitter.com/TerryCollege\"><i class=\"fab fa-fw fa-x-twitter\" title=\"Twitter\" aria-hidden></i></a>\t\t\t\t</div>\n",
      "\t\t\t\t<div class=\"col-12 col-md-4\">\n",
      "\t\t\t\t\t<div class=\"menu-footer-container\"><ul id=\"footer-nav\" class=\"text-center text-md-end\"><li id=\"menu-item-20947\" class=\"menu-item menu-item-type-post_type menu-item-object-page menu-item-20947\"><a href=\"https://www.terry.uga.edu/contact-us/\">Contact Terry</a></li>\n",
      "<li id=\"menu-item-20948\" class=\"menu-item menu-item-type-post_type menu-item-object-page menu-item-20948\"><a href=\"https://www.terry.uga.edu/contact-us/help/\">Request Terry Support</a></li>\n",
      "<li id=\"menu-item-21446\" class=\"menu-item menu-item-type-custom menu-item-object-custom menu-item-21446\"><a href=\"https://goterry.atlassian.net/wiki/spaces/BC/overview\">Faculty/Staff Resources</a></li>\n",
      "<li id=\"menu-item-20950\" class=\"menu-item menu-item-type-custom menu-item-object-custom menu-item-20950\"><a href=\"/wp-login.php\">Website Login</a></li>\n",
      "</ul></div>\t\t\t\t</div>\n",
      "\t\t\t</div>\n",
      "\t\t</div><!-- .site-info -->\n",
      "\t</footer><!-- #colophon -->\n",
      "\t<!-- \n",
      "\t/* Footer Options\n",
      "\t * By default, footer includes a 4px red top-border.\n",
      "\t *\n",
      "\t * Apply options by including class on .ugafooter object:\n",
      "\t * \n",
      "\t * white border — `ugafooter--border-white`\n",
      "\t * grey border — `ugafooter--border-grey`\n",
      "\t * no border — `ugafooter--no-border`\n",
      " -->\n",
      "<footer class=\"ugafooter ugafooter--no-border\">\n",
      "\t<div class=\"container\">\n",
      "\t\t<div class=\"ugafooter__row ugafooter__row--primary\">                    \n",
      "\t\t\t<div class=\"ugafooter__logo\">\n",
      "\t\t\t   <a class=\"ugafooter__logo-link\" href=\"https://www.uga.edu/\">University of Georgia</a>\n",
      "\t\t\t</div>\n",
      "\t\t\t<nav class=\"ugafooter__links\">\n",
      "\t\t\t\t<ul class=\"ugafooter__links-list\">\n",
      "\t\t\t\t\t<li class=\"ugafooter__links-list-item\">\n",
      "\t\t\t\t\t\t<a class=\"ugafooter__links-list-link\" href=\"https://www.uga.edu/a-z/schools/\">Schools and Colleges</a>\n",
      "\t\t\t\t\t</li>\n",
      "\t\t\t\t\t<li class=\"ugafooter__links-list-item\">\n",
      "\t\t\t\t\t\t<a class=\"ugafooter__links-list-link\" href=\"https://peoplesearch.uga.edu/\">Directory</a>\n",
      "\t\t\t\t\t</li>\n",
      "\t\t\t\t\t<li class=\"ugafooter__links-list-item\">\n",
      "\t\t\t\t\t\t<a class=\"ugafooter__links-list-link\" href=\"https://my.uga.edu/\">MyUGA</a>\n",
      "\t\t\t\t\t</li>\n",
      "\t\t\t\t\t<li class=\"ugafooter__links-list-item\">\n",
      "\t\t\t\t\t\t<a class=\"ugafooter__links-list-link\" href=\"http://hr.uga.edu/applicants/\">Employment Opportunities</a>\n",
      "\t\t\t\t\t</li>\n",
      "\t\t\t\t\t<li class=\"ugafooter__links-list-item\">\n",
      "\t\t\t\t\t\t<a class=\"ugafooter__links-list-link\" href=\"https://mc.uga.edu/policy/trademark\">Copyright and Trademarks</a>\n",
      "\t\t\t\t\t</li>\n",
      "\t\t\t\t\t<li class=\"ugafooter__links-list-item\">\n",
      "\t\t\t\t\t\t<a class=\"ugafooter__links-list-link\" href=\"https://eits.uga.edu/access_and_security/infosec/pols_regs/policies/privacy/\">Privacy</a>\n",
      "\t\t\t\t\t</li>\n",
      "\t\t\t\t\t<li class=\"ugafooter__links-list-item\">\n",
      "\t\t\t\t\t\t<a class=\"ugafooter__links-list-link\" href=\"https://studentcomplaints.uga.edu/\">Submit a Student Complaint</a>\n",
      "\t\t\t\t\t</li>\n",
      "\t\t\t\t</ul>\n",
      "\t\t\t</nav>\n",
      "\t\t</div>\n",
      "\t\t<div class=\"ugafooter__row ugafooter__row--secondary\">\n",
      "\t\t\t<nav class=\"ugafooter__social\">\n",
      "\t\t\t\t<span class=\"ugafooter__social-label\">#UGA on</span>\n",
      "\t\t\t\t<a class=\"ugafooter__social-link\" aria-label=\"UGA on Facebook\" href=\"https://www.facebook.com/universityofga/\">\n",
      "\t\t\t\t\t<i class=\"fab fa-fw fa-facebook-f\" title=\"Facebook\" aria-hidden></i>\n",
      "\t\t\t\t</a>\n",
      "\t\t\t\t<a class=\"ugafooter__social-link\" aria-label=\"UGA on Twitter\" href=\"https://twitter.com/universityofga\">\n",
      "\t\t\t\t\t<i class=\"fab fa-fw fa-x-twitter\" title=\"Twitter\" aria-hidden></i>\n",
      "\t\t\t\t</a>\n",
      "\t\t\t\t<a class=\"ugafooter__social-link\" aria-label=\"UGA on Instagram\" href=\"https://www.instagram.com/universityofga/\">\n",
      "\t\t\t\t\t<i class=\"fab fa-fw fa-instagram\" title=\"Instagram\" aria-hidden></i>\n",
      "\t\t\t\t</a>\n",
      "\t\t\t\t<a class=\"ugafooter__social-link\" aria-label=\"UGA on YouTube\" href=\"https://www.youtube.com/user/UniversityOfGeorgia\">\n",
      "\t\t\t\t\t<i class=\"fab fa-fw fa-youtube\" title=\"YouTube\" aria-hidden></i>\n",
      "\t\t\t\t</a>\n",
      "\t\t\t\t<a class=\"ugafooter__social-link\" aria-label=\"UGA on LinkedIn\" href=\"https://www.linkedin.com/school/university-of-georgia/\">\n",
      "\t\t\t\t\t<i class=\"fab fa-fw fa-linkedin-in\" title=\"LinkedIn\" aria-hidden></i>\n",
      "\t\t\t\t</a>\n",
      "\t\t\t</nav>\n",
      "\t\t\t<div class=\"ugafooter__address\">\n",
      "\t\t\t\t&copy; University of Georgia, Athens, GA 30602<br>\n",
      "\t\t\t\t706&#8209;542&#8209;3000\n",
      "\t\t\t</div>\n",
      "\t\t</div>\n",
      "\t</div>\n",
      "</footer></div><!-- #page -->\n",
      "\n",
      "\n",
      "\n",
      "<script src=\"https://www.terry.uga.edu/wp-content/themes/terry/dist/app.js?ver=1.0.6\" id=\"terry-scripts-js\"></script>\n",
      "<script src=\"https://www.terry.uga.edu/wp-content/plugins/page-links-to/dist/new-tab.js?ver=3.3.6\" id=\"page-links-to-js\"></script>\n",
      "        <script type=\"text/javascript\">\n",
      "            /* <![CDATA[ */\n",
      "           document.querySelectorAll(\"ul.nav-menu\").forEach(\n",
      "               ulist => { \n",
      "                    if (ulist.querySelectorAll(\"li\").length == 0) {\n",
      "                        ulist.style.display = \"none\";\n",
      "\n",
      "                                            } \n",
      "                }\n",
      "           );\n",
      "            /* ]]> */\n",
      "        </script>\n",
      "        \n",
      "</body>\n",
      "</html>\n",
      "\n"
     ]
    }
   ],
   "source": [
    "print(html)"
   ]
  },
  {
   "cell_type": "code",
   "execution_count": 24,
   "metadata": {},
   "outputs": [
    {
     "data": {
      "text/html": [
       "<!doctype html>\n",
       "<html lang=\"en-US\">\n",
       "<head>\n",
       "\t<meta charset=\"UTF-8\">\n",
       "\t<meta name=\"viewport\" content=\"width=device-width, initial-scale=1\">\n",
       "\t<link rel=\"profile\" href=\"https://gmpg.org/xfn/11\">\n",
       "\n",
       "\t<meta name='robots' content='index, follow, max-image-preview:large, max-snippet:-1, max-video-preview:-1' />\n",
       "\n",
       "<!-- Google Tag Manager for WordPress by gtm4wp.com -->\n",
       "<script data-cfasync=\"false\" data-pagespeed-no-defer>\n",
       "\tvar gtm4wp_datalayer_name = \"dataLayer\";\n",
       "\tvar dataLayer = dataLayer || [];\n",
       "</script>\n",
       "<!-- End Google Tag Manager for WordPress by gtm4wp.com -->\n",
       "\t<!-- This site is optimized with the Yoast SEO plugin v21.8 - https://yoast.com/wordpress/plugins/seo/ -->\n",
       "\t<title>Directory &#8211; Terry College of Business</title>\n",
       "\t<link rel=\"canonical\" href=\"https://www.terry.uga.edu/group/management-information-systems/\" />\n",
       "\t<meta property=\"og:locale\" content=\"en_US\" />\n",
       "\t<meta property=\"og:type\" content=\"website\" />\n",
       "\t<meta property=\"og:url\" content=\"https://www.terry.uga.edu/group/management-information-systems/\" />\n",
       "\t<meta property=\"og:site_name\" content=\"Terry College of Business\" />\n",
       "\t<meta name=\"twitter:card\" content=\"summary_large_image\" />\n",
       "\t<meta name=\"twitter:site\" content=\"@TerryCollege\" />\n",
       "\t<script type=\"application/ld+json\" class=\"yoast-schema-graph\">{\"@context\":\"https://schema.org\",\"@graph\":[{\"@type\":\"CollectionPage\",\"@id\":\"https://www.terry.uga.edu/group/management-information-systems/\",\"url\":\"https://www.terry.uga.edu/group/management-information-systems/\",\"name\":\"\",\"isPartOf\":{\"@id\":\"https://www.terry.uga.edu/#website\"},\"primaryImageOfPage\":{\"@id\":\"https://www.terry.uga.edu/group/management-information-systems/#primaryimage\"},\"image\":{\"@id\":\"https://www.terry.uga.edu/group/management-information-systems/#primaryimage\"},\"thumbnailUrl\":\"https://www.terry.uga.edu/wp-content/uploads/aguar_karen_2018.jpg\",\"breadcrumb\":{\"@id\":\"https://www.terry.uga.edu/group/management-information-systems/#breadcrumb\"},\"inLanguage\":\"en-US\"},{\"@type\":\"ImageObject\",\"inLanguage\":\"en-US\",\"@id\":\"https://www.terry.uga.edu/group/management-information-systems/#primaryimage\",\"url\":\"https://www.terry.uga.edu/wp-content/uploads/aguar_karen_2018.jpg\",\"contentUrl\":\"https://www.terry.uga.edu/wp-content/uploads/aguar_karen_2018.jpg\",\"width\":1440,\"height\":961,\"caption\":\"Karen headshot\"},{\"@type\":\"BreadcrumbList\",\"@id\":\"https://www.terry.uga.edu/group/management-information-systems/#breadcrumb\",\"itemListElement\":[{\"@type\":\"ListItem\",\"position\":1,\"name\":\"Home\",\"item\":\"https://www.terry.uga.edu/\"},{\"@type\":\"ListItem\",\"position\":2,\"name\":\"Faculty & Staff Directory\",\"item\":\"https://www.terry.uga.edu/directory/\"},{\"@type\":\"ListItem\",\"position\":3,\"name\":\"Management Information Systems\"}]},{\"@type\":\"WebSite\",\"@id\":\"https://www.terry.uga.edu/#website\",\"url\":\"https://www.terry.uga.edu/\",\"name\":\"Terry College of Business\",\"description\":\"\",\"publisher\":{\"@id\":\"https://www.terry.uga.edu/#organization\"},\"potentialAction\":[{\"@type\":\"SearchAction\",\"target\":{\"@type\":\"EntryPoint\",\"urlTemplate\":\"https://www.terry.uga.edu/?s={search_term_string}\"},\"query-input\":\"required name=search_term_string\"}],\"inLanguage\":\"en-US\"},{\"@type\":\"Organization\",\"@id\":\"https://www.terry.uga.edu/#organization\",\"name\":\"Terry College of Business\",\"url\":\"https://www.terry.uga.edu/\",\"logo\":{\"@type\":\"ImageObject\",\"inLanguage\":\"en-US\",\"@id\":\"https://www.terry.uga.edu/#/schema/logo/image/\",\"url\":\"https://www.terry.uga.edu/wp-content/uploads/Terry_logo_Horizontal_FC.png\",\"contentUrl\":\"https://www.terry.uga.edu/wp-content/uploads/Terry_logo_Horizontal_FC.png\",\"width\":6729,\"height\":1655,\"caption\":\"Terry College of Business\"},\"image\":{\"@id\":\"https://www.terry.uga.edu/#/schema/logo/image/\"},\"sameAs\":[\"https://www.facebook.com/terrycollege\",\"https://twitter.com/TerryCollege\",\"https://www.linkedin.com/school/university-of-georgia---terry-college-of-business/\"]}]}</script>\n",
       "\t<!-- / Yoast SEO plugin. -->\n",
       "\n",
       "\n",
       "<link rel='stylesheet' id='wp-block-library-css' href='https://www.terry.uga.edu/wp-includes/css/dist/block-library/style.min.css?ver=6.4.3' media='all' />\n",
       "<style id='global-styles-inline-css'>\n",
       "body{--wp--preset--color--black: #000000;--wp--preset--color--cyan-bluish-gray: #abb8c3;--wp--preset--color--white: #ffffff;--wp--preset--color--pale-pink: #f78da7;--wp--preset--color--vivid-red: #cf2e2e;--wp--preset--color--luminous-vivid-orange: #ff6900;--wp--preset--color--luminous-vivid-amber: #fcb900;--wp--preset--color--light-green-cyan: #7bdcb5;--wp--preset--color--vivid-green-cyan: #00d084;--wp--preset--color--pale-cyan-blue: #8ed1fc;--wp--preset--color--vivid-cyan-blue: #0693e3;--wp--preset--color--vivid-purple: #9b51e0;--wp--preset--color--base: #ffffff;--wp--preset--color--contrast: #222222;--wp--preset--color--primary: #ba0c2f;--wp--preset--color--secondary: #000000;--wp--preset--color--red: #BA0C2F;--wp--preset--color--red-bright: E4002B;--wp--preset--color--cyan: #00A3AD;--wp--preset--color--green: #B4BD00;--wp--preset--color--blue: #004E60;--wp--preset--color--gray: #554F47;--wp--preset--color--brown: #594A25;--wp--preset--color--purple: #66435A;--wp--preset--color--gray-light: #C8D8EB;--wp--preset--color--beige: #D6D2C4;--wp--preset--color--blue-light: #C8D8EB;--wp--preset--gradient--vivid-cyan-blue-to-vivid-purple: linear-gradient(135deg,rgba(6,147,227,1) 0%,rgb(155,81,224) 100%);--wp--preset--gradient--light-green-cyan-to-vivid-green-cyan: linear-gradient(135deg,rgb(122,220,180) 0%,rgb(0,208,130) 100%);--wp--preset--gradient--luminous-vivid-amber-to-luminous-vivid-orange: linear-gradient(135deg,rgba(252,185,0,1) 0%,rgba(255,105,0,1) 100%);--wp--preset--gradient--luminous-vivid-orange-to-vivid-red: linear-gradient(135deg,rgba(255,105,0,1) 0%,rgb(207,46,46) 100%);--wp--preset--gradient--very-light-gray-to-cyan-bluish-gray: linear-gradient(135deg,rgb(238,238,238) 0%,rgb(169,184,195) 100%);--wp--preset--gradient--cool-to-warm-spectrum: linear-gradient(135deg,rgb(74,234,220) 0%,rgb(151,120,209) 20%,rgb(207,42,186) 40%,rgb(238,44,130) 60%,rgb(251,105,98) 80%,rgb(254,248,76) 100%);--wp--preset--gradient--blush-light-purple: linear-gradient(135deg,rgb(255,206,236) 0%,rgb(152,150,240) 100%);--wp--preset--gradient--blush-bordeaux: linear-gradient(135deg,rgb(254,205,165) 0%,rgb(254,45,45) 50%,rgb(107,0,62) 100%);--wp--preset--gradient--luminous-dusk: linear-gradient(135deg,rgb(255,203,112) 0%,rgb(199,81,192) 50%,rgb(65,88,208) 100%);--wp--preset--gradient--pale-ocean: linear-gradient(135deg,rgb(255,245,203) 0%,rgb(182,227,212) 50%,rgb(51,167,181) 100%);--wp--preset--gradient--electric-grass: linear-gradient(135deg,rgb(202,248,128) 0%,rgb(113,206,126) 100%);--wp--preset--gradient--midnight: linear-gradient(135deg,rgb(2,3,129) 0%,rgb(40,116,252) 100%);--wp--preset--font-size--small: 13px;--wp--preset--font-size--medium: 20px;--wp--preset--font-size--large: 36px;--wp--preset--font-size--x-large: 42px;--wp--preset--spacing--20: 0.44rem;--wp--preset--spacing--30: 0.67rem;--wp--preset--spacing--40: 1rem;--wp--preset--spacing--50: 1.5rem;--wp--preset--spacing--60: 2.25rem;--wp--preset--spacing--70: 3.38rem;--wp--preset--spacing--80: 5.06rem;--wp--preset--shadow--natural: 6px 6px 9px rgba(0, 0, 0, 0.2);--wp--preset--shadow--deep: 12px 12px 50px rgba(0, 0, 0, 0.4);--wp--preset--shadow--sharp: 6px 6px 0px rgba(0, 0, 0, 0.2);--wp--preset--shadow--outlined: 6px 6px 0px -3px rgba(255, 255, 255, 1), 6px 6px rgba(0, 0, 0, 1);--wp--preset--shadow--crisp: 6px 6px 0px rgba(0, 0, 0, 1);}body { margin: 0; }.wp-site-blocks > .alignleft { float: left; margin-right: 2em; }.wp-site-blocks > .alignright { float: right; margin-left: 2em; }.wp-site-blocks > .aligncenter { justify-content: center; margin-left: auto; margin-right: auto; }:where(.is-layout-flex){gap: 0.5em;}:where(.is-layout-grid){gap: 0.5em;}body .is-layout-flow > .alignleft{float: left;margin-inline-start: 0;margin-inline-end: 2em;}body .is-layout-flow > .alignright{float: right;margin-inline-start: 2em;margin-inline-end: 0;}body .is-layout-flow > .aligncenter{margin-left: auto !important;margin-right: auto !important;}body .is-layout-constrained > .alignleft{float: left;margin-inline-start: 0;margin-inline-end: 2em;}body .is-layout-constrained > .alignright{float: right;margin-inline-start: 2em;margin-inline-end: 0;}body .is-layout-constrained > .aligncenter{margin-left: auto !important;margin-right: auto !important;}body .is-layout-constrained > :where(:not(.alignleft):not(.alignright):not(.alignfull)){max-width: var(--wp--style--global--content-size);margin-left: auto !important;margin-right: auto !important;}body .is-layout-constrained > .alignwide{max-width: var(--wp--style--global--wide-size);}body .is-layout-flex{display: flex;}body .is-layout-flex{flex-wrap: wrap;align-items: center;}body .is-layout-flex > *{margin: 0;}body .is-layout-grid{display: grid;}body .is-layout-grid > *{margin: 0;}body{padding-top: 0px;padding-right: 0px;padding-bottom: 0px;padding-left: 0px;}a:where(:not(.wp-element-button)){text-decoration: underline;}.wp-element-button, .wp-block-button__link{background-color: #32373c;border-width: 0;color: #fff;font-family: inherit;font-size: inherit;line-height: inherit;padding: calc(0.667em + 2px) calc(1.333em + 2px);text-decoration: none;}.has-black-color{color: var(--wp--preset--color--black) !important;}.has-cyan-bluish-gray-color{color: var(--wp--preset--color--cyan-bluish-gray) !important;}.has-white-color{color: var(--wp--preset--color--white) !important;}.has-pale-pink-color{color: var(--wp--preset--color--pale-pink) !important;}.has-vivid-red-color{color: var(--wp--preset--color--vivid-red) !important;}.has-luminous-vivid-orange-color{color: var(--wp--preset--color--luminous-vivid-orange) !important;}.has-luminous-vivid-amber-color{color: var(--wp--preset--color--luminous-vivid-amber) !important;}.has-light-green-cyan-color{color: var(--wp--preset--color--light-green-cyan) !important;}.has-vivid-green-cyan-color{color: var(--wp--preset--color--vivid-green-cyan) !important;}.has-pale-cyan-blue-color{color: var(--wp--preset--color--pale-cyan-blue) !important;}.has-vivid-cyan-blue-color{color: var(--wp--preset--color--vivid-cyan-blue) !important;}.has-vivid-purple-color{color: var(--wp--preset--color--vivid-purple) !important;}.has-base-color{color: var(--wp--preset--color--base) !important;}.has-contrast-color{color: var(--wp--preset--color--contrast) !important;}.has-primary-color{color: var(--wp--preset--color--primary) !important;}.has-secondary-color{color: var(--wp--preset--color--secondary) !important;}.has-red-color{color: var(--wp--preset--color--red) !important;}.has-red-bright-color{color: var(--wp--preset--color--red-bright) !important;}.has-cyan-color{color: var(--wp--preset--color--cyan) !important;}.has-green-color{color: var(--wp--preset--color--green) !important;}.has-blue-color{color: var(--wp--preset--color--blue) !important;}.has-gray-color{color: var(--wp--preset--color--gray) !important;}.has-brown-color{color: var(--wp--preset--color--brown) !important;}.has-purple-color{color: var(--wp--preset--color--purple) !important;}.has-gray-light-color{color: var(--wp--preset--color--gray-light) !important;}.has-beige-color{color: var(--wp--preset--color--beige) !important;}.has-blue-light-color{color: var(--wp--preset--color--blue-light) !important;}.has-black-background-color{background-color: var(--wp--preset--color--black) !important;}.has-cyan-bluish-gray-background-color{background-color: var(--wp--preset--color--cyan-bluish-gray) !important;}.has-white-background-color{background-color: var(--wp--preset--color--white) !important;}.has-pale-pink-background-color{background-color: var(--wp--preset--color--pale-pink) !important;}.has-vivid-red-background-color{background-color: var(--wp--preset--color--vivid-red) !important;}.has-luminous-vivid-orange-background-color{background-color: var(--wp--preset--color--luminous-vivid-orange) !important;}.has-luminous-vivid-amber-background-color{background-color: var(--wp--preset--color--luminous-vivid-amber) !important;}.has-light-green-cyan-background-color{background-color: var(--wp--preset--color--light-green-cyan) !important;}.has-vivid-green-cyan-background-color{background-color: var(--wp--preset--color--vivid-green-cyan) !important;}.has-pale-cyan-blue-background-color{background-color: var(--wp--preset--color--pale-cyan-blue) !important;}.has-vivid-cyan-blue-background-color{background-color: var(--wp--preset--color--vivid-cyan-blue) !important;}.has-vivid-purple-background-color{background-color: var(--wp--preset--color--vivid-purple) !important;}.has-base-background-color{background-color: var(--wp--preset--color--base) !important;}.has-contrast-background-color{background-color: var(--wp--preset--color--contrast) !important;}.has-primary-background-color{background-color: var(--wp--preset--color--primary) !important;}.has-secondary-background-color{background-color: var(--wp--preset--color--secondary) !important;}.has-red-background-color{background-color: var(--wp--preset--color--red) !important;}.has-red-bright-background-color{background-color: var(--wp--preset--color--red-bright) !important;}.has-cyan-background-color{background-color: var(--wp--preset--color--cyan) !important;}.has-green-background-color{background-color: var(--wp--preset--color--green) !important;}.has-blue-background-color{background-color: var(--wp--preset--color--blue) !important;}.has-gray-background-color{background-color: var(--wp--preset--color--gray) !important;}.has-brown-background-color{background-color: var(--wp--preset--color--brown) !important;}.has-purple-background-color{background-color: var(--wp--preset--color--purple) !important;}.has-gray-light-background-color{background-color: var(--wp--preset--color--gray-light) !important;}.has-beige-background-color{background-color: var(--wp--preset--color--beige) !important;}.has-blue-light-background-color{background-color: var(--wp--preset--color--blue-light) !important;}.has-black-border-color{border-color: var(--wp--preset--color--black) !important;}.has-cyan-bluish-gray-border-color{border-color: var(--wp--preset--color--cyan-bluish-gray) !important;}.has-white-border-color{border-color: var(--wp--preset--color--white) !important;}.has-pale-pink-border-color{border-color: var(--wp--preset--color--pale-pink) !important;}.has-vivid-red-border-color{border-color: var(--wp--preset--color--vivid-red) !important;}.has-luminous-vivid-orange-border-color{border-color: var(--wp--preset--color--luminous-vivid-orange) !important;}.has-luminous-vivid-amber-border-color{border-color: var(--wp--preset--color--luminous-vivid-amber) !important;}.has-light-green-cyan-border-color{border-color: var(--wp--preset--color--light-green-cyan) !important;}.has-vivid-green-cyan-border-color{border-color: var(--wp--preset--color--vivid-green-cyan) !important;}.has-pale-cyan-blue-border-color{border-color: var(--wp--preset--color--pale-cyan-blue) !important;}.has-vivid-cyan-blue-border-color{border-color: var(--wp--preset--color--vivid-cyan-blue) !important;}.has-vivid-purple-border-color{border-color: var(--wp--preset--color--vivid-purple) !important;}.has-base-border-color{border-color: var(--wp--preset--color--base) !important;}.has-contrast-border-color{border-color: var(--wp--preset--color--contrast) !important;}.has-primary-border-color{border-color: var(--wp--preset--color--primary) !important;}.has-secondary-border-color{border-color: var(--wp--preset--color--secondary) !important;}.has-red-border-color{border-color: var(--wp--preset--color--red) !important;}.has-red-bright-border-color{border-color: var(--wp--preset--color--red-bright) !important;}.has-cyan-border-color{border-color: var(--wp--preset--color--cyan) !important;}.has-green-border-color{border-color: var(--wp--preset--color--green) !important;}.has-blue-border-color{border-color: var(--wp--preset--color--blue) !important;}.has-gray-border-color{border-color: var(--wp--preset--color--gray) !important;}.has-brown-border-color{border-color: var(--wp--preset--color--brown) !important;}.has-purple-border-color{border-color: var(--wp--preset--color--purple) !important;}.has-gray-light-border-color{border-color: var(--wp--preset--color--gray-light) !important;}.has-beige-border-color{border-color: var(--wp--preset--color--beige) !important;}.has-blue-light-border-color{border-color: var(--wp--preset--color--blue-light) !important;}.has-vivid-cyan-blue-to-vivid-purple-gradient-background{background: var(--wp--preset--gradient--vivid-cyan-blue-to-vivid-purple) !important;}.has-light-green-cyan-to-vivid-green-cyan-gradient-background{background: var(--wp--preset--gradient--light-green-cyan-to-vivid-green-cyan) !important;}.has-luminous-vivid-amber-to-luminous-vivid-orange-gradient-background{background: var(--wp--preset--gradient--luminous-vivid-amber-to-luminous-vivid-orange) !important;}.has-luminous-vivid-orange-to-vivid-red-gradient-background{background: var(--wp--preset--gradient--luminous-vivid-orange-to-vivid-red) !important;}.has-very-light-gray-to-cyan-bluish-gray-gradient-background{background: var(--wp--preset--gradient--very-light-gray-to-cyan-bluish-gray) !important;}.has-cool-to-warm-spectrum-gradient-background{background: var(--wp--preset--gradient--cool-to-warm-spectrum) !important;}.has-blush-light-purple-gradient-background{background: var(--wp--preset--gradient--blush-light-purple) !important;}.has-blush-bordeaux-gradient-background{background: var(--wp--preset--gradient--blush-bordeaux) !important;}.has-luminous-dusk-gradient-background{background: var(--wp--preset--gradient--luminous-dusk) !important;}.has-pale-ocean-gradient-background{background: var(--wp--preset--gradient--pale-ocean) !important;}.has-electric-grass-gradient-background{background: var(--wp--preset--gradient--electric-grass) !important;}.has-midnight-gradient-background{background: var(--wp--preset--gradient--midnight) !important;}.has-small-font-size{font-size: var(--wp--preset--font-size--small) !important;}.has-medium-font-size{font-size: var(--wp--preset--font-size--medium) !important;}.has-large-font-size{font-size: var(--wp--preset--font-size--large) !important;}.has-x-large-font-size{font-size: var(--wp--preset--font-size--x-large) !important;}\n",
       ".wp-block-navigation a:where(:not(.wp-element-button)){color: inherit;}\n",
       ":where(.wp-block-post-template.is-layout-flex){gap: 1.25em;}:where(.wp-block-post-template.is-layout-grid){gap: 1.25em;}\n",
       ":where(.wp-block-columns.is-layout-flex){gap: 2em;}:where(.wp-block-columns.is-layout-grid){gap: 2em;}\n",
       ".wp-block-pullquote{font-size: 1.5em;line-height: 1.6;}\n",
       "</style>\n",
       "<link rel='stylesheet' id='terry-style-css' href='https://www.terry.uga.edu/wp-content/themes/terry/dist/style.css?ver=1.0.6' media='all' />\n",
       "<link rel='stylesheet' id='uga-footer-css' href='https://www.terry.uga.edu/wp-content/themes/terry/uga/_assets/css/uga-footer.css?ver=6.4.3' media='all' />\n",
       "<script src=\"https://www.terry.uga.edu/wp-includes/js/jquery/jquery.min.js?ver=3.7.1\" id=\"jquery-core-js\"></script>\n",
       "<script src=\"https://www.terry.uga.edu/wp-includes/js/jquery/jquery-migrate.min.js?ver=3.4.1\" id=\"jquery-migrate-js\"></script>\n",
       "<link rel=\"EditURI\" type=\"application/rsd+xml\" title=\"RSD\" href=\"https://www.terry.uga.edu/xmlrpc.php?rsd\" />\n",
       "<!-- Stream WordPress user activity plugin v4.0.0 -->\n",
       "\n",
       "<!-- Google Tag Manager for WordPress by gtm4wp.com -->\n",
       "<!-- GTM Container placement set to manual -->\n",
       "<script data-cfasync=\"false\" data-pagespeed-no-defer type=\"text/javascript\">\n",
       "\tvar dataLayer_content = {\"pagePostType\":\"directory\",\"pagePostType2\":\"tax-directory\",\"pageCategory\":[]};\n",
       "\tdataLayer.push( dataLayer_content );\n",
       "</script>\n",
       "<script data-cfasync=\"false\">\n",
       "(function(w,d,s,l,i){w[l]=w[l]||[];w[l].push({'gtm.start':\n",
       "new Date().getTime(),event:'gtm.js'});var f=d.getElementsByTagName(s)[0],\n",
       "j=d.createElement(s),dl=l!='dataLayer'?'&l='+l:'';j.async=true;j.src=\n",
       "'//www.googletagmanager.com/gtm.js?id='+i+dl;f.parentNode.insertBefore(j,f);\n",
       "})(window,document,'script','dataLayer','GTM-NW7Z62');\n",
       "</script>\n",
       "<!-- End Google Tag Manager -->\n",
       "<!-- End Google Tag Manager for WordPress by gtm4wp.com --><link rel=\"icon\" href=\"https://www.terry.uga.edu/wp-content/uploads/cropped-uga-favicon-32x32.png\" sizes=\"32x32\" />\n",
       "<link rel=\"icon\" href=\"https://www.terry.uga.edu/wp-content/uploads/cropped-uga-favicon-192x192.png\" sizes=\"192x192\" />\n",
       "<link rel=\"apple-touch-icon\" href=\"https://www.terry.uga.edu/wp-content/uploads/cropped-uga-favicon-180x180.png\" />\n",
       "<meta name=\"msapplication-TileImage\" content=\"https://www.terry.uga.edu/wp-content/uploads/cropped-uga-favicon-270x270.png\" />\n",
       "</head>\n",
       "\n",
       "<body class=\"archive post-type-archive post-type-archive-directory wp-custom-logo hfeed\">\n",
       "\n",
       "<!-- GTM Container placement set to manual -->\n",
       "<!-- Google Tag Manager (noscript) -->\n",
       "\t\t\t\t<noscript><iframe src=\"https://www.googletagmanager.com/ns.html?id=GTM-NW7Z62\" height=\"0\" width=\"0\" style=\"display:none;visibility:hidden\" aria-hidden=\"true\"></iframe></noscript>\n",
       "<!-- End Google Tag Manager (noscript) -->\n",
       "<!-- GTM Container placement set to manual -->\n",
       "<!-- Google Tag Manager (noscript) --><div id=\"page\" class=\"site\">\n",
       "\t<a class=\"skip-link screen-reader-text\" href=\"#primary\">Skip to content</a>\t\t\n",
       "\n",
       "\t<header id=\"masthead\" class=\"\">\n",
       "\t\t<div class=\"site-header container-fluid\">\n",
       "\t\t\t<div class=\"site-branding\">\n",
       "\t\t\t\t<a href=\"https://www.terry.uga.edu/\" class=\"custom-logo-link\" rel=\"home\"><img width=\"6729\" height=\"1655\" src=\"https://www.terry.uga.edu/wp-content/uploads/Terry_logo_Horizontal_FC.png\" class=\"custom-logo\" alt=\"Terry College of Business, University of Georgia\" decoding=\"async\" fetchpriority=\"high\" srcset=\"https://www.terry.uga.edu/wp-content/uploads/Terry_logo_Horizontal_FC.png 6729w, https://www.terry.uga.edu/wp-content/uploads/Terry_logo_Horizontal_FC-300x74.png 300w, https://www.terry.uga.edu/wp-content/uploads/Terry_logo_Horizontal_FC-1024x252.png 1024w, https://www.terry.uga.edu/wp-content/uploads/Terry_logo_Horizontal_FC-768x189.png 768w, https://www.terry.uga.edu/wp-content/uploads/Terry_logo_Horizontal_FC-1536x378.png 1536w, https://www.terry.uga.edu/wp-content/uploads/Terry_logo_Horizontal_FC-2048x504.png 2048w\" sizes=\"(max-width: 6729px) 100vw, 6729px\" /></a>\t\t\t</div><!-- .site-branding -->\n",
       "\t\t\t\n",
       "\t\t\t<nav id=\"site-navigation\" class=\"main-navigation\">\n",
       "\t\t\t\t<button type=\"button\" id=\"toggle-menu\" class=\"btn btn-lg\" aria-controls=\"primary-menu\" aria-expanded=\"false\"><span class=\"visually-hidden\">Primary Menu</span><i class=\"fa-solid fa-bars fa-fw\"></i></button><div class=\"secondary-nav-wrapper\"><div class=\"menu-secondary-container\"><ul id=\"secondary-menu\" class=\"d-none d-xl-flex\"><li id=\"menu-item-26109\" class=\"menu-item menu-item-type-post_type menu-item-object-page menu-item-26109\"><a href=\"https://www.terry.uga.edu/current-students/\">Current Students</a></li>\n",
       "<li id=\"menu-item-17929\" class=\"menu-item menu-item-type-post_type_archive menu-item-object-directory current-menu-item menu-item-17929\"><a href=\"https://www.terry.uga.edu/directory/\" aria-current=\"page\">Directory</a></li>\n",
       "<li id=\"menu-item-17930\" class=\"menu-item menu-item-type-post_type menu-item-object-page menu-item-17930\"><a href=\"https://www.terry.uga.edu/news/\">News</a></li>\n",
       "<li id=\"menu-item-17931\" class=\"menu-item menu-item-type-post_type menu-item-object-page menu-item-17931\"><a href=\"https://www.terry.uga.edu/events/\">Events</a></li>\n",
       "<li id=\"menu-item-17933\" class=\"menu-item menu-item-type-post_type menu-item-object-page menu-item-17933\"><a href=\"https://www.terry.uga.edu/alumni/support-terry/\">Give</a></li>\n",
       "</ul></div><form class=\"site-search--desktop\" action=\"https://www.terry.uga.edu\"><input id=\"search-input\" title=\"Site Search\" name=\"s\" type=\"text\" class=\"site-search-input--desktop form-control \" value=\"\" aria-hidden=\"true\"><button type=\"submit\" class=\"site-search-button--desktop btn\"><span class=\"fa-stack fa-lg\"><i class=\"fa fa-circle fa-stack-2x\"></i><i class=\"fa fa-search fa-stack-1x fa-inverse\"></i></span></button></form></div><div class=\"menu-primary-menu-container\"><ul id=\"primary-menu\" class=\"menu\"><li id=\"menu-item-12287\" class=\"menu-item menu-item-type-post_type menu-item-object-page menu-item-has-children menu-item-12287\"><a href=\"https://www.terry.uga.edu/about/\">About</a>\n",
       "<ul class=\"sub-menu\">\n",
       "\t<li id=\"menu-item-21693\" class=\"menu-item menu-item-type-post_type menu-item-object-page menu-item-21693\"><a href=\"https://www.terry.uga.edu/about/why-choose-terry/\">Why Choose Terry?</a></li>\n",
       "\t<li id=\"menu-item-21695\" class=\"menu-item menu-item-type-post_type menu-item-object-page menu-item-21695\"><a href=\"https://www.terry.uga.edu/about/strategic-initiatives/\">Strategic Initiatives</a></li>\n",
       "\t<li id=\"menu-item-21697\" class=\"menu-item menu-item-type-post_type menu-item-object-page menu-item-21697\"><a href=\"https://www.terry.uga.edu/about/rankings/\">Rankings and Recognition</a></li>\n",
       "\t<li id=\"menu-item-21698\" class=\"menu-item menu-item-type-post_type menu-item-object-page menu-item-21698\"><a href=\"https://www.terry.uga.edu/about/college-leadership/\">College Leadership</a></li>\n",
       "\t<li id=\"menu-item-21700\" class=\"menu-item menu-item-type-post_type menu-item-object-page menu-item-21700\"><a href=\"https://www.terry.uga.edu/about/diversity/\">Diversity &#038; Inclusion</a></li>\n",
       "\t<li id=\"menu-item-21701\" class=\"menu-item menu-item-type-post_type menu-item-object-page menu-item-21701\"><a href=\"https://www.terry.uga.edu/about/visit-terry/\">Visit Terry</a></li>\n",
       "</ul>\n",
       "</li>\n",
       "<li id=\"menu-item-7168\" class=\"menu-item menu-item-type-post_type menu-item-object-page menu-item-has-children menu-item-7168\"><a href=\"https://www.terry.uga.edu/degrees-and-programs/\">Degrees &#038; Programs</a>\n",
       "<ul class=\"sub-menu\">\n",
       "\t<li id=\"menu-item-7147\" class=\"menu-item menu-item-type-post_type menu-item-object-page menu-item-7147\"><a href=\"https://www.terry.uga.edu/undergraduate/\">Undergraduate Programs</a></li>\n",
       "\t<li id=\"menu-item-21663\" class=\"menu-item menu-item-type-post_type menu-item-object-page menu-item-has-children menu-item-21663\"><a href=\"https://www.terry.uga.edu/mba/\">MBA Programs</a>\n",
       "\t<ul class=\"sub-menu\">\n",
       "\t\t<li id=\"menu-item-21665\" class=\"menu-item menu-item-type-post_type menu-item-object-page menu-item-21665\"><a href=\"https://www.terry.uga.edu/mba/fulltime/\">Full-Time MBA Program</a></li>\n",
       "\t\t<li id=\"menu-item-21666\" class=\"menu-item menu-item-type-post_type menu-item-object-page menu-item-21666\"><a href=\"https://www.terry.uga.edu/mba/professional/\">Professional MBA Program</a></li>\n",
       "\t\t<li id=\"menu-item-21669\" class=\"menu-item menu-item-type-post_type menu-item-object-page menu-item-21669\"><a href=\"https://www.terry.uga.edu/mba/executive/\">Executive MBA Program</a></li>\n",
       "\t\t<li id=\"menu-item-21670\" class=\"menu-item menu-item-type-post_type menu-item-object-page menu-item-21670\"><a href=\"https://www.terry.uga.edu/mba/online/\">Online MBA Program</a></li>\n",
       "\t</ul>\n",
       "</li>\n",
       "\t<li id=\"menu-item-21664\" class=\"menu-item menu-item-type-post_type menu-item-object-page menu-item-has-children menu-item-21664\"><a href=\"https://www.terry.uga.edu/specialized-masters-programs/\">Specialized Master’s Programs</a>\n",
       "\t<ul class=\"sub-menu\">\n",
       "\t\t<li id=\"menu-item-21673\" class=\"menu-item menu-item-type-post_type menu-item-object-page menu-item-21673\"><a href=\"https://www.terry.uga.edu/macc/\">Master of Accountancy Program</a></li>\n",
       "\t\t<li id=\"menu-item-21672\" class=\"menu-item menu-item-type-post_type menu-item-object-page menu-item-21672\"><a href=\"https://www.terry.uga.edu/mmr/\">Master of Marketing Research</a></li>\n",
       "\t\t<li id=\"menu-item-21671\" class=\"menu-item menu-item-type-post_type menu-item-object-page menu-item-21671\"><a href=\"https://www.terry.uga.edu/msba/\">Master of Science in Business Analytics</a></li>\n",
       "\t\t<li id=\"menu-item-21675\" class=\"menu-item menu-item-type-post_type menu-item-object-page menu-item-21675\"><a href=\"https://www.terry.uga.edu/mbt/\">Master of Business &#038; Technology (Online)</a></li>\n",
       "\t</ul>\n",
       "</li>\n",
       "\t<li id=\"menu-item-21683\" class=\"menu-item menu-item-type-post_type menu-item-object-page menu-item-21683\"><a href=\"https://www.terry.uga.edu/phd/\">PhD Programs</a></li>\n",
       "\t<li id=\"menu-item-21681\" class=\"menu-item menu-item-type-post_type menu-item-object-page menu-item-21681\"><a href=\"https://www.terry.uga.edu/certificates/\">Certificates</a></li>\n",
       "\t<li id=\"menu-item-21684\" class=\"menu-item menu-item-type-post_type menu-item-object-page menu-item-21684\"><a href=\"https://www.terry.uga.edu/international-programs/\">International Programs</a></li>\n",
       "</ul>\n",
       "</li>\n",
       "<li id=\"menu-item-7170\" class=\"menu-item menu-item-type-post_type menu-item-object-page menu-item-has-children menu-item-7170\"><a href=\"https://www.terry.uga.edu/faculty-and-research/\">Faculty &#038; Research</a>\n",
       "<ul class=\"sub-menu\">\n",
       "\t<li id=\"menu-item-21689\" class=\"menu-item menu-item-type-post_type_archive menu-item-object-departments menu-item-21689\"><a href=\"https://www.terry.uga.edu/departments/\">Academic Departments</a></li>\n",
       "\t<li id=\"menu-item-21704\" class=\"menu-item menu-item-type-post_type menu-item-object-page menu-item-21704\"><a href=\"https://www.terry.uga.edu/faculty-and-research/expertise/\">Research Expertise</a></li>\n",
       "\t<li id=\"menu-item-21707\" class=\"menu-item menu-item-type-post_type menu-item-object-page menu-item-21707\"><a href=\"https://www.terry.uga.edu/faculty-and-research/resources/\">Research Resources</a></li>\n",
       "\t<li id=\"menu-item-21705\" class=\"menu-item menu-item-type-post_type menu-item-object-page menu-item-21705\"><a href=\"https://www.terry.uga.edu/faculty-and-research/research-centers/\">Research Centers</a></li>\n",
       "</ul>\n",
       "</li>\n",
       "<li id=\"menu-item-7169\" class=\"menu-item menu-item-type-post_type menu-item-object-page menu-item-has-children menu-item-7169\"><a href=\"https://www.terry.uga.edu/executive/\">Executive Education</a>\n",
       "<ul class=\"sub-menu\">\n",
       "\t<li id=\"menu-item-21767\" class=\"menu-item menu-item-type-post_type menu-item-object-page menu-item-21767\"><a href=\"https://www.terry.uga.edu/executive/programs/\">Program Offerings</a></li>\n",
       "\t<li id=\"menu-item-21771\" class=\"menu-item menu-item-type-post_type menu-item-object-page menu-item-21771\"><a href=\"https://www.terry.uga.edu/executive/custom-programs/\">Custom Programs</a></li>\n",
       "\t<li id=\"menu-item-21777\" class=\"menu-item menu-item-type-post_type menu-item-object-page menu-item-21777\"><a target=\"_blank\" rel=\"noopener\" href=\"https://www.terry.uga.edu/executive/calendar/\">Calendar</a></li>\n",
       "</ul>\n",
       "</li>\n",
       "<li id=\"menu-item-7166\" class=\"menu-item menu-item-type-post_type menu-item-object-page menu-item-has-children menu-item-7166\"><a href=\"https://www.terry.uga.edu/alumni/\">Alumni</a>\n",
       "<ul class=\"sub-menu\">\n",
       "\t<li id=\"menu-item-21762\" class=\"menu-item menu-item-type-post_type menu-item-object-page menu-item-21762\"><a href=\"https://www.terry.uga.edu/alumni/stay-involved/\">Stay Involved</a></li>\n",
       "\t<li id=\"menu-item-21763\" class=\"menu-item menu-item-type-post_type menu-item-object-page menu-item-21763\"><a href=\"https://www.terry.uga.edu/alumni/events/\">Alumni Events</a></li>\n",
       "\t<li id=\"menu-item-21765\" class=\"menu-item menu-item-type-post_type menu-item-object-page menu-item-21765\"><a href=\"https://www.terry.uga.edu/alumni/support-terry/\">Support Terry</a></li>\n",
       "\t<li id=\"menu-item-21766\" class=\"menu-item menu-item-type-post_type menu-item-object-page menu-item-21766\"><a href=\"https://www.terry.uga.edu/alumni/alumni-student-engagement-opportunities/\">Alumni-Student Engagement Opportunities</a></li>\n",
       "</ul>\n",
       "</li>\n",
       "<li id=\"menu-item-12286\" class=\"menu-item menu-item-type-post_type menu-item-object-page menu-item-has-children menu-item-12286\"><a href=\"https://www.terry.uga.edu/companies-and-recruiters/\">Companies &#038; Recruiters</a>\n",
       "<ul class=\"sub-menu\">\n",
       "\t<li id=\"menu-item-21709\" class=\"menu-item menu-item-type-post_type menu-item-object-page menu-item-21709\"><a href=\"https://www.terry.uga.edu/companies-and-recruiters/undergraduates/\">Hire Undergraduates</a></li>\n",
       "\t<li id=\"menu-item-21710\" class=\"menu-item menu-item-type-post_type menu-item-object-page menu-item-21710\"><a href=\"https://www.terry.uga.edu/companies-and-recruiters/masters-grads/\">Hire Master’s Graduates</a></li>\n",
       "\t<li id=\"menu-item-21712\" class=\"menu-item menu-item-type-post_type menu-item-object-page menu-item-21712\"><a href=\"https://www.terry.uga.edu/companies-and-recruiters/partner-with-terry/\">Partner With Us</a></li>\n",
       "</ul>\n",
       "</li>\n",
       "</ul></div>\t\t\t</nav><!-- #site-navigation -->\n",
       "\t\t</div>\n",
       "\t</header><!-- #masthead -->\n",
       "\n",
       "\t\t\t<nav id=\"sub-navigation--desktop\" class=\"sub-navigation d-none d-md-block\">\n",
       "\t\t\t<div class=\"container-fluid\">\n",
       "\t\t\t\t<div class=\"menu-nested-pages-container\"><ul id=\"site-nav\" class=\"menu\"><li id=\"menu-item-27228\" class=\"menu-item menu-item-type-post_type_archive menu-item-object-directory current-menu-item menu-item-27228\"><a href=\"https://www.terry.uga.edu/directory/\" aria-current=\"page\">Faculty &#038; Staff Directory</a></li>\n",
       "</ul></div>\t\t\t</div>\n",
       "\t\t</nav><!-- #sub-navigation -->\n",
       "\t\t<div id=\"breadcrumbs\"><div class=\"container-fluid breadcrumbs-container\"><span><span><a href=\"https://www.terry.uga.edu/\"><i class=\"fa fa-home\" title=\"Home\"></i><span class=\"visually-hidden\">Home</span></a></span>  <span><a href=\"https://www.terry.uga.edu/directory/\">Faculty & Staff Directory</a></span>  <span class=\"breadcrumb_last\" aria-current=\"page\">Management Information Systems</span></span></div></div>\n",
       "\t<main id=\"primary\" class=\"site-main\">\n",
       "\t\t<nav id=\"sub-navigation--mobile\" class=\"d-block d-md-none\"><div class=\"container-xl\"><div class=\"menu-nested-pages-container\"><ul id=\"subnav--mobile\" class=\"menu\"><li class=\"menu-item menu-item-type-post_type_archive menu-item-object-directory current-menu-item menu-item-27228\"><a href=\"https://www.terry.uga.edu/directory/\" aria-current=\"page\">Faculty &#038; Staff Directory</a></li>\n",
       "</ul></div></div></nav><div class=\"container-xl\">\n",
       "<header class=\"page-header\">\n",
       "\t<h1 class=\"page-title\">Faculty &amp; Staff Directory</h1></header><!-- .page-header -->\n",
       "<form action=\"/directory/\" method=\"get\" class=\"mb-5 p-3 border rounded shadow bg-white\"><div class=\"row mb-3\"><div class=\"col-12 col-md-4\"><label for=\"directory-search\" class=\"form-label \">Search by Keyword</label><div class=\"input-group\"><span class=\"input-group-text bg-transparent\"><i class=\"fas fa-search\"></i></span><input type=\"text\" class=\"form-control form-control-lg border-start-0\" id=\"directory-search\" name=\"s\" placeholder=\"\" value=\"\" /></div></div><div class=\"col-12 col-md-4\"><label for=\"group\" class=\"form-label\">Unit</label><select id=\"group\" name=\"group\" class=\"form-select form-select-lg\"><option value=\"\">Any</option><optgroup label=\"Department\"><option value=\"accounting\">Accounting</option><option value=\"economics\">Economics</option><option value=\"finance\">Finance</option><option value=\"ilsre\">Insurance, Legal Studies and Real Estate</option><option value=\"legal-studies\">Legal Studies</option><option value=\"management\">Management</option><option value=\"management-information-systems\" selected>Management Information Systems</option><option value=\"marketing\">Marketing</option><option value=\"real-estate\">Real Estate</option><option value=\"risk-management-and-insurance\">Risk Management and Insurance</option></optgroup><optgroup label=\"Program\"><option value=\"actuarial-science\">Actuarial Science</option><option value=\"entrepreneurship\">Entrepreneurship</option><option value=\"executive-education\">Executive Education</option><option value=\"executive-mba\">Executive MBA</option><option value=\"fulltime-mba\">Full-Time MBA</option><option value=\"ila\">Institute for Leadership Advancement</option><option value=\"international-business\">International Business</option><option value=\"macc\">Master of Accountancy</option><option value=\"mbt\">Master of Business and Technology</option><option value=\"mmr\">Master of Marketing Research</option><option value=\"msba\">Master of Science in Business Analytics</option><option value=\"music-business\">Music Business</option><option value=\"online-mba\">Online MBA</option><option value=\"phd-program\">PhD Program</option><option value=\"professional-mba\">Professional MBA</option><option value=\"undergraduate\">Undergraduate Business Program</option></optgroup><optgroup label=\"Administrative Unit\"><option value=\"business-office\">Business Office</option><option value=\"deans-office\">Dean’s Office</option><option value=\"tdar\">Development and Alumni Relations</option><option value=\"diversity-relations\">Diversity Relations</option><option value=\"teec\">Executive Education Center</option><option value=\"facilities-and-logistics\">Facilities and Logistics Office</option><option value=\"finance-and-administration\">Finance and Administration</option><option value=\"cmc\">MBA Career Management Center</option><option value=\"information-technology\">Office of Information Technology</option><option value=\"marketing-and-communications\">Office of Marketing and Communications</option><option value=\"selig-center\">Selig Center</option><option value=\"special-events\">Special Events</option><option value=\"undergraduate-student-services\">Undergraduate Student Services</option></optgroup></select></div><div class=\"col-12 col-md-4\"><label for=\"type\" class=\"form-label\">Employee Type</label><select id=\"type\" name=\"type\" class=\"form-select form-select-lg\"><option value=\"\">Any</option><option value=\"faculty\">Faculty</option><option value=\"emeritus\">–Emeritus</option><option value=\"research\">–Research</option><option value=\"phd\">PhD Student</option><option value=\"staff\">Staff</option></select></div></div><button class=\"btn btn-primary\" type=\"submit\">Apply Filters</button> <a class=\"btn btn-light\" href=\"/directory/\" type=\"submit\">Reset</a></form><h2>Faculty</h2><div class=\"row gx-4 gy-4 mb-5 align-items-stretch\"><div class=\"col-12 col-md-6 col-lg-4\">\t<div class=\"entry-content row mx-0 rounded bg-white p-4 shadow-lg h-100\">\n",
       "\t\t<div class=\"col-6 col-sm-4 mb-3 mb-sm-0\"><a class=\"entry-title\" href=\"https://www.terry.uga.edu/directory/karen-aguar/\"><img width=\"500\" height=\"500\" src=\"https://www.terry.uga.edu/wp-content/uploads/aguar_karen_2018-500x500.jpg\" class=\"profile-image rounded-circle img-fluid wp-post-image\" alt=\"Karen headshot\" srcset=\"https://www.terry.uga.edu/wp-content/uploads/aguar_karen_2018-500x500.jpg 480w, https://www.terry.uga.edu/wp-content/uploads/aguar_karen_2018-500x500.jpg 640w, https://www.terry.uga.edu/wp-content/uploads/aguar_karen_2018-500x500.jpg 960w\" decoding=\"async\" /></a></div><div class=\"col-12 col-sm-8\"><a class=\"entry-title\" href=\"https://www.terry.uga.edu/directory/karen-aguar/\">Karen Aguar</a><div class=\"entry-body\"><ul class=\"positions\"><li class=\"position\"><span class=\"position__title\">Lecturer</span>, <span class=\"position__group\">Management Information Systems, Master of Business and Technology</span></li></ul></div></div>\t</div><!-- .entry-content -->\n",
       "\t</div><div class=\"col-12 col-md-6 col-lg-4\">\t<div class=\"entry-content row mx-0 rounded bg-white p-4 shadow-lg h-100\">\n",
       "\t\t<div class=\"col-6 col-sm-4 mb-3 mb-sm-0\"><a class=\"entry-title\" href=\"https://www.terry.uga.edu/directory/mariana-andrade/\"><img width=\"500\" height=\"500\" src=\"https://www.terry.uga.edu/wp-content/uploads/andrade-mariana-2024-500x500.jpg\" class=\"profile-image rounded-circle img-fluid wp-post-image\" alt=\"Mariana Andrade\" srcset=\"https://www.terry.uga.edu/wp-content/uploads/andrade-mariana-2024-500x500.jpg 480w, https://www.terry.uga.edu/wp-content/uploads/andrade-mariana-2024-500x500.jpg 640w, https://www.terry.uga.edu/wp-content/uploads/andrade-mariana-2024-500x500.jpg 960w\" decoding=\"async\" /></a></div><div class=\"col-12 col-sm-8\"><a class=\"entry-title\" href=\"https://www.terry.uga.edu/directory/mariana-andrade/\">Mariana Andrade</a><div class=\"entry-body\"><ul class=\"positions\"><li class=\"position\"><span class=\"position__title\">Assistant Professor</span>, <span class=\"position__group\">Management Information Systems</span></li></ul></div></div>\t</div><!-- .entry-content -->\n",
       "\t</div><div class=\"col-12 col-md-6 col-lg-4\">\t<div class=\"entry-content row mx-0 rounded bg-white p-4 shadow-lg h-100\">\n",
       "\t\t<div class=\"col-6 col-sm-4 mb-3 mb-sm-0\"><a class=\"entry-title\" href=\"https://www.terry.uga.edu/directory/marie-claude-maric-boudreau/\"><img width=\"500\" height=\"500\" src=\"https://www.terry.uga.edu/wp-content/uploads/boudreau_marie-claude_2017-500x500.jpg\" class=\"profile-image rounded-circle img-fluid wp-post-image\" alt=\"Marie-Claude headshot\" srcset=\"https://www.terry.uga.edu/wp-content/uploads/boudreau_marie-claude_2017-500x500.jpg 480w, https://www.terry.uga.edu/wp-content/uploads/boudreau_marie-claude_2017-500x500.jpg 640w, https://www.terry.uga.edu/wp-content/uploads/boudreau_marie-claude_2017-500x500.jpg 960w\" decoding=\"async\" /></a></div><div class=\"col-12 col-sm-8\"><a class=\"entry-title\" href=\"https://www.terry.uga.edu/directory/marie-claude-maric-boudreau/\">Marie-Claude (Maric) Boudreau</a><div class=\"entry-body\"><ul class=\"positions\"><li class=\"position\"><span class=\"position__title\">Associate Professor</span>, <span class=\"position__group\">Management Information Systems</span></li></ul></div></div>\t</div><!-- .entry-content -->\n",
       "\t</div><div class=\"col-12 col-md-6 col-lg-4\">\t<div class=\"entry-content row mx-0 rounded bg-white p-4 shadow-lg h-100\">\n",
       "\t\t<div class=\"col-6 col-sm-4 mb-3 mb-sm-0\"><a class=\"entry-title\" href=\"https://www.terry.uga.edu/directory/stacy-boyles/\"><img width=\"500\" height=\"500\" src=\"https://www.terry.uga.edu/wp-content/uploads/Boyles-Stacy-500x500.jpg\" class=\"profile-image rounded-circle img-fluid wp-post-image\" alt=\"Headshot of Stacy Boyles\" srcset=\"https://www.terry.uga.edu/wp-content/uploads/Boyles-Stacy-500x500.jpg 480w, https://www.terry.uga.edu/wp-content/uploads/Boyles-Stacy-500x500.jpg 640w, https://www.terry.uga.edu/wp-content/uploads/Boyles-Stacy-500x500.jpg 960w\" decoding=\"async\" /></a></div><div class=\"col-12 col-sm-8\"><a class=\"entry-title\" href=\"https://www.terry.uga.edu/directory/stacy-boyles/\">Stacy Boyles</a><div class=\"entry-body\"><ul class=\"positions\"><li class=\"position\"><span class=\"position__title\">Adjunct Lecturer</span>, <span class=\"position__group\">Management Information Systems</span></li></ul></div></div>\t</div><!-- .entry-content -->\n",
       "\t</div><div class=\"col-12 col-md-6 col-lg-4\">\t<div class=\"entry-content row mx-0 rounded bg-white p-4 shadow-lg h-100\">\n",
       "\t\t<div class=\"col-6 col-sm-4 mb-3 mb-sm-0\"><a class=\"entry-title\" href=\"https://www.terry.uga.edu/directory/dave-chatterjee/\"><img width=\"500\" height=\"500\" src=\"https://www.terry.uga.edu/wp-content/uploads/Dave-Chatterjee-500x500.jpeg\" class=\"profile-image rounded-circle img-fluid wp-post-image\" alt=\"Headshot of DAVE CHATTERJEE\" srcset=\"https://www.terry.uga.edu/wp-content/uploads/Dave-Chatterjee-500x500.jpeg 480w, https://www.terry.uga.edu/wp-content/uploads/Dave-Chatterjee-500x500.jpeg 640w, https://www.terry.uga.edu/wp-content/uploads/Dave-Chatterjee-500x500.jpeg 960w\" decoding=\"async\" /></a></div><div class=\"col-12 col-sm-8\"><a class=\"entry-title\" href=\"https://www.terry.uga.edu/directory/dave-chatterjee/\">Dave Chatterjee</a><div class=\"entry-body\"><ul class=\"positions\"><li class=\"position\"><span class=\"position__title\">Associate Professor</span>, <span class=\"position__group\">Management Information Systems</span></li></ul></div></div>\t</div><!-- .entry-content -->\n",
       "\t</div><div class=\"col-12 col-md-6 col-lg-4\">\t<div class=\"entry-content row mx-0 rounded bg-white p-4 shadow-lg h-100\">\n",
       "\t\t<div class=\"col-6 col-sm-4 mb-3 mb-sm-0\"><a class=\"entry-title\" href=\"https://www.terry.uga.edu/directory/timothy-tim-chester/\"><img width=\"500\" height=\"500\" src=\"https://www.terry.uga.edu/wp-content/uploads/chester_timothy_2021-500x500.jpg\" class=\"profile-image rounded-circle img-fluid wp-post-image\" alt=\"Timothy headshot\" srcset=\"https://www.terry.uga.edu/wp-content/uploads/chester_timothy_2021-500x500.jpg 480w, https://www.terry.uga.edu/wp-content/uploads/chester_timothy_2021-500x500.jpg 640w, https://www.terry.uga.edu/wp-content/uploads/chester_timothy_2021-500x500.jpg 960w\" decoding=\"async\" /></a></div><div class=\"col-12 col-sm-8\"><a class=\"entry-title\" href=\"https://www.terry.uga.edu/directory/timothy-tim-chester/\">Timothy (Tim) Chester</a><div class=\"entry-body\"><ul class=\"positions\"><li class=\"position\"><span class=\"position__title\">Adjunct Instructor</span>, <span class=\"position__group\">Management Information Systems</span></li></ul></div></div>\t</div><!-- .entry-content -->\n",
       "\t</div><div class=\"col-12 col-md-6 col-lg-4\">\t<div class=\"entry-content row mx-0 rounded bg-white p-4 shadow-lg h-100\">\n",
       "\t\t<div class=\"col-6 col-sm-4 mb-3 mb-sm-0\"><a class=\"entry-title\" href=\"https://www.terry.uga.edu/directory/dave-crouch/\"><img width=\"500\" height=\"500\" src=\"https://www.terry.uga.edu/wp-content/uploads/Dave-Crouch-2023-05.jpg\" class=\"profile-image rounded-circle img-fluid wp-post-image\" alt=\"Dave Crouch\" srcset=\"https://www.terry.uga.edu/wp-content/uploads/Dave-Crouch-2023-05.jpg 480w, https://www.terry.uga.edu/wp-content/uploads/Dave-Crouch-2023-05.jpg 640w, https://www.terry.uga.edu/wp-content/uploads/Dave-Crouch-2023-05.jpg 960w\" decoding=\"async\" /></a></div><div class=\"col-12 col-sm-8\"><a class=\"entry-title\" href=\"https://www.terry.uga.edu/directory/dave-crouch/\">Dave Crouch</a><div class=\"entry-body\"><ul class=\"positions\"><li class=\"position\"><span class=\"position__title\">Adjunct Lecturer</span>, <span class=\"position__group\">Management Information Systems</span></li></ul></div></div>\t</div><!-- .entry-content -->\n",
       "\t</div><div class=\"col-12 col-md-6 col-lg-4\">\t<div class=\"entry-content row mx-0 rounded bg-white p-4 shadow-lg h-100\">\n",
       "\t\t<div class=\"col-6 col-sm-4 mb-3 mb-sm-0\"><a class=\"entry-title\" href=\"https://www.terry.uga.edu/directory/jeffrey-howells/\"><img width=\"500\" height=\"500\" src=\"https://www.terry.uga.edu/wp-content/uploads/howells_jeffrey_2020-500x500.jpg\" class=\"profile-image rounded-circle img-fluid wp-post-image\" alt=\"Headshot of JEFFREY HOWELLS\" srcset=\"https://www.terry.uga.edu/wp-content/uploads/howells_jeffrey_2020-500x500.jpg 480w, https://www.terry.uga.edu/wp-content/uploads/howells_jeffrey_2020-500x500.jpg 640w, https://www.terry.uga.edu/wp-content/uploads/howells_jeffrey_2020-500x500.jpg 960w\" decoding=\"async\" /></a></div><div class=\"col-12 col-sm-8\"><a class=\"entry-title\" href=\"https://www.terry.uga.edu/directory/jeffrey-howells/\">Jeffrey Howells</a><div class=\"entry-body\"><ul class=\"positions\"><li class=\"position\"><span class=\"position__title\">Part-Time Lecturer</span>, <span class=\"position__group\">Management Information Systems, Master of Business and Technology</span></li></ul></div></div>\t</div><!-- .entry-content -->\n",
       "\t</div><div class=\"col-12 col-md-6 col-lg-4\">\t<div class=\"entry-content row mx-0 rounded bg-white p-4 shadow-lg h-100\">\n",
       "\t\t<div class=\"col-6 col-sm-4 mb-3 mb-sm-0\"><a class=\"entry-title\" href=\"https://www.terry.uga.edu/directory/mark-w-huber/\"><img width=\"500\" height=\"500\" src=\"https://www.terry.uga.edu/wp-content/uploads/20211015_MIST_019-500x500.jpg\" class=\"profile-image rounded-circle img-fluid wp-post-image\" alt=\"MIST Faculty and PhD student photos in the Foley Courtyard on Friday\" srcset=\"https://www.terry.uga.edu/wp-content/uploads/20211015_MIST_019-500x500.jpg 480w, https://www.terry.uga.edu/wp-content/uploads/20211015_MIST_019-500x500.jpg 640w, https://www.terry.uga.edu/wp-content/uploads/20211015_MIST_019-500x500.jpg 960w\" decoding=\"async\" /></a></div><div class=\"col-12 col-sm-8\"><a class=\"entry-title\" href=\"https://www.terry.uga.edu/directory/mark-w-huber/\">Mark W. Huber</a><div class=\"entry-body\"><ul class=\"positions\"><li class=\"position\"><span class=\"position__title\">Principal Lecturer</span>, <span class=\"position__group\">Management Information Systems, Master of Business and Technology</span></li></ul></div></div>\t</div><!-- .entry-content -->\n",
       "\t</div><div class=\"col-12 col-md-6 col-lg-4\">\t<div class=\"entry-content row mx-0 rounded bg-white p-4 shadow-lg h-100\">\n",
       "\t\t<div class=\"col-6 col-sm-4 mb-3 mb-sm-0\"><a class=\"entry-title\" href=\"https://www.terry.uga.edu/directory/karim-jetha/\"><img width=\"500\" height=\"500\" src=\"https://www.terry.uga.edu/wp-content/uploads/jetha_karim_2016-500x500.jpg\" class=\"profile-image rounded-circle img-fluid wp-post-image\" alt=\"Karim headshot\" srcset=\"https://www.terry.uga.edu/wp-content/uploads/jetha_karim_2016-500x500.jpg 480w, https://www.terry.uga.edu/wp-content/uploads/jetha_karim_2016-500x500.jpg 640w, https://www.terry.uga.edu/wp-content/uploads/jetha_karim_2016-500x500.jpg 960w\" decoding=\"async\" /></a></div><div class=\"col-12 col-sm-8\"><a class=\"entry-title\" href=\"https://www.terry.uga.edu/directory/karim-jetha/\">Karim Jetha</a><div class=\"entry-body\"><ul class=\"positions\"><li class=\"position\"><span class=\"position__title\">Lecturer</span>, <span class=\"position__group\">Management Information Systems</span></li></ul></div></div>\t</div><!-- .entry-content -->\n",
       "\t</div><div class=\"col-12 col-md-6 col-lg-4\">\t<div class=\"entry-content row mx-0 rounded bg-white p-4 shadow-lg h-100\">\n",
       "\t\t<div class=\"col-6 col-sm-4 mb-3 mb-sm-0\"><a class=\"entry-title\" href=\"https://www.terry.uga.edu/directory/gerald-c-kane/\"><img width=\"500\" height=\"500\" src=\"https://www.terry.uga.edu/wp-content/uploads/KaneLibrary_0-500x500.jpg\" class=\"profile-image rounded-circle img-fluid wp-post-image\" alt=\"Gerald C. Kane\" srcset=\"https://www.terry.uga.edu/wp-content/uploads/KaneLibrary_0-500x500.jpg 480w, https://www.terry.uga.edu/wp-content/uploads/KaneLibrary_0-500x500.jpg 640w, https://www.terry.uga.edu/wp-content/uploads/KaneLibrary_0-500x500.jpg 960w\" decoding=\"async\" /></a></div><div class=\"col-12 col-sm-8\"><a class=\"entry-title\" href=\"https://www.terry.uga.edu/directory/gerald-c-kane/\">Gerald C. Kane</a><div class=\"entry-body\"><ul class=\"positions\"><li class=\"position\"><span class=\"position__title\">Department Head, C. Herman and Mary Virginia Terry Chair of Business Administration and Professor</span>, <span class=\"position__group\">Management Information Systems</span></li></ul></div></div>\t</div><!-- .entry-content -->\n",
       "\t</div><div class=\"col-12 col-md-6 col-lg-4\">\t<div class=\"entry-content row mx-0 rounded bg-white p-4 shadow-lg h-100\">\n",
       "\t\t<div class=\"col-6 col-sm-4 mb-3 mb-sm-0\"><a class=\"entry-title\" href=\"https://www.terry.uga.edu/directory/elena-karahanna/\"><img width=\"500\" height=\"500\" src=\"https://www.terry.uga.edu/wp-content/uploads/karahanna_elena_2016-500x500.jpg\" class=\"profile-image rounded-circle img-fluid wp-post-image\" alt=\"Elena headshot\" srcset=\"https://www.terry.uga.edu/wp-content/uploads/karahanna_elena_2016-500x500.jpg 480w, https://www.terry.uga.edu/wp-content/uploads/karahanna_elena_2016-500x500.jpg 640w, https://www.terry.uga.edu/wp-content/uploads/karahanna_elena_2016-500x500.jpg 960w\" decoding=\"async\" /></a></div><div class=\"col-12 col-sm-8\"><a class=\"entry-title\" href=\"https://www.terry.uga.edu/directory/elena-karahanna/\">Elena Karahanna</a><div class=\"entry-body\"><ul class=\"positions\"><li class=\"position\"><span class=\"position__title\">C.Herman and Mary Virginia Terry Distinguished Chair of Business Administration, UGA Distinguished Research Professor and Professor</span>, <span class=\"position__group\">Management Information Systems</span></li></ul></div></div>\t</div><!-- .entry-content -->\n",
       "\t</div><div class=\"col-12 col-md-6 col-lg-4\">\t<div class=\"entry-content row mx-0 rounded bg-white p-4 shadow-lg h-100\">\n",
       "\t\t<div class=\"col-6 col-sm-4 mb-3 mb-sm-0\"><a class=\"entry-title\" href=\"https://www.terry.uga.edu/directory/akshat-lakhiwal/\"><img width=\"500\" height=\"500\" src=\"https://www.terry.uga.edu/wp-content/uploads/lakhiwal-akshat-2024-500x500.jpg\" class=\"profile-image rounded-circle img-fluid wp-post-image\" alt=\"Akshat Lakhiwal\" srcset=\"https://www.terry.uga.edu/wp-content/uploads/lakhiwal-akshat-2024-500x500.jpg 480w, https://www.terry.uga.edu/wp-content/uploads/lakhiwal-akshat-2024-500x500.jpg 640w, https://www.terry.uga.edu/wp-content/uploads/lakhiwal-akshat-2024-500x500.jpg 960w\" decoding=\"async\" /></a></div><div class=\"col-12 col-sm-8\"><a class=\"entry-title\" href=\"https://www.terry.uga.edu/directory/akshat-lakhiwal/\">Akshat Lakhiwal</a><div class=\"entry-body\"><ul class=\"positions\"><li class=\"position\"><span class=\"position__title\">Assistant Professor</span>, <span class=\"position__group\">Management Information Systems</span></li></ul></div></div>\t</div><!-- .entry-content -->\n",
       "\t</div><div class=\"col-12 col-md-6 col-lg-4\">\t<div class=\"entry-content row mx-0 rounded bg-white p-4 shadow-lg h-100\">\n",
       "\t\t<div class=\"col-6 col-sm-4 mb-3 mb-sm-0\"><a class=\"entry-title\" href=\"https://www.terry.uga.edu/directory/weifeng-li/\"><img width=\"500\" height=\"500\" src=\"https://www.terry.uga.edu/wp-content/uploads/li_weifeng_2017-500x500.jpg\" class=\"profile-image rounded-circle img-fluid wp-post-image\" alt=\"Weifeng headshot\" srcset=\"https://www.terry.uga.edu/wp-content/uploads/li_weifeng_2017-500x500.jpg 480w, https://www.terry.uga.edu/wp-content/uploads/li_weifeng_2017-500x500.jpg 640w, https://www.terry.uga.edu/wp-content/uploads/li_weifeng_2017-500x500.jpg 960w\" decoding=\"async\" /></a></div><div class=\"col-12 col-sm-8\"><a class=\"entry-title\" href=\"https://www.terry.uga.edu/directory/weifeng-li/\">Weifeng Li</a><div class=\"entry-body\"><ul class=\"positions\"><li class=\"position\"><span class=\"position__title\">Assistant Professor</span>, <span class=\"position__group\">Management Information Systems</span></li></ul></div></div>\t</div><!-- .entry-content -->\n",
       "\t</div><div class=\"col-12 col-md-6 col-lg-4\">\t<div class=\"entry-content row mx-0 rounded bg-white p-4 shadow-lg h-100\">\n",
       "\t\t<div class=\"col-6 col-sm-4 mb-3 mb-sm-0\"><a class=\"entry-title\" href=\"https://www.terry.uga.edu/directory/john-martin/\"><img src=\"https://www.terry.uga.edu/wp-content/themes/terry/src/img/user-icon.png\" class=\"profile-image rounded-circle img-fluid\" alt=\"user icon\" /></a></div><div class=\"col-12 col-sm-8\"><a class=\"entry-title\" href=\"https://www.terry.uga.edu/directory/john-martin/\">John Martin</a><div class=\"entry-body\"><ul class=\"positions\"><li class=\"position\"><span class=\"position__title\">Adjunct Lecturer</span>, <span class=\"position__group\">Management Information Systems</span></li></ul></div></div>\t</div><!-- .entry-content -->\n",
       "\t</div><div class=\"col-12 col-md-6 col-lg-4\">\t<div class=\"entry-content row mx-0 rounded bg-white p-4 shadow-lg h-100\">\n",
       "\t\t<div class=\"col-6 col-sm-4 mb-3 mb-sm-0\"><a class=\"entry-title\" href=\"https://www.terry.uga.edu/directory/andrew-s-miller/\"><img width=\"500\" height=\"500\" src=\"https://www.terry.uga.edu/wp-content/uploads/Andrew-Miller-UGA-Headshot-2022-500x500.jpg\" class=\"profile-image rounded-circle img-fluid wp-post-image\" alt=\"Headshot of Andrew S. Miller\" srcset=\"https://www.terry.uga.edu/wp-content/uploads/Andrew-Miller-UGA-Headshot-2022-500x500.jpg 480w, https://www.terry.uga.edu/wp-content/uploads/Andrew-Miller-UGA-Headshot-2022-500x500.jpg 640w, https://www.terry.uga.edu/wp-content/uploads/Andrew-Miller-UGA-Headshot-2022-500x500.jpg 960w\" decoding=\"async\" /></a></div><div class=\"col-12 col-sm-8\"><a class=\"entry-title\" href=\"https://www.terry.uga.edu/directory/andrew-s-miller/\">Andrew S. Miller</a><div class=\"entry-body\"><ul class=\"positions\"><li class=\"position\"><span class=\"position__title\">Lecturer</span>, <span class=\"position__group\">Management Information Systems</span></li></ul></div></div>\t</div><!-- .entry-content -->\n",
       "\t</div><div class=\"col-12 col-md-6 col-lg-4\">\t<div class=\"entry-content row mx-0 rounded bg-white p-4 shadow-lg h-100\">\n",
       "\t\t<div class=\"col-6 col-sm-4 mb-3 mb-sm-0\"><a class=\"entry-title\" href=\"https://www.terry.uga.edu/directory/jiyong-park/\"><img width=\"500\" height=\"500\" src=\"https://www.terry.uga.edu/wp-content/uploads/Park-Jiyong-500x500.jpg\" class=\"profile-image rounded-circle img-fluid wp-post-image\" alt=\"Jiyong Park is an assistant professor at UGA&#039;s Terry College of Business\" srcset=\"https://www.terry.uga.edu/wp-content/uploads/Park-Jiyong-500x500.jpg 480w, https://www.terry.uga.edu/wp-content/uploads/Park-Jiyong-500x500.jpg 640w, https://www.terry.uga.edu/wp-content/uploads/Park-Jiyong-500x500.jpg 960w\" decoding=\"async\" /></a></div><div class=\"col-12 col-sm-8\"><a class=\"entry-title\" href=\"https://www.terry.uga.edu/directory/jiyong-park/\">Jiyong Park</a><div class=\"entry-body\"><ul class=\"positions\"><li class=\"position\"><span class=\"position__title\">Assistant Professor</span>, <span class=\"position__group\">Management Information Systems</span></li></ul></div></div>\t</div><!-- .entry-content -->\n",
       "\t</div><div class=\"col-12 col-md-6 col-lg-4\">\t<div class=\"entry-content row mx-0 rounded bg-white p-4 shadow-lg h-100\">\n",
       "\t\t<div class=\"col-6 col-sm-4 mb-3 mb-sm-0\"><a class=\"entry-title\" href=\"https://www.terry.uga.edu/directory/craig-allan-piercy/\"><img width=\"500\" height=\"500\" src=\"https://www.terry.uga.edu/wp-content/uploads/piercy_craig_2018-500x500.jpg\" class=\"profile-image rounded-circle img-fluid wp-post-image\" alt=\"Craig headshot\" srcset=\"https://www.terry.uga.edu/wp-content/uploads/piercy_craig_2018-500x500.jpg 480w, https://www.terry.uga.edu/wp-content/uploads/piercy_craig_2018-500x500.jpg 640w, https://www.terry.uga.edu/wp-content/uploads/piercy_craig_2018-500x500.jpg 960w\" decoding=\"async\" /></a></div><div class=\"col-12 col-sm-8\"><a class=\"entry-title\" href=\"https://www.terry.uga.edu/directory/craig-allan-piercy/\">Craig Allan Piercy</a><div class=\"entry-body\"><ul class=\"positions\"><li class=\"position\"><span class=\"position__title\">Director</span>, <span class=\"position__group\">Master of Business and Technology</span></li><li class=\"position\"><span class=\"position__title\">Principal Lecturer</span>, <span class=\"position__group\">Master of Business and Technology, Management Information Systems</span></li></ul></div></div>\t</div><!-- .entry-content -->\n",
       "\t</div><div class=\"col-12 col-md-6 col-lg-4\">\t<div class=\"entry-content row mx-0 rounded bg-white p-4 shadow-lg h-100\">\n",
       "\t\t<div class=\"col-6 col-sm-4 mb-3 mb-sm-0\"><a class=\"entry-title\" href=\"https://www.terry.uga.edu/directory/john-rios/\"><img width=\"500\" height=\"500\" src=\"https://www.terry.uga.edu/wp-content/uploads/rios_john_2021-500x500.jpg\" class=\"profile-image rounded-circle img-fluid wp-post-image\" alt=\"John headshot\" srcset=\"https://www.terry.uga.edu/wp-content/uploads/rios_john_2021-500x500.jpg 480w, https://www.terry.uga.edu/wp-content/uploads/rios_john_2021-500x500.jpg 640w, https://www.terry.uga.edu/wp-content/uploads/rios_john_2021-500x500.jpg 960w\" decoding=\"async\" /></a></div><div class=\"col-12 col-sm-8\"><a class=\"entry-title\" href=\"https://www.terry.uga.edu/directory/john-rios/\">John Rios</a><div class=\"entry-body\"><ul class=\"positions\"><li class=\"position\"><span class=\"position__title\">Lecturer</span>, <span class=\"position__group\">Management Information Systems</span></li></ul></div></div>\t</div><!-- .entry-content -->\n",
       "\t</div><div class=\"col-12 col-md-6 col-lg-4\">\t<div class=\"entry-content row mx-0 rounded bg-white p-4 shadow-lg h-100\">\n",
       "\t\t<div class=\"col-6 col-sm-4 mb-3 mb-sm-0\"><a class=\"entry-title\" href=\"https://www.terry.uga.edu/directory/john-david-rusk/\"><img width=\"500\" height=\"500\" src=\"https://www.terry.uga.edu/wp-content/uploads/rusk-john-david-2024-500x500.jpg\" class=\"profile-image rounded-circle img-fluid wp-post-image\" alt=\"John David Rusk\" srcset=\"https://www.terry.uga.edu/wp-content/uploads/rusk-john-david-2024-500x500.jpg 480w, https://www.terry.uga.edu/wp-content/uploads/rusk-john-david-2024-500x500.jpg 640w, https://www.terry.uga.edu/wp-content/uploads/rusk-john-david-2024-500x500.jpg 960w\" decoding=\"async\" /></a></div><div class=\"col-12 col-sm-8\"><a class=\"entry-title\" href=\"https://www.terry.uga.edu/directory/john-david-rusk/\">John David Rusk</a><div class=\"entry-body\"><ul class=\"positions\"><li class=\"position\"><span class=\"position__title\">Lecturer</span>, <span class=\"position__group\">Management Information Systems</span></li></ul></div></div>\t</div><!-- .entry-content -->\n",
       "\t</div><div class=\"col-12 col-md-6 col-lg-4\">\t<div class=\"entry-content row mx-0 rounded bg-white p-4 shadow-lg h-100\">\n",
       "\t\t<div class=\"col-6 col-sm-4 mb-3 mb-sm-0\"><a class=\"entry-title\" href=\"https://www.terry.uga.edu/directory/hani-safadi/\"><img width=\"500\" height=\"500\" src=\"https://www.terry.uga.edu/wp-content/uploads/Safadi-Hani-1.jpg\" class=\"profile-image rounded-circle img-fluid wp-post-image\" alt=\"Head shot of Hani Safadi\" srcset=\"https://www.terry.uga.edu/wp-content/uploads/Safadi-Hani-1.jpg 480w, https://www.terry.uga.edu/wp-content/uploads/Safadi-Hani-1.jpg 640w, https://www.terry.uga.edu/wp-content/uploads/Safadi-Hani-1.jpg 960w\" decoding=\"async\" /></a></div><div class=\"col-12 col-sm-8\"><a class=\"entry-title\" href=\"https://www.terry.uga.edu/directory/hani-safadi/\">Hani Safadi</a><div class=\"entry-body\"><ul class=\"positions\"><li class=\"position\"><span class=\"position__title\">Associate Professor</span>, <span class=\"position__group\">Management Information Systems</span></li></ul></div></div>\t</div><!-- .entry-content -->\n",
       "\t</div><div class=\"col-12 col-md-6 col-lg-4\">\t<div class=\"entry-content row mx-0 rounded bg-white p-4 shadow-lg h-100\">\n",
       "\t\t<div class=\"col-6 col-sm-4 mb-3 mb-sm-0\"><a class=\"entry-title\" href=\"https://www.terry.uga.edu/directory/terence-saldanha/\"><img width=\"500\" height=\"500\" src=\"https://www.terry.uga.edu/wp-content/uploads/saldanha_terrence_2019-500x500.jpg\" class=\"profile-image rounded-circle img-fluid wp-post-image\" alt=\"Terence headshot\" srcset=\"https://www.terry.uga.edu/wp-content/uploads/saldanha_terrence_2019-500x500.jpg 480w, https://www.terry.uga.edu/wp-content/uploads/saldanha_terrence_2019-500x500.jpg 640w, https://www.terry.uga.edu/wp-content/uploads/saldanha_terrence_2019-500x500.jpg 960w\" decoding=\"async\" /></a></div><div class=\"col-12 col-sm-8\"><a class=\"entry-title\" href=\"https://www.terry.uga.edu/directory/terence-saldanha/\">Terence Saldanha</a><div class=\"entry-body\"><ul class=\"positions\"><li class=\"position\"><span class=\"position__title\">Becky and Howard Young Distinguished Professor and Associate Professor</span>, <span class=\"position__group\">Management Information Systems</span></li></ul></div></div>\t</div><!-- .entry-content -->\n",
       "\t</div><div class=\"col-12 col-md-6 col-lg-4\">\t<div class=\"entry-content row mx-0 rounded bg-white p-4 shadow-lg h-100\">\n",
       "\t\t<div class=\"col-6 col-sm-4 mb-3 mb-sm-0\"><a class=\"entry-title\" href=\"https://www.terry.uga.edu/directory/carolina-alves-de-lima-salge/\"><img width=\"500\" height=\"500\" src=\"https://www.terry.uga.edu/wp-content/uploads/salge2-3_2-500x500.jpg\" class=\"profile-image rounded-circle img-fluid wp-post-image\" alt=\"photo\" srcset=\"https://www.terry.uga.edu/wp-content/uploads/salge2-3_2-500x500.jpg 480w, https://www.terry.uga.edu/wp-content/uploads/salge2-3_2-500x500.jpg 640w, https://www.terry.uga.edu/wp-content/uploads/salge2-3_2-500x500.jpg 960w\" decoding=\"async\" /></a></div><div class=\"col-12 col-sm-8\"><a class=\"entry-title\" href=\"https://www.terry.uga.edu/directory/carolina-alves-de-lima-salge/\">Carolina Alves de Lima Salge</a><div class=\"entry-body\"><ul class=\"positions\"><li class=\"position\"><span class=\"position__title\">Assistant Professor</span>, <span class=\"position__group\">Management Information Systems</span></li></ul></div></div>\t</div><!-- .entry-content -->\n",
       "\t</div><div class=\"col-12 col-md-6 col-lg-4\">\t<div class=\"entry-content row mx-0 rounded bg-white p-4 shadow-lg h-100\">\n",
       "\t\t<div class=\"col-6 col-sm-4 mb-3 mb-sm-0\"><a class=\"entry-title\" href=\"https://www.terry.uga.edu/directory/aaron-schecter/\"><img width=\"500\" height=\"500\" src=\"https://www.terry.uga.edu/wp-content/uploads/Schecter-Aaron.jpg\" class=\"profile-image rounded-circle img-fluid wp-post-image\" alt=\"Headshot of Aaron Schecter\" srcset=\"https://www.terry.uga.edu/wp-content/uploads/Schecter-Aaron.jpg 480w, https://www.terry.uga.edu/wp-content/uploads/Schecter-Aaron.jpg 640w, https://www.terry.uga.edu/wp-content/uploads/Schecter-Aaron.jpg 960w\" decoding=\"async\" /></a></div><div class=\"col-12 col-sm-8\"><a class=\"entry-title\" href=\"https://www.terry.uga.edu/directory/aaron-schecter/\">Aaron Schecter</a><div class=\"entry-body\"><ul class=\"positions\"><li class=\"position\"><span class=\"position__title\">Assistant Professor</span>, <span class=\"position__group\">Management Information Systems</span></li></ul></div></div>\t</div><!-- .entry-content -->\n",
       "\t</div><div class=\"col-12 col-md-6 col-lg-4\">\t<div class=\"entry-content row mx-0 rounded bg-white p-4 shadow-lg h-100\">\n",
       "\t\t<div class=\"col-6 col-sm-4 mb-3 mb-sm-0\"><a class=\"entry-title\" href=\"https://www.terry.uga.edu/directory/abdul-sesay/\"><img width=\"500\" height=\"500\" src=\"https://www.terry.uga.edu/wp-content/uploads/20211015_MIST_012.jpg\" class=\"profile-image rounded-circle img-fluid wp-post-image\" alt=\"MIST Faculty and PhD student photos in the Foley Courtyard on Friday\" srcset=\"https://www.terry.uga.edu/wp-content/uploads/20211015_MIST_012.jpg 480w, https://www.terry.uga.edu/wp-content/uploads/20211015_MIST_012.jpg 640w, https://www.terry.uga.edu/wp-content/uploads/20211015_MIST_012.jpg 960w\" decoding=\"async\" /></a></div><div class=\"col-12 col-sm-8\"><a class=\"entry-title\" href=\"https://www.terry.uga.edu/directory/abdul-sesay/\">Abdul Sesay</a><div class=\"entry-body\"><ul class=\"positions\"><li class=\"position\"><span class=\"position__title\">Assistant Professor</span>, <span class=\"position__group\">Management Information Systems</span></li></ul></div></div>\t</div><!-- .entry-content -->\n",
       "\t</div><div class=\"col-12 col-md-6 col-lg-4\">\t<div class=\"entry-content row mx-0 rounded bg-white p-4 shadow-lg h-100\">\n",
       "\t\t<div class=\"col-6 col-sm-4 mb-3 mb-sm-0\"><a class=\"entry-title\" href=\"https://www.terry.uga.edu/directory/nikhil-srinivasan/\"><img width=\"500\" height=\"500\" src=\"https://www.terry.uga.edu/wp-content/uploads/Srinivasan-Nikhil-500x500.jpg\" class=\"profile-image rounded-circle img-fluid wp-post-image\" alt=\"Nikhil Srinivasan picture\" srcset=\"https://www.terry.uga.edu/wp-content/uploads/Srinivasan-Nikhil-500x500.jpg 480w, https://www.terry.uga.edu/wp-content/uploads/Srinivasan-Nikhil-500x500.jpg 640w, https://www.terry.uga.edu/wp-content/uploads/Srinivasan-Nikhil-500x500.jpg 960w\" decoding=\"async\" /></a></div><div class=\"col-12 col-sm-8\"><a class=\"entry-title\" href=\"https://www.terry.uga.edu/directory/nikhil-srinivasan/\">Nikhil Srinivasan</a><div class=\"entry-body\"><ul class=\"positions\"><li class=\"position\"><span class=\"position__title\">Senior Lecturer</span>, <span class=\"position__group\">Management Information Systems</span></li></ul></div></div>\t</div><!-- .entry-content -->\n",
       "\t</div><div class=\"col-12 col-md-6 col-lg-4\">\t<div class=\"entry-content row mx-0 rounded bg-white p-4 shadow-lg h-100\">\n",
       "\t\t<div class=\"col-6 col-sm-4 mb-3 mb-sm-0\"><a class=\"entry-title\" href=\"https://www.terry.uga.edu/directory/amrit-tiwana/\"><img width=\"500\" height=\"500\" src=\"https://www.terry.uga.edu/wp-content/uploads/Tiwana-Amrit-500x500.jpg\" class=\"profile-image rounded-circle img-fluid wp-post-image\" alt=\"Headshot of AMRIT TIWANA\" srcset=\"https://www.terry.uga.edu/wp-content/uploads/Tiwana-Amrit-500x500.jpg 480w, https://www.terry.uga.edu/wp-content/uploads/Tiwana-Amrit-500x500.jpg 640w, https://www.terry.uga.edu/wp-content/uploads/Tiwana-Amrit-500x500.jpg 960w\" decoding=\"async\" /></a></div><div class=\"col-12 col-sm-8\"><a class=\"entry-title\" href=\"https://www.terry.uga.edu/directory/amrit-tiwana/\">Amrit Tiwana</a><div class=\"entry-body\"><ul class=\"positions\"><li class=\"position\"><span class=\"position__title\">J. Rex Fuqua Distinguished Chair for Internet Strategy and Professor</span>, <span class=\"position__group\">Management Information Systems</span></li></ul></div></div>\t</div><!-- .entry-content -->\n",
       "\t</div><div class=\"col-12 col-md-6 col-lg-4\">\t<div class=\"entry-content row mx-0 rounded bg-white p-4 shadow-lg h-100\">\n",
       "\t\t<div class=\"col-6 col-sm-4 mb-3 mb-sm-0\"><a class=\"entry-title\" href=\"https://www.terry.uga.edu/directory/robert-trotter/\"><img width=\"500\" height=\"500\" src=\"https://www.terry.uga.edu/wp-content/uploads/Trotter-Bob_01_1.jpg\" class=\"profile-image rounded-circle img-fluid wp-post-image\" alt=\"Headshot of Robert Trotter\" srcset=\"https://www.terry.uga.edu/wp-content/uploads/Trotter-Bob_01_1.jpg 480w, https://www.terry.uga.edu/wp-content/uploads/Trotter-Bob_01_1.jpg 640w, https://www.terry.uga.edu/wp-content/uploads/Trotter-Bob_01_1.jpg 960w\" decoding=\"async\" /></a></div><div class=\"col-12 col-sm-8\"><a class=\"entry-title\" href=\"https://www.terry.uga.edu/directory/robert-trotter/\">Robert Trotter</a><div class=\"entry-body\"><ul class=\"positions\"><li class=\"position\"><span class=\"position__title\">Part-Time Lecturer, FinTech Certificate Program</span>, <span class=\"position__group\">Management Information Systems</span></li></ul></div></div>\t</div><!-- .entry-content -->\n",
       "\t</div><div class=\"col-12 col-md-6 col-lg-4\">\t<div class=\"entry-content row mx-0 rounded bg-white p-4 shadow-lg h-100\">\n",
       "\t\t<div class=\"col-6 col-sm-4 mb-3 mb-sm-0\"><a class=\"entry-title\" href=\"https://www.terry.uga.edu/directory/hugh-james-watson/\"><img width=\"400\" height=\"400\" src=\"https://www.terry.uga.edu/wp-content/uploads/watson-hugh.jpg\" class=\"profile-image rounded-circle img-fluid wp-post-image\" alt=\"Headshot of Hugh Watson\" srcset=\"https://www.terry.uga.edu/wp-content/uploads/watson-hugh.jpg 480w, https://www.terry.uga.edu/wp-content/uploads/watson-hugh.jpg 640w, https://www.terry.uga.edu/wp-content/uploads/watson-hugh.jpg 960w\" decoding=\"async\" /></a></div><div class=\"col-12 col-sm-8\"><a class=\"entry-title\" href=\"https://www.terry.uga.edu/directory/hugh-james-watson/\">Hugh James Watson</a><div class=\"entry-body\"><ul class=\"positions\"><li class=\"position\"><span class=\"position__title\">Professor</span>, <span class=\"position__group\">Management Information Systems</span></li></ul></div></div>\t</div><!-- .entry-content -->\n",
       "\t</div><div class=\"col-12 col-md-6 col-lg-4\">\t<div class=\"entry-content row mx-0 rounded bg-white p-4 shadow-lg h-100\">\n",
       "\t\t<div class=\"col-6 col-sm-4 mb-3 mb-sm-0\"><a class=\"entry-title\" href=\"https://www.terry.uga.edu/directory/ling-xue/\"><img width=\"500\" height=\"500\" src=\"https://www.terry.uga.edu/wp-content/uploads/Xue-Ling-500x500.jpg\" class=\"profile-image rounded-circle img-fluid wp-post-image\" alt=\"Ling Xue\" srcset=\"https://www.terry.uga.edu/wp-content/uploads/Xue-Ling-500x500.jpg 480w, https://www.terry.uga.edu/wp-content/uploads/Xue-Ling-500x500.jpg 640w, https://www.terry.uga.edu/wp-content/uploads/Xue-Ling-500x500.jpg 960w\" decoding=\"async\" /></a></div><div class=\"col-12 col-sm-8\"><a class=\"entry-title\" href=\"https://www.terry.uga.edu/directory/ling-xue/\">Ling Xue</a><div class=\"entry-body\"><ul class=\"positions\"><li class=\"position\"><span class=\"position__title\">Associate Professor</span>, <span class=\"position__group\">Management Information Systems</span></li><li class=\"position\"><span class=\"position__title\">Terry Alumni Board Distinguished Associate Professor</span>, <span class=\"position__group\">Management Information Systems</span></li></ul></div></div>\t</div><!-- .entry-content -->\n",
       "\t</div><div class=\"col-12 col-md-6 col-lg-4\">\t<div class=\"entry-content row mx-0 rounded bg-white p-4 shadow-lg h-100\">\n",
       "\t\t<div class=\"col-6 col-sm-4 mb-3 mb-sm-0\"><a class=\"entry-title\" href=\"https://www.terry.uga.edu/directory/hannah-zenas/\"><img src=\"https://www.terry.uga.edu/wp-content/themes/terry/src/img/user-icon.png\" class=\"profile-image rounded-circle img-fluid\" alt=\"user icon\" /></a></div><div class=\"col-12 col-sm-8\"><a class=\"entry-title\" href=\"https://www.terry.uga.edu/directory/hannah-zenas/\">Hannah Zenas</a><div class=\"entry-body\"><ul class=\"positions\"><li class=\"position\"><span class=\"position__title\">Part-Time Lecturer</span>, <span class=\"position__group\">Management Information Systems</span></li></ul></div></div>\t</div><!-- .entry-content -->\n",
       "\t</div><div class=\"col-12 col-md-6 col-lg-4\">\t<div class=\"entry-content row mx-0 rounded bg-white p-4 shadow-lg h-100\">\n",
       "\t\t<div class=\"col-6 col-sm-4 mb-3 mb-sm-0\"><a class=\"entry-title\" href=\"https://www.terry.uga.edu/directory/xia-zhao/\"><img width=\"500\" height=\"500\" src=\"https://www.terry.uga.edu/wp-content/uploads/Zhao-Xia-500x500.jpg\" class=\"profile-image rounded-circle img-fluid wp-post-image\" alt=\"Xia Zhao is an associate professor at UGA&#039;s Terry College of Business\" srcset=\"https://www.terry.uga.edu/wp-content/uploads/Zhao-Xia-500x500.jpg 480w, https://www.terry.uga.edu/wp-content/uploads/Zhao-Xia-500x500.jpg 640w, https://www.terry.uga.edu/wp-content/uploads/Zhao-Xia-500x500.jpg 960w\" decoding=\"async\" /></a></div><div class=\"col-12 col-sm-8\"><a class=\"entry-title\" href=\"https://www.terry.uga.edu/directory/xia-zhao/\">Xia Zhao</a><div class=\"entry-body\"><ul class=\"positions\"><li class=\"position\"><span class=\"position__title\">Associate Professor</span>, <span class=\"position__group\">Management Information Systems</span></li></ul></div></div>\t</div><!-- .entry-content -->\n",
       "\t</div></div><h2>Emeritus Faculty</h2><div class=\"row gx-4 gy-4 mb-5 align-items-stretch\"><div class=\"col-12 col-md-6 col-lg-4\">\t<div class=\"entry-content row mx-0 rounded bg-white p-4 shadow-lg h-100\">\n",
       "\t\t<div class=\"col-6 col-sm-4 mb-3 mb-sm-0\"><a class=\"entry-title\" href=\"https://www.terry.uga.edu/directory/robert-bob-bostrom/\"><img width=\"500\" height=\"500\" src=\"https://www.terry.uga.edu/wp-content/uploads/Bob_Bostrom-500x500.jpg\" class=\"profile-image rounded-circle img-fluid wp-post-image\" alt=\"Headshot of ROBERT (BOB) BOSTROM\" srcset=\"https://www.terry.uga.edu/wp-content/uploads/Bob_Bostrom-500x500.jpg 480w, https://www.terry.uga.edu/wp-content/uploads/Bob_Bostrom-500x500.jpg 640w, https://www.terry.uga.edu/wp-content/uploads/Bob_Bostrom-500x500.jpg 960w\" decoding=\"async\" /></a></div><div class=\"col-12 col-sm-8\"><a class=\"entry-title\" href=\"https://www.terry.uga.edu/directory/robert-bob-bostrom/\">Robert (Bob) Bostrom</a><div class=\"entry-body\"><ul class=\"positions\"><li class=\"position\"><span class=\"position__title\">Professor Emeritus</span>, <span class=\"position__group\">Management Information Systems</span></li></ul></div></div>\t</div><!-- .entry-content -->\n",
       "\t</div><div class=\"col-12 col-md-6 col-lg-4\">\t<div class=\"entry-content row mx-0 rounded bg-white p-4 shadow-lg h-100\">\n",
       "\t\t<div class=\"col-6 col-sm-4 mb-3 mb-sm-0\"><a class=\"entry-title\" href=\"https://www.terry.uga.edu/directory/dale-louis-goodhue/\"><img width=\"500\" height=\"500\" src=\"https://www.terry.uga.edu/wp-content/uploads/Dale_Goodhue-500x500.jpg\" class=\"profile-image rounded-circle img-fluid wp-post-image\" alt=\"Headshot of DALE LOUIS GOODHUE\" srcset=\"https://www.terry.uga.edu/wp-content/uploads/Dale_Goodhue-500x500.jpg 480w, https://www.terry.uga.edu/wp-content/uploads/Dale_Goodhue-500x500.jpg 640w, https://www.terry.uga.edu/wp-content/uploads/Dale_Goodhue-500x500.jpg 960w\" decoding=\"async\" /></a></div><div class=\"col-12 col-sm-8\"><a class=\"entry-title\" href=\"https://www.terry.uga.edu/directory/dale-louis-goodhue/\">Dale Louis Goodhue</a><div class=\"entry-body\"><ul class=\"positions\"><li class=\"position\"><span class=\"position__title\">Professor Emeritus</span>, <span class=\"position__group\">Management Information Systems</span></li></ul></div></div>\t</div><!-- .entry-content -->\n",
       "\t</div><div class=\"col-12 col-md-6 col-lg-4\">\t<div class=\"entry-content row mx-0 rounded bg-white p-4 shadow-lg h-100\">\n",
       "\t\t<div class=\"col-6 col-sm-4 mb-3 mb-sm-0\"><a class=\"entry-title\" href=\"https://www.terry.uga.edu/directory/patrick-mckeown/\"><img width=\"500\" height=\"500\" src=\"https://www.terry.uga.edu/wp-content/uploads/McKeown-P-500x500.jpg\" class=\"profile-image rounded-circle img-fluid wp-post-image\" alt=\"Headshot of PATRICK MCKEOWN\" srcset=\"https://www.terry.uga.edu/wp-content/uploads/McKeown-P-500x500.jpg 480w, https://www.terry.uga.edu/wp-content/uploads/McKeown-P-500x500.jpg 640w, https://www.terry.uga.edu/wp-content/uploads/McKeown-P-500x500.jpg 960w\" decoding=\"async\" /></a></div><div class=\"col-12 col-sm-8\"><a class=\"entry-title\" href=\"https://www.terry.uga.edu/directory/patrick-mckeown/\">Patrick McKeown</a><div class=\"entry-body\"><ul class=\"positions\"><li class=\"position\"><span class=\"position__title\">Professor Emeritus</span>, <span class=\"position__group\">Management Information Systems</span></li></ul></div></div>\t</div><!-- .entry-content -->\n",
       "\t</div></div><h2>PhD Students</h2><div class=\"row gx-4 gy-4 mb-5 align-items-stretch\"><div class=\"col-12 col-md-6 col-lg-4\">\t<div class=\"entry-content row mx-0 rounded bg-white p-4 shadow-lg h-100\">\n",
       "\t\t<div class=\"col-6 col-sm-4 mb-3 mb-sm-0\"><a class=\"entry-title\" href=\"https://www.terry.uga.edu/directory/hossein-arjmandi/\"><img width=\"500\" height=\"500\" src=\"https://www.terry.uga.edu/wp-content/uploads/Untitled1-500x500.jpg\" class=\"profile-image rounded-circle img-fluid wp-post-image\" alt=\"Hossein&#039;s Headshot\" srcset=\"https://www.terry.uga.edu/wp-content/uploads/Untitled1-500x500.jpg 480w, https://www.terry.uga.edu/wp-content/uploads/Untitled1-500x500.jpg 640w, https://www.terry.uga.edu/wp-content/uploads/Untitled1-500x500.jpg 960w\" decoding=\"async\" /></a></div><div class=\"col-12 col-sm-8\"><a class=\"entry-title\" href=\"https://www.terry.uga.edu/directory/hossein-arjmandi/\">Hossein Arjmandi</a><div class=\"entry-body\"><ul class=\"positions\"><li class=\"position\"><span class=\"position__title\">Doctoral Student</span>, <span class=\"position__group\">Management Information Systems</span></li></ul></div></div>\t</div><!-- .entry-content -->\n",
       "\t</div><div class=\"col-12 col-md-6 col-lg-4\">\t<div class=\"entry-content row mx-0 rounded bg-white p-4 shadow-lg h-100\">\n",
       "\t\t<div class=\"col-6 col-sm-4 mb-3 mb-sm-0\"><a class=\"entry-title\" href=\"https://www.terry.uga.edu/directory/tianwen-du/\"><img width=\"500\" height=\"500\" src=\"https://www.terry.uga.edu/wp-content/uploads/Du-Tianwen-500x500.jpg\" class=\"profile-image rounded-circle img-fluid wp-post-image\" alt=\"Tianwen Du\" srcset=\"https://www.terry.uga.edu/wp-content/uploads/Du-Tianwen-500x500.jpg 480w, https://www.terry.uga.edu/wp-content/uploads/Du-Tianwen-500x500.jpg 640w, https://www.terry.uga.edu/wp-content/uploads/Du-Tianwen-500x500.jpg 960w\" decoding=\"async\" /></a></div><div class=\"col-12 col-sm-8\"><a class=\"entry-title\" href=\"https://www.terry.uga.edu/directory/tianwen-du/\">Tianwen Du</a><div class=\"entry-body\"><ul class=\"positions\"><li class=\"position\"><span class=\"position__title\">Doctoral Student</span>, <span class=\"position__group\">Management Information Systems</span></li></ul></div></div>\t</div><!-- .entry-content -->\n",
       "\t</div><div class=\"col-12 col-md-6 col-lg-4\">\t<div class=\"entry-content row mx-0 rounded bg-white p-4 shadow-lg h-100\">\n",
       "\t\t<div class=\"col-6 col-sm-4 mb-3 mb-sm-0\"><a class=\"entry-title\" href=\"https://www.terry.uga.edu/directory/rachel-kim/\"><img width=\"500\" height=\"500\" src=\"https://www.terry.uga.edu/wp-content/uploads/KakaoTalk_Photo_2023-01-17-14-51-51-500x500.jpeg\" class=\"profile-image rounded-circle img-fluid wp-post-image\" alt=\"Rachel Kim (MIS)\" srcset=\"https://www.terry.uga.edu/wp-content/uploads/KakaoTalk_Photo_2023-01-17-14-51-51-500x500.jpeg 480w, https://www.terry.uga.edu/wp-content/uploads/KakaoTalk_Photo_2023-01-17-14-51-51-500x500.jpeg 640w, https://www.terry.uga.edu/wp-content/uploads/KakaoTalk_Photo_2023-01-17-14-51-51-500x500.jpeg 960w\" decoding=\"async\" /></a></div><div class=\"col-12 col-sm-8\"><a class=\"entry-title\" href=\"https://www.terry.uga.edu/directory/rachel-kim/\">Rachel Kim</a><div class=\"entry-body\"><ul class=\"positions\"><li class=\"position\"><span class=\"position__title\">Doctoral Student</span>, <span class=\"position__group\">Management Information Systems</span></li></ul></div></div>\t</div><!-- .entry-content -->\n",
       "\t</div><div class=\"col-12 col-md-6 col-lg-4\">\t<div class=\"entry-content row mx-0 rounded bg-white p-4 shadow-lg h-100\">\n",
       "\t\t<div class=\"col-6 col-sm-4 mb-3 mb-sm-0\"><a class=\"entry-title\" href=\"https://www.terry.uga.edu/directory/dadian-qu/\"><img width=\"500\" height=\"500\" src=\"https://www.terry.uga.edu/wp-content/uploads/Qu-Dadian-500x500.jpg\" class=\"profile-image rounded-circle img-fluid wp-post-image\" alt=\"Dadian Qu\" srcset=\"https://www.terry.uga.edu/wp-content/uploads/Qu-Dadian-500x500.jpg 480w, https://www.terry.uga.edu/wp-content/uploads/Qu-Dadian-500x500.jpg 640w, https://www.terry.uga.edu/wp-content/uploads/Qu-Dadian-500x500.jpg 960w\" decoding=\"async\" /></a></div><div class=\"col-12 col-sm-8\"><a class=\"entry-title\" href=\"https://www.terry.uga.edu/directory/dadian-qu/\">Dadian Qu</a><div class=\"entry-body\"><ul class=\"positions\"><li class=\"position\"><span class=\"position__title\">Doctoral Student</span>, <span class=\"position__group\">Management Information Systems</span></li></ul></div></div>\t</div><!-- .entry-content -->\n",
       "\t</div><div class=\"col-12 col-md-6 col-lg-4\">\t<div class=\"entry-content row mx-0 rounded bg-white p-4 shadow-lg h-100\">\n",
       "\t\t<div class=\"col-6 col-sm-4 mb-3 mb-sm-0\"><a class=\"entry-title\" href=\"https://www.terry.uga.edu/directory/michael-quigg/\"><img width=\"500\" height=\"500\" src=\"https://www.terry.uga.edu/wp-content/uploads/Quigg-Michael-500x500.jpg\" class=\"profile-image rounded-circle img-fluid wp-post-image\" alt=\"Head Shot Quigg\" srcset=\"https://www.terry.uga.edu/wp-content/uploads/Quigg-Michael-500x500.jpg 480w, https://www.terry.uga.edu/wp-content/uploads/Quigg-Michael-500x500.jpg 640w, https://www.terry.uga.edu/wp-content/uploads/Quigg-Michael-500x500.jpg 960w\" decoding=\"async\" /></a></div><div class=\"col-12 col-sm-8\"><a class=\"entry-title\" href=\"https://www.terry.uga.edu/directory/michael-quigg/\">Michael Quigg</a><div class=\"entry-body\"><ul class=\"positions\"><li class=\"position\"><span class=\"position__title\">Doctoral Student</span>, <span class=\"position__group\">Management Information Systems</span></li></ul></div></div>\t</div><!-- .entry-content -->\n",
       "\t</div><div class=\"col-12 col-md-6 col-lg-4\">\t<div class=\"entry-content row mx-0 rounded bg-white p-4 shadow-lg h-100\">\n",
       "\t\t<div class=\"col-6 col-sm-4 mb-3 mb-sm-0\"><a class=\"entry-title\" href=\"https://www.terry.uga.edu/directory/benjamin-richardson/\"><img width=\"500\" height=\"500\" src=\"https://www.terry.uga.edu/wp-content/uploads/Richardson-Benjamin-500x500.jpg\" class=\"profile-image rounded-circle img-fluid wp-post-image\" alt=\"Benjamin Richardson\" srcset=\"https://www.terry.uga.edu/wp-content/uploads/Richardson-Benjamin-500x500.jpg 480w, https://www.terry.uga.edu/wp-content/uploads/Richardson-Benjamin-500x500.jpg 640w, https://www.terry.uga.edu/wp-content/uploads/Richardson-Benjamin-500x500.jpg 960w\" decoding=\"async\" /></a></div><div class=\"col-12 col-sm-8\"><a class=\"entry-title\" href=\"https://www.terry.uga.edu/directory/benjamin-richardson/\">Benjamin Richardson</a><div class=\"entry-body\"><ul class=\"positions\"><li class=\"position\"><span class=\"position__title\">Doctoral Student</span>, <span class=\"position__group\">Management Information Systems</span></li></ul></div></div>\t</div><!-- .entry-content -->\n",
       "\t</div><div class=\"col-12 col-md-6 col-lg-4\">\t<div class=\"entry-content row mx-0 rounded bg-white p-4 shadow-lg h-100\">\n",
       "\t\t<div class=\"col-6 col-sm-4 mb-3 mb-sm-0\"><a class=\"entry-title\" href=\"https://www.terry.uga.edu/directory/yuanyuan-song/\"><img width=\"500\" height=\"500\" src=\"https://www.terry.uga.edu/wp-content/uploads/20211015_MIST_008_0-500x500.jpg\" class=\"profile-image rounded-circle img-fluid wp-post-image\" alt=\"Headshot of YUANYUAN SONG\" srcset=\"https://www.terry.uga.edu/wp-content/uploads/20211015_MIST_008_0-500x500.jpg 480w, https://www.terry.uga.edu/wp-content/uploads/20211015_MIST_008_0-500x500.jpg 640w, https://www.terry.uga.edu/wp-content/uploads/20211015_MIST_008_0-500x500.jpg 960w\" decoding=\"async\" /></a></div><div class=\"col-12 col-sm-8\"><a class=\"entry-title\" href=\"https://www.terry.uga.edu/directory/yuanyuan-song/\">Yuanyuan Song</a><div class=\"entry-body\"><ul class=\"positions\"><li class=\"position\"><span class=\"position__title\">Doctoral Student</span>, <span class=\"position__group\">Management Information Systems</span></li></ul></div></div>\t</div><!-- .entry-content -->\n",
       "\t</div></div><h2>Staff</h2><div class=\"row gx-4 gy-4 mb-5 align-items-stretch\"><div class=\"col-12 col-md-6 col-lg-4\">\t<div class=\"entry-content row mx-0 rounded bg-white p-4 shadow-lg h-100\">\n",
       "\t\t<div class=\"col-6 col-sm-4 mb-3 mb-sm-0\"><a class=\"entry-title\" href=\"https://www.terry.uga.edu/directory/becky-curry/\"><img width=\"500\" height=\"500\" src=\"https://www.terry.uga.edu/wp-content/uploads/curry_becky_2019-500x500.jpg\" class=\"profile-image rounded-circle img-fluid wp-post-image\" alt=\"Becky headshot\" srcset=\"https://www.terry.uga.edu/wp-content/uploads/curry_becky_2019-500x500.jpg 480w, https://www.terry.uga.edu/wp-content/uploads/curry_becky_2019-500x500.jpg 640w, https://www.terry.uga.edu/wp-content/uploads/curry_becky_2019-500x500.jpg 960w\" decoding=\"async\" /></a></div><div class=\"col-12 col-sm-8\"><a class=\"entry-title\" href=\"https://www.terry.uga.edu/directory/becky-curry/\">Becky Curry</a><div class=\"entry-body\"><ul class=\"positions\"><li class=\"position\"><span class=\"position__title\">Administrative Associate II</span>, <span class=\"position__group\">Management Information Systems</span></li></ul></div></div>\t</div><!-- .entry-content -->\n",
       "\t</div><div class=\"col-12 col-md-6 col-lg-4\">\t<div class=\"entry-content row mx-0 rounded bg-white p-4 shadow-lg h-100\">\n",
       "\t\t<div class=\"col-6 col-sm-4 mb-3 mb-sm-0\"><a class=\"entry-title\" href=\"https://www.terry.uga.edu/directory/katherine-evans/\"><img width=\"500\" height=\"500\" src=\"https://www.terry.uga.edu/wp-content/uploads/Evans-Katherine_crop.jpg\" class=\"profile-image rounded-circle img-fluid wp-post-image\" alt=\"Headshot of Katherine Evans\" srcset=\"https://www.terry.uga.edu/wp-content/uploads/Evans-Katherine_crop.jpg 480w, https://www.terry.uga.edu/wp-content/uploads/Evans-Katherine_crop.jpg 640w, https://www.terry.uga.edu/wp-content/uploads/Evans-Katherine_crop.jpg 960w\" decoding=\"async\" /></a></div><div class=\"col-12 col-sm-8\"><a class=\"entry-title\" href=\"https://www.terry.uga.edu/directory/katherine-evans/\">Katherine Evans</a><div class=\"entry-body\"><ul class=\"positions\"><li class=\"position\"><span class=\"position__title\">Department Advisor</span>, <span class=\"position__group\">Management Information Systems</span></li></ul></div></div>\t</div><!-- .entry-content -->\n",
       "\t</div><div class=\"col-12 col-md-6 col-lg-4\">\t<div class=\"entry-content row mx-0 rounded bg-white p-4 shadow-lg h-100\">\n",
       "\t\t<div class=\"col-6 col-sm-4 mb-3 mb-sm-0\"><a class=\"entry-title\" href=\"https://www.terry.uga.edu/directory/natassja-hatcher/\"><img width=\"500\" height=\"500\" src=\"https://www.terry.uga.edu/wp-content/uploads/20220104_hatcher_001-500x500.jpg\" class=\"profile-image rounded-circle img-fluid wp-post-image\" alt=\"Natassja Hatcher\" srcset=\"https://www.terry.uga.edu/wp-content/uploads/20220104_hatcher_001-500x500.jpg 480w, https://www.terry.uga.edu/wp-content/uploads/20220104_hatcher_001-500x500.jpg 640w, https://www.terry.uga.edu/wp-content/uploads/20220104_hatcher_001-500x500.jpg 960w\" decoding=\"async\" /></a></div><div class=\"col-12 col-sm-8\"><a class=\"entry-title\" href=\"https://www.terry.uga.edu/directory/natassja-hatcher/\">Natassja Hatcher</a><div class=\"entry-body\"><ul class=\"positions\"><li class=\"position\"><span class=\"position__title\">College Advisor</span>, <span class=\"position__group\">Undergraduate Program in Athens</span></li></ul></div></div>\t</div><!-- .entry-content -->\n",
       "\t</div><div class=\"col-12 col-md-6 col-lg-4\">\t<div class=\"entry-content row mx-0 rounded bg-white p-4 shadow-lg h-100\">\n",
       "\t\t<div class=\"col-6 col-sm-4 mb-3 mb-sm-0\"><a class=\"entry-title\" href=\"https://www.terry.uga.edu/directory/heather-posey-ware/\"><img width=\"500\" height=\"500\" src=\"https://www.terry.uga.edu/wp-content/uploads/Posey-Ware-Heather-500x500.jpg\" class=\"profile-image rounded-circle img-fluid wp-post-image\" alt=\"picture of heather posey-ware\" srcset=\"https://www.terry.uga.edu/wp-content/uploads/Posey-Ware-Heather-500x500.jpg 480w, https://www.terry.uga.edu/wp-content/uploads/Posey-Ware-Heather-500x500.jpg 640w, https://www.terry.uga.edu/wp-content/uploads/Posey-Ware-Heather-500x500.jpg 960w\" decoding=\"async\" /></a></div><div class=\"col-12 col-sm-8\"><a class=\"entry-title\" href=\"https://www.terry.uga.edu/directory/heather-posey-ware/\">Heather Posey-Ware</a><div class=\"entry-body\"><ul class=\"positions\"><li class=\"position\"><span class=\"position__title\">Student Affairs Professional</span>, <span class=\"position__group\">Management Information Systems, Master of Business and Technology</span></li></ul></div></div>\t</div><!-- .entry-content -->\n",
       "\t</div><div class=\"col-12 col-md-6 col-lg-4\">\t<div class=\"entry-content row mx-0 rounded bg-white p-4 shadow-lg h-100\">\n",
       "\t\t<div class=\"col-6 col-sm-4 mb-3 mb-sm-0\"><a class=\"entry-title\" href=\"https://www.terry.uga.edu/directory/heather-roberts/\"><img width=\"500\" height=\"500\" src=\"https://www.terry.uga.edu/wp-content/uploads/Roberts-Heather_crop-500x500.jpg\" class=\"profile-image rounded-circle img-fluid wp-post-image\" alt=\"Headshot of Heather Roberts\" srcset=\"https://www.terry.uga.edu/wp-content/uploads/Roberts-Heather_crop-500x500.jpg 480w, https://www.terry.uga.edu/wp-content/uploads/Roberts-Heather_crop-500x500.jpg 640w, https://www.terry.uga.edu/wp-content/uploads/Roberts-Heather_crop-500x500.jpg 960w\" decoding=\"async\" /></a></div><div class=\"col-12 col-sm-8\"><a class=\"entry-title\" href=\"https://www.terry.uga.edu/directory/heather-roberts/\">Heather Roberts</a><div class=\"entry-body\"><ul class=\"positions\"><li class=\"position\"><span class=\"position__title\">College Advisor</span>, <span class=\"position__group\">Undergraduate Program in Athens</span></li></ul></div></div>\t</div><!-- .entry-content -->\n",
       "\t</div></div></div>\n",
       "\t</main><!-- #main -->\n",
       "\n",
       "\n",
       "\t<footer id=\"colophon\" class=\"site-footer py-4 bg-primary text-light\">\n",
       "\t\t<div class=\"site-info container\">\n",
       "\t\t\t<div class=\"row\">\n",
       "\t\t\t\t<div class=\"col-12 col-md-4 text-center text-md-start\">\n",
       "\t\t\t\t\t<div>&copy; Terry College of Business</div>\t\t\t\t</div>\n",
       "\t\t\t\t<div class=\"col-12 col-md-4 text-center fs-2\">\n",
       "\t\t\t\t\t<a class=\"text-white\" aria-label=\"Terry College on LinkedIn\" href=\"https://www.linkedin.com/school/university-of-georgia---terry-college-of-business/\"><i class=\"fab fa-fw fa-linkedin\" title=\"LinkedIn\" aria-hidden></i></a><a class=\"text-white\" aria-label=\"Terry College on Instagram\" href=\"https://www.instagram.com/terrycollege/\"><i class=\"fab fa-fw fa-instagram\" title=\"Instagram\" aria-hidden></i></a><a class=\"text-white\" aria-label=\"Terry College on YouTube\" href=\"https://www.youtube.com/terrycollege\"><i class=\"fab fa-fw fa-youtube\" title=\"YouTube\" aria-hidden></i></a><a class=\"text-white\" aria-label=\"Terry College on Facebook\" href=\"https://www.facebook.com/terrycollege\"><i class=\"fab fa-fw fa-facebook\" title=\"Facebook\" aria-hidden></i></a><a class=\"text-white\" aria-label=\"Terry College on Twitter\" href=\"https://twitter.com/TerryCollege\"><i class=\"fab fa-fw fa-x-twitter\" title=\"Twitter\" aria-hidden></i></a>\t\t\t\t</div>\n",
       "\t\t\t\t<div class=\"col-12 col-md-4\">\n",
       "\t\t\t\t\t<div class=\"menu-footer-container\"><ul id=\"footer-nav\" class=\"text-center text-md-end\"><li id=\"menu-item-20947\" class=\"menu-item menu-item-type-post_type menu-item-object-page menu-item-20947\"><a href=\"https://www.terry.uga.edu/contact-us/\">Contact Terry</a></li>\n",
       "<li id=\"menu-item-20948\" class=\"menu-item menu-item-type-post_type menu-item-object-page menu-item-20948\"><a href=\"https://www.terry.uga.edu/contact-us/help/\">Request Terry Support</a></li>\n",
       "<li id=\"menu-item-21446\" class=\"menu-item menu-item-type-custom menu-item-object-custom menu-item-21446\"><a href=\"https://goterry.atlassian.net/wiki/spaces/BC/overview\">Faculty/Staff Resources</a></li>\n",
       "<li id=\"menu-item-20950\" class=\"menu-item menu-item-type-custom menu-item-object-custom menu-item-20950\"><a href=\"/wp-login.php\">Website Login</a></li>\n",
       "</ul></div>\t\t\t\t</div>\n",
       "\t\t\t</div>\n",
       "\t\t</div><!-- .site-info -->\n",
       "\t</footer><!-- #colophon -->\n",
       "\t<!-- \n",
       "\t/* Footer Options\n",
       "\t * By default, footer includes a 4px red top-border.\n",
       "\t *\n",
       "\t * Apply options by including class on .ugafooter object:\n",
       "\t * \n",
       "\t * white border — `ugafooter--border-white`\n",
       "\t * grey border — `ugafooter--border-grey`\n",
       "\t * no border — `ugafooter--no-border`\n",
       " -->\n",
       "<footer class=\"ugafooter ugafooter--no-border\">\n",
       "\t<div class=\"container\">\n",
       "\t\t<div class=\"ugafooter__row ugafooter__row--primary\">                    \n",
       "\t\t\t<div class=\"ugafooter__logo\">\n",
       "\t\t\t   <a class=\"ugafooter__logo-link\" href=\"https://www.uga.edu/\">University of Georgia</a>\n",
       "\t\t\t</div>\n",
       "\t\t\t<nav class=\"ugafooter__links\">\n",
       "\t\t\t\t<ul class=\"ugafooter__links-list\">\n",
       "\t\t\t\t\t<li class=\"ugafooter__links-list-item\">\n",
       "\t\t\t\t\t\t<a class=\"ugafooter__links-list-link\" href=\"https://www.uga.edu/a-z/schools/\">Schools and Colleges</a>\n",
       "\t\t\t\t\t</li>\n",
       "\t\t\t\t\t<li class=\"ugafooter__links-list-item\">\n",
       "\t\t\t\t\t\t<a class=\"ugafooter__links-list-link\" href=\"https://peoplesearch.uga.edu/\">Directory</a>\n",
       "\t\t\t\t\t</li>\n",
       "\t\t\t\t\t<li class=\"ugafooter__links-list-item\">\n",
       "\t\t\t\t\t\t<a class=\"ugafooter__links-list-link\" href=\"https://my.uga.edu/\">MyUGA</a>\n",
       "\t\t\t\t\t</li>\n",
       "\t\t\t\t\t<li class=\"ugafooter__links-list-item\">\n",
       "\t\t\t\t\t\t<a class=\"ugafooter__links-list-link\" href=\"http://hr.uga.edu/applicants/\">Employment Opportunities</a>\n",
       "\t\t\t\t\t</li>\n",
       "\t\t\t\t\t<li class=\"ugafooter__links-list-item\">\n",
       "\t\t\t\t\t\t<a class=\"ugafooter__links-list-link\" href=\"https://mc.uga.edu/policy/trademark\">Copyright and Trademarks</a>\n",
       "\t\t\t\t\t</li>\n",
       "\t\t\t\t\t<li class=\"ugafooter__links-list-item\">\n",
       "\t\t\t\t\t\t<a class=\"ugafooter__links-list-link\" href=\"https://eits.uga.edu/access_and_security/infosec/pols_regs/policies/privacy/\">Privacy</a>\n",
       "\t\t\t\t\t</li>\n",
       "\t\t\t\t\t<li class=\"ugafooter__links-list-item\">\n",
       "\t\t\t\t\t\t<a class=\"ugafooter__links-list-link\" href=\"https://studentcomplaints.uga.edu/\">Submit a Student Complaint</a>\n",
       "\t\t\t\t\t</li>\n",
       "\t\t\t\t</ul>\n",
       "\t\t\t</nav>\n",
       "\t\t</div>\n",
       "\t\t<div class=\"ugafooter__row ugafooter__row--secondary\">\n",
       "\t\t\t<nav class=\"ugafooter__social\">\n",
       "\t\t\t\t<span class=\"ugafooter__social-label\">#UGA on</span>\n",
       "\t\t\t\t<a class=\"ugafooter__social-link\" aria-label=\"UGA on Facebook\" href=\"https://www.facebook.com/universityofga/\">\n",
       "\t\t\t\t\t<i class=\"fab fa-fw fa-facebook-f\" title=\"Facebook\" aria-hidden></i>\n",
       "\t\t\t\t</a>\n",
       "\t\t\t\t<a class=\"ugafooter__social-link\" aria-label=\"UGA on Twitter\" href=\"https://twitter.com/universityofga\">\n",
       "\t\t\t\t\t<i class=\"fab fa-fw fa-x-twitter\" title=\"Twitter\" aria-hidden></i>\n",
       "\t\t\t\t</a>\n",
       "\t\t\t\t<a class=\"ugafooter__social-link\" aria-label=\"UGA on Instagram\" href=\"https://www.instagram.com/universityofga/\">\n",
       "\t\t\t\t\t<i class=\"fab fa-fw fa-instagram\" title=\"Instagram\" aria-hidden></i>\n",
       "\t\t\t\t</a>\n",
       "\t\t\t\t<a class=\"ugafooter__social-link\" aria-label=\"UGA on YouTube\" href=\"https://www.youtube.com/user/UniversityOfGeorgia\">\n",
       "\t\t\t\t\t<i class=\"fab fa-fw fa-youtube\" title=\"YouTube\" aria-hidden></i>\n",
       "\t\t\t\t</a>\n",
       "\t\t\t\t<a class=\"ugafooter__social-link\" aria-label=\"UGA on LinkedIn\" href=\"https://www.linkedin.com/school/university-of-georgia/\">\n",
       "\t\t\t\t\t<i class=\"fab fa-fw fa-linkedin-in\" title=\"LinkedIn\" aria-hidden></i>\n",
       "\t\t\t\t</a>\n",
       "\t\t\t</nav>\n",
       "\t\t\t<div class=\"ugafooter__address\">\n",
       "\t\t\t\t&copy; University of Georgia, Athens, GA 30602<br>\n",
       "\t\t\t\t706&#8209;542&#8209;3000\n",
       "\t\t\t</div>\n",
       "\t\t</div>\n",
       "\t</div>\n",
       "</footer></div><!-- #page -->\n",
       "\n",
       "\n",
       "\n",
       "<script src=\"https://www.terry.uga.edu/wp-content/themes/terry/dist/app.js?ver=1.0.6\" id=\"terry-scripts-js\"></script>\n",
       "<script src=\"https://www.terry.uga.edu/wp-content/plugins/page-links-to/dist/new-tab.js?ver=3.3.6\" id=\"page-links-to-js\"></script>\n",
       "        <script type=\"text/javascript\">\n",
       "            /* <![CDATA[ */\n",
       "           document.querySelectorAll(\"ul.nav-menu\").forEach(\n",
       "               ulist => { \n",
       "                    if (ulist.querySelectorAll(\"li\").length == 0) {\n",
       "                        ulist.style.display = \"none\";\n",
       "\n",
       "                                            } \n",
       "                }\n",
       "           );\n",
       "            /* ]]> */\n",
       "        </script>\n",
       "        \n",
       "</body>\n",
       "</html>\n"
      ],
      "text/plain": [
       "<IPython.core.display.HTML object>"
      ]
     },
     "execution_count": 24,
     "metadata": {},
     "output_type": "execute_result"
    }
   ],
   "source": [
    "HTML(html)"
   ]
  },
  {
   "cell_type": "code",
   "execution_count": 25,
   "metadata": {
    "slideshow": {
     "slide_type": "slide"
    }
   },
   "outputs": [
    {
     "ename": "ParseError",
     "evalue": "syntax error: line 1, column 0 (<string>)",
     "output_type": "error",
     "traceback": [
      "Traceback \u001b[0;36m(most recent call last)\u001b[0m:\n",
      "\u001b[0m  File \u001b[1;32m~/anaconda3/lib/python3.11/site-packages/IPython/core/interactiveshell.py:3505\u001b[0m in \u001b[1;35mrun_code\u001b[0m\n    exec(code_obj, self.user_global_ns, self.user_ns)\u001b[0m\n",
      "\u001b[0m  Cell \u001b[1;32mIn[25], line 1\u001b[0m\n    root = ET.fromstring(html)\u001b[0m\n",
      "\u001b[0;36m  File \u001b[0;32m~/anaconda3/lib/python3.11/xml/etree/ElementTree.py:1338\u001b[0;36m in \u001b[0;35mXML\u001b[0;36m\n\u001b[0;31m    parser.feed(text)\u001b[0;36m\n",
      "\u001b[0;36m  File \u001b[0;32m<string>\u001b[0;36m\u001b[0m\n\u001b[0;31mParseError\u001b[0m\u001b[0;31m:\u001b[0m syntax error: line 1, column 0\n"
     ]
    }
   ],
   "source": [
    "root = ET.fromstring(html)"
   ]
  },
  {
   "cell_type": "code",
   "execution_count": 26,
   "metadata": {
    "slideshow": {
     "slide_type": "slide"
    }
   },
   "outputs": [],
   "source": [
    "soup = BeautifulSoup(html, 'html')"
   ]
  },
  {
   "cell_type": "code",
   "execution_count": 27,
   "metadata": {},
   "outputs": [
    {
     "data": {
      "text/plain": [
       "47"
      ]
     },
     "execution_count": 27,
     "metadata": {},
     "output_type": "execute_result"
    }
   ],
   "source": [
    "\n",
    "names = soup.find_all('a', attrs={'class':'entry-title'}, )\n",
    "names = [name for name in names if name.text != \"\"]\n",
    "urls = [name.attrs['href'] for name in names]\n",
    "names = [name.text for name in names]\n",
    "len(names)"
   ]
  },
  {
   "cell_type": "code",
   "execution_count": 28,
   "metadata": {},
   "outputs": [
    {
     "data": {
      "text/plain": [
       "49"
      ]
     },
     "execution_count": 28,
     "metadata": {},
     "output_type": "execute_result"
    }
   ],
   "source": [
    "positions = soup.find_all('span', attrs={'class':'position__title'})\n",
    "len(positions)"
   ]
  },
  {
   "cell_type": "code",
   "execution_count": null,
   "metadata": {},
   "outputs": [],
   "source": [
    "# lengths of names and postisions do not match, need to find another way"
   ]
  },
  {
   "cell_type": "code",
   "execution_count": 29,
   "metadata": {},
   "outputs": [
    {
     "data": {
      "text/plain": [
       "47"
      ]
     },
     "execution_count": 29,
     "metadata": {},
     "output_type": "execute_result"
    }
   ],
   "source": [
    "cards = soup.find_all('div', attrs={'class':'col-12 col-sm-8'})\n",
    "len(cards)"
   ]
  },
  {
   "cell_type": "code",
   "execution_count": 30,
   "metadata": {},
   "outputs": [],
   "source": [
    "people = []\n",
    "for card in cards:\n",
    "    name=card.find('a', attrs={'class':                          \n",
    "                         'entry-title'}).text\n",
    "    position=card.find('span', attrs={'class':\n",
    "                         'position__title'}).text\n",
    "    person = {'name':name, 'position':position}\n",
    "    people.append(person)\n",
    "#people\n",
    "df = pd.DataFrame(people)"
   ]
  },
  {
   "cell_type": "code",
   "execution_count": 31,
   "metadata": {
    "slideshow": {
     "slide_type": "slide"
    }
   },
   "outputs": [
    {
     "data": {
      "text/html": [
       "<div>\n",
       "<style scoped>\n",
       "    .dataframe tbody tr th:only-of-type {\n",
       "        vertical-align: middle;\n",
       "    }\n",
       "\n",
       "    .dataframe tbody tr th {\n",
       "        vertical-align: top;\n",
       "    }\n",
       "\n",
       "    .dataframe thead th {\n",
       "        text-align: right;\n",
       "    }\n",
       "</style>\n",
       "<table border=\"1\" class=\"dataframe\">\n",
       "  <thead>\n",
       "    <tr style=\"text-align: right;\">\n",
       "      <th></th>\n",
       "      <th>name</th>\n",
       "      <th>position</th>\n",
       "    </tr>\n",
       "  </thead>\n",
       "  <tbody>\n",
       "    <tr>\n",
       "      <th>0</th>\n",
       "      <td>Karen Aguar</td>\n",
       "      <td>Lecturer</td>\n",
       "    </tr>\n",
       "    <tr>\n",
       "      <th>1</th>\n",
       "      <td>Mariana Andrade</td>\n",
       "      <td>Assistant Professor</td>\n",
       "    </tr>\n",
       "    <tr>\n",
       "      <th>2</th>\n",
       "      <td>Marie-Claude (Maric) Boudreau</td>\n",
       "      <td>Associate Professor</td>\n",
       "    </tr>\n",
       "    <tr>\n",
       "      <th>3</th>\n",
       "      <td>Stacy Boyles</td>\n",
       "      <td>Adjunct Lecturer</td>\n",
       "    </tr>\n",
       "    <tr>\n",
       "      <th>4</th>\n",
       "      <td>Dave Chatterjee</td>\n",
       "      <td>Associate Professor</td>\n",
       "    </tr>\n",
       "  </tbody>\n",
       "</table>\n",
       "</div>"
      ],
      "text/plain": [
       "                            name             position\n",
       "0                    Karen Aguar             Lecturer\n",
       "1                Mariana Andrade  Assistant Professor\n",
       "2  Marie-Claude (Maric) Boudreau  Associate Professor\n",
       "3                   Stacy Boyles     Adjunct Lecturer\n",
       "4                Dave Chatterjee  Associate Professor"
      ]
     },
     "execution_count": 31,
     "metadata": {},
     "output_type": "execute_result"
    }
   ],
   "source": [
    "df.head()"
   ]
  },
  {
   "cell_type": "code",
   "execution_count": 33,
   "metadata": {
    "slideshow": {
     "slide_type": "slide"
    }
   },
   "outputs": [
    {
     "data": {
      "text/plain": [
       "7"
      ]
     },
     "execution_count": 33,
     "metadata": {},
     "output_type": "execute_result"
    }
   ],
   "source": [
    "sum(df.position == 'Assistant Professor')"
   ]
  },
  {
   "cell_type": "markdown",
   "metadata": {},
   "source": [
    "## using pandas read_html\n",
    "\n",
    "The web page has to have a table"
   ]
  },
  {
   "cell_type": "code",
   "execution_count": 34,
   "metadata": {},
   "outputs": [
    {
     "data": {
      "text/plain": [
       "200"
      ]
     },
     "execution_count": 34,
     "metadata": {},
     "output_type": "execute_result"
    }
   ],
   "source": [
    "response = requests.get(\"https://sicemdawgs.com/uga-football-roster/\")\n",
    "response.status_code"
   ]
  },
  {
   "cell_type": "code",
   "execution_count": 35,
   "metadata": {},
   "outputs": [],
   "source": [
    "dfs = pd.read_html(response.text)"
   ]
  },
  {
   "cell_type": "code",
   "execution_count": 36,
   "metadata": {},
   "outputs": [
    {
     "data": {
      "text/plain": [
       "list"
      ]
     },
     "execution_count": 36,
     "metadata": {},
     "output_type": "execute_result"
    }
   ],
   "source": [
    "type(dfs)"
   ]
  },
  {
   "cell_type": "code",
   "execution_count": 37,
   "metadata": {},
   "outputs": [
    {
     "data": {
      "text/plain": [
       "1"
      ]
     },
     "execution_count": 37,
     "metadata": {},
     "output_type": "execute_result"
    }
   ],
   "source": [
    "len(dfs)"
   ]
  },
  {
   "cell_type": "code",
   "execution_count": 38,
   "metadata": {
    "scrolled": false
   },
   "outputs": [
    {
     "data": {
      "text/html": [
       "<div>\n",
       "<style scoped>\n",
       "    .dataframe tbody tr th:only-of-type {\n",
       "        vertical-align: middle;\n",
       "    }\n",
       "\n",
       "    .dataframe tbody tr th {\n",
       "        vertical-align: top;\n",
       "    }\n",
       "\n",
       "    .dataframe thead th {\n",
       "        text-align: right;\n",
       "    }\n",
       "</style>\n",
       "<table border=\"1\" class=\"dataframe\">\n",
       "  <thead>\n",
       "    <tr style=\"text-align: right;\">\n",
       "      <th></th>\n",
       "      <th>No.</th>\n",
       "      <th>Name</th>\n",
       "      <th>Pos.</th>\n",
       "      <th>Cl.</th>\n",
       "      <th>Ht.</th>\n",
       "      <th>Wt.</th>\n",
       "      <th>Hometown (High School)</th>\n",
       "    </tr>\n",
       "  </thead>\n",
       "  <tbody>\n",
       "    <tr>\n",
       "      <th>0</th>\n",
       "      <td>0</td>\n",
       "      <td>Troy Bowles</td>\n",
       "      <td>ILB</td>\n",
       "      <td>So.</td>\n",
       "      <td>6-0</td>\n",
       "      <td>220</td>\n",
       "      <td>Tampa, FL (Jesuit)</td>\n",
       "    </tr>\n",
       "    <tr>\n",
       "      <th>1</th>\n",
       "      <td>0</td>\n",
       "      <td>Roderick Robinson II</td>\n",
       "      <td>RB</td>\n",
       "      <td>So.</td>\n",
       "      <td>6-0</td>\n",
       "      <td>240</td>\n",
       "      <td>San Diego, CA (Lincoln)</td>\n",
       "    </tr>\n",
       "    <tr>\n",
       "      <th>2</th>\n",
       "      <td>2</td>\n",
       "      <td>Smael Mondon, Jr.</td>\n",
       "      <td>ILB</td>\n",
       "      <td>Sr.</td>\n",
       "      <td>6-3</td>\n",
       "      <td>225</td>\n",
       "      <td>Dallas, GA (Paulding County)</td>\n",
       "    </tr>\n",
       "    <tr>\n",
       "      <th>3</th>\n",
       "      <td>3</td>\n",
       "      <td>Andrew Paul</td>\n",
       "      <td>RB</td>\n",
       "      <td>RSo.</td>\n",
       "      <td>5-11</td>\n",
       "      <td>218</td>\n",
       "      <td>Dallas, TX (Parish Episcopal School)</td>\n",
       "    </tr>\n",
       "    <tr>\n",
       "      <th>4</th>\n",
       "      <td>4</td>\n",
       "      <td>Oscar Delp</td>\n",
       "      <td>TE</td>\n",
       "      <td>Jr.</td>\n",
       "      <td>6-5</td>\n",
       "      <td>245</td>\n",
       "      <td>Cumming, GA (West Forsyth)</td>\n",
       "    </tr>\n",
       "    <tr>\n",
       "      <th>...</th>\n",
       "      <td>...</td>\n",
       "      <td>...</td>\n",
       "      <td>...</td>\n",
       "      <td>...</td>\n",
       "      <td>...</td>\n",
       "      <td>...</td>\n",
       "      <td>...</td>\n",
       "    </tr>\n",
       "    <tr>\n",
       "      <th>117</th>\n",
       "      <td>—</td>\n",
       "      <td>Henry Waller</td>\n",
       "      <td>DB</td>\n",
       "      <td>RSo.</td>\n",
       "      <td>5-11</td>\n",
       "      <td>170</td>\n",
       "      <td>Evans, GA (W.S. of Augusta)</td>\n",
       "    </tr>\n",
       "    <tr>\n",
       "      <th>118</th>\n",
       "      <td>—</td>\n",
       "      <td>Sacovie White</td>\n",
       "      <td>WR</td>\n",
       "      <td>Fr.</td>\n",
       "      <td>5-9</td>\n",
       "      <td>180</td>\n",
       "      <td>Cartersville, GA (Cass)</td>\n",
       "    </tr>\n",
       "    <tr>\n",
       "      <th>119</th>\n",
       "      <td>—</td>\n",
       "      <td>Justin Williams</td>\n",
       "      <td>ILB</td>\n",
       "      <td>Fr.</td>\n",
       "      <td>6-2</td>\n",
       "      <td>215</td>\n",
       "      <td>Conroe, TX (Oak Ridge)</td>\n",
       "    </tr>\n",
       "    <tr>\n",
       "      <th>120</th>\n",
       "      <td>—</td>\n",
       "      <td>Colbie Young</td>\n",
       "      <td>WR</td>\n",
       "      <td>Sr.</td>\n",
       "      <td>6-3</td>\n",
       "      <td>215</td>\n",
       "      <td>Binghamton, NY (Binghamton)</td>\n",
       "    </tr>\n",
       "    <tr>\n",
       "      <th>121</th>\n",
       "      <td>—</td>\n",
       "      <td>Benjamin Yurosek</td>\n",
       "      <td>TE</td>\n",
       "      <td>GSr.</td>\n",
       "      <td>6-4</td>\n",
       "      <td>242</td>\n",
       "      <td>Bakersfield, CA (Bakersfield Christian)</td>\n",
       "    </tr>\n",
       "  </tbody>\n",
       "</table>\n",
       "<p>122 rows × 7 columns</p>\n",
       "</div>"
      ],
      "text/plain": [
       "    No.                  Name Pos.   Cl.   Ht.  Wt.  \\\n",
       "0     0           Troy Bowles  ILB   So.   6-0  220   \n",
       "1     0  Roderick Robinson II   RB   So.   6-0  240   \n",
       "2     2     Smael Mondon, Jr.  ILB   Sr.   6-3  225   \n",
       "3     3           Andrew Paul   RB  RSo.  5-11  218   \n",
       "4     4            Oscar Delp   TE   Jr.   6-5  245   \n",
       "..   ..                   ...  ...   ...   ...  ...   \n",
       "117   —          Henry Waller   DB  RSo.  5-11  170   \n",
       "118   —         Sacovie White   WR   Fr.   5-9  180   \n",
       "119   —       Justin Williams  ILB   Fr.   6-2  215   \n",
       "120   —          Colbie Young   WR   Sr.   6-3  215   \n",
       "121   —      Benjamin Yurosek   TE  GSr.   6-4  242   \n",
       "\n",
       "                      Hometown (High School)  \n",
       "0                         Tampa, FL (Jesuit)  \n",
       "1                    San Diego, CA (Lincoln)  \n",
       "2               Dallas, GA (Paulding County)  \n",
       "3       Dallas, TX (Parish Episcopal School)  \n",
       "4                 Cumming, GA (West Forsyth)  \n",
       "..                                       ...  \n",
       "117              Evans, GA (W.S. of Augusta)  \n",
       "118                  Cartersville, GA (Cass)  \n",
       "119                   Conroe, TX (Oak Ridge)  \n",
       "120              Binghamton, NY (Binghamton)  \n",
       "121  Bakersfield, CA (Bakersfield Christian)  \n",
       "\n",
       "[122 rows x 7 columns]"
      ]
     },
     "execution_count": 38,
     "metadata": {},
     "output_type": "execute_result"
    }
   ],
   "source": [
    "df1 = dfs[0]\n",
    "df1"
   ]
  },
  {
   "cell_type": "code",
   "execution_count": null,
   "metadata": {},
   "outputs": [],
   "source": []
  }
 ],
 "metadata": {
  "kernelspec": {
   "display_name": "Python 3 (ipykernel)",
   "language": "python",
   "name": "python3"
  },
  "language_info": {
   "codemirror_mode": {
    "name": "ipython",
    "version": 3
   },
   "file_extension": ".py",
   "mimetype": "text/x-python",
   "name": "python",
   "nbconvert_exporter": "python",
   "pygments_lexer": "ipython3",
   "version": "3.11.4"
  }
 },
 "nbformat": 4,
 "nbformat_minor": 2
}
